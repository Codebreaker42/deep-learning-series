{
 "cells": [
  {
   "cell_type": "code",
   "execution_count": 3,
   "metadata": {},
   "outputs": [],
   "source": [
    "import pandas as pd\n",
    "import numpy as np"
   ]
  },
  {
   "cell_type": "code",
   "execution_count": 6,
   "metadata": {},
   "outputs": [],
   "source": [
    "df=pd.read_csv('Social_Network_Ads.csv')"
   ]
  },
  {
   "cell_type": "code",
   "execution_count": 7,
   "metadata": {},
   "outputs": [
    {
     "data": {
      "text/html": [
       "<div>\n",
       "<style scoped>\n",
       "    .dataframe tbody tr th:only-of-type {\n",
       "        vertical-align: middle;\n",
       "    }\n",
       "\n",
       "    .dataframe tbody tr th {\n",
       "        vertical-align: top;\n",
       "    }\n",
       "\n",
       "    .dataframe thead th {\n",
       "        text-align: right;\n",
       "    }\n",
       "</style>\n",
       "<table border=\"1\" class=\"dataframe\">\n",
       "  <thead>\n",
       "    <tr style=\"text-align: right;\">\n",
       "      <th></th>\n",
       "      <th>User ID</th>\n",
       "      <th>Gender</th>\n",
       "      <th>Age</th>\n",
       "      <th>EstimatedSalary</th>\n",
       "      <th>Purchased</th>\n",
       "    </tr>\n",
       "  </thead>\n",
       "  <tbody>\n",
       "    <tr>\n",
       "      <th>0</th>\n",
       "      <td>15624510</td>\n",
       "      <td>Male</td>\n",
       "      <td>19</td>\n",
       "      <td>19000</td>\n",
       "      <td>0</td>\n",
       "    </tr>\n",
       "    <tr>\n",
       "      <th>1</th>\n",
       "      <td>15810944</td>\n",
       "      <td>Male</td>\n",
       "      <td>35</td>\n",
       "      <td>20000</td>\n",
       "      <td>0</td>\n",
       "    </tr>\n",
       "    <tr>\n",
       "      <th>2</th>\n",
       "      <td>15668575</td>\n",
       "      <td>Female</td>\n",
       "      <td>26</td>\n",
       "      <td>43000</td>\n",
       "      <td>0</td>\n",
       "    </tr>\n",
       "    <tr>\n",
       "      <th>3</th>\n",
       "      <td>15603246</td>\n",
       "      <td>Female</td>\n",
       "      <td>27</td>\n",
       "      <td>57000</td>\n",
       "      <td>0</td>\n",
       "    </tr>\n",
       "    <tr>\n",
       "      <th>4</th>\n",
       "      <td>15804002</td>\n",
       "      <td>Male</td>\n",
       "      <td>19</td>\n",
       "      <td>76000</td>\n",
       "      <td>0</td>\n",
       "    </tr>\n",
       "  </tbody>\n",
       "</table>\n",
       "</div>"
      ],
      "text/plain": [
       "    User ID  Gender  Age  EstimatedSalary  Purchased\n",
       "0  15624510    Male   19            19000          0\n",
       "1  15810944    Male   35            20000          0\n",
       "2  15668575  Female   26            43000          0\n",
       "3  15603246  Female   27            57000          0\n",
       "4  15804002    Male   19            76000          0"
      ]
     },
     "execution_count": 7,
     "metadata": {},
     "output_type": "execute_result"
    }
   ],
   "source": [
    "df.head()"
   ]
  },
  {
   "cell_type": "code",
   "execution_count": 8,
   "metadata": {},
   "outputs": [],
   "source": [
    "df=df[['Gender','Age','EstimatedSalary','Purchased']]"
   ]
  },
  {
   "cell_type": "code",
   "execution_count": 9,
   "metadata": {},
   "outputs": [
    {
     "data": {
      "text/html": [
       "<div>\n",
       "<style scoped>\n",
       "    .dataframe tbody tr th:only-of-type {\n",
       "        vertical-align: middle;\n",
       "    }\n",
       "\n",
       "    .dataframe tbody tr th {\n",
       "        vertical-align: top;\n",
       "    }\n",
       "\n",
       "    .dataframe thead th {\n",
       "        text-align: right;\n",
       "    }\n",
       "</style>\n",
       "<table border=\"1\" class=\"dataframe\">\n",
       "  <thead>\n",
       "    <tr style=\"text-align: right;\">\n",
       "      <th></th>\n",
       "      <th>Gender</th>\n",
       "      <th>Age</th>\n",
       "      <th>EstimatedSalary</th>\n",
       "      <th>Purchased</th>\n",
       "    </tr>\n",
       "  </thead>\n",
       "  <tbody>\n",
       "    <tr>\n",
       "      <th>0</th>\n",
       "      <td>Male</td>\n",
       "      <td>19</td>\n",
       "      <td>19000</td>\n",
       "      <td>0</td>\n",
       "    </tr>\n",
       "    <tr>\n",
       "      <th>1</th>\n",
       "      <td>Male</td>\n",
       "      <td>35</td>\n",
       "      <td>20000</td>\n",
       "      <td>0</td>\n",
       "    </tr>\n",
       "    <tr>\n",
       "      <th>2</th>\n",
       "      <td>Female</td>\n",
       "      <td>26</td>\n",
       "      <td>43000</td>\n",
       "      <td>0</td>\n",
       "    </tr>\n",
       "    <tr>\n",
       "      <th>3</th>\n",
       "      <td>Female</td>\n",
       "      <td>27</td>\n",
       "      <td>57000</td>\n",
       "      <td>0</td>\n",
       "    </tr>\n",
       "    <tr>\n",
       "      <th>4</th>\n",
       "      <td>Male</td>\n",
       "      <td>19</td>\n",
       "      <td>76000</td>\n",
       "      <td>0</td>\n",
       "    </tr>\n",
       "  </tbody>\n",
       "</table>\n",
       "</div>"
      ],
      "text/plain": [
       "   Gender  Age  EstimatedSalary  Purchased\n",
       "0    Male   19            19000          0\n",
       "1    Male   35            20000          0\n",
       "2  Female   26            43000          0\n",
       "3  Female   27            57000          0\n",
       "4    Male   19            76000          0"
      ]
     },
     "execution_count": 9,
     "metadata": {},
     "output_type": "execute_result"
    }
   ],
   "source": [
    "df.head()"
   ]
  },
  {
   "cell_type": "code",
   "execution_count": 10,
   "metadata": {},
   "outputs": [],
   "source": [
    "# Gender\n",
    "df['Gender']=df['Gender'].apply(lambda x: 1 if x=='Male' else 0 )"
   ]
  },
  {
   "cell_type": "code",
   "execution_count": 11,
   "metadata": {},
   "outputs": [
    {
     "data": {
      "text/plain": [
       "0      1\n",
       "1      1\n",
       "2      0\n",
       "3      0\n",
       "4      1\n",
       "      ..\n",
       "395    0\n",
       "396    1\n",
       "397    0\n",
       "398    1\n",
       "399    0\n",
       "Name: Gender, Length: 400, dtype: int64"
      ]
     },
     "execution_count": 11,
     "metadata": {},
     "output_type": "execute_result"
    }
   ],
   "source": [
    "df['Gender']"
   ]
  },
  {
   "cell_type": "code",
   "execution_count": 12,
   "metadata": {},
   "outputs": [
    {
     "data": {
      "text/html": [
       "<div>\n",
       "<style scoped>\n",
       "    .dataframe tbody tr th:only-of-type {\n",
       "        vertical-align: middle;\n",
       "    }\n",
       "\n",
       "    .dataframe tbody tr th {\n",
       "        vertical-align: top;\n",
       "    }\n",
       "\n",
       "    .dataframe thead th {\n",
       "        text-align: right;\n",
       "    }\n",
       "</style>\n",
       "<table border=\"1\" class=\"dataframe\">\n",
       "  <thead>\n",
       "    <tr style=\"text-align: right;\">\n",
       "      <th></th>\n",
       "      <th>Gender</th>\n",
       "      <th>Age</th>\n",
       "      <th>EstimatedSalary</th>\n",
       "      <th>Purchased</th>\n",
       "    </tr>\n",
       "  </thead>\n",
       "  <tbody>\n",
       "    <tr>\n",
       "      <th>0</th>\n",
       "      <td>1</td>\n",
       "      <td>19</td>\n",
       "      <td>19000</td>\n",
       "      <td>0</td>\n",
       "    </tr>\n",
       "    <tr>\n",
       "      <th>1</th>\n",
       "      <td>1</td>\n",
       "      <td>35</td>\n",
       "      <td>20000</td>\n",
       "      <td>0</td>\n",
       "    </tr>\n",
       "    <tr>\n",
       "      <th>2</th>\n",
       "      <td>0</td>\n",
       "      <td>26</td>\n",
       "      <td>43000</td>\n",
       "      <td>0</td>\n",
       "    </tr>\n",
       "    <tr>\n",
       "      <th>3</th>\n",
       "      <td>0</td>\n",
       "      <td>27</td>\n",
       "      <td>57000</td>\n",
       "      <td>0</td>\n",
       "    </tr>\n",
       "    <tr>\n",
       "      <th>4</th>\n",
       "      <td>1</td>\n",
       "      <td>19</td>\n",
       "      <td>76000</td>\n",
       "      <td>0</td>\n",
       "    </tr>\n",
       "  </tbody>\n",
       "</table>\n",
       "</div>"
      ],
      "text/plain": [
       "   Gender  Age  EstimatedSalary  Purchased\n",
       "0       1   19            19000          0\n",
       "1       1   35            20000          0\n",
       "2       0   26            43000          0\n",
       "3       0   27            57000          0\n",
       "4       1   19            76000          0"
      ]
     },
     "execution_count": 12,
     "metadata": {},
     "output_type": "execute_result"
    }
   ],
   "source": [
    "df.head()"
   ]
  },
  {
   "cell_type": "markdown",
   "metadata": {},
   "source": [
    "train test split"
   ]
  },
  {
   "cell_type": "code",
   "execution_count": 13,
   "metadata": {},
   "outputs": [],
   "source": [
    "from sklearn.model_selection import train_test_split\n",
    "x_train,x_test,y_train,y_test=train_test_split(df.iloc[:, 0:3], df.iloc[:,-1],test_size=.1, random_state=42)"
   ]
  },
  {
   "cell_type": "code",
   "execution_count": 14,
   "metadata": {},
   "outputs": [
    {
     "data": {
      "text/plain": [
       "(360, 3)"
      ]
     },
     "execution_count": 14,
     "metadata": {},
     "output_type": "execute_result"
    }
   ],
   "source": [
    "x_train.shape"
   ]
  },
  {
   "cell_type": "code",
   "execution_count": 15,
   "metadata": {},
   "outputs": [
    {
     "data": {
      "text/plain": [
       "381    1\n",
       "55     0\n",
       "76     0\n",
       "25     1\n",
       "82     0\n",
       "      ..\n",
       "71     0\n",
       "106    0\n",
       "270    0\n",
       "348    0\n",
       "102    0\n",
       "Name: Purchased, Length: 360, dtype: int64"
      ]
     },
     "execution_count": 15,
     "metadata": {},
     "output_type": "execute_result"
    }
   ],
   "source": [
    "y_train"
   ]
  },
  {
   "cell_type": "markdown",
   "metadata": {},
   "source": [
    "scaling"
   ]
  },
  {
   "cell_type": "code",
   "execution_count": 16,
   "metadata": {},
   "outputs": [],
   "source": [
    "from sklearn.preprocessing import StandardScaler\n",
    "sc=StandardScaler()\n",
    "x_train=sc.fit_transform(x_train)\n",
    "x_test=sc.fit_transform(x_test)"
   ]
  },
  {
   "cell_type": "code",
   "execution_count": 17,
   "metadata": {},
   "outputs": [
    {
     "data": {
      "text/plain": [
       "array([[ 1.0168079 ,  0.99930425, -1.0929077 ],\n",
       "       [-0.98346994, -1.32917168, -0.45206747],\n",
       "       [ 1.0168079 , -1.91129066, -0.53945477],\n",
       "       ...,\n",
       "       [-0.98346994,  0.5142051 ,  1.82000244],\n",
       "       [ 1.0168079 ,  0.12612578,  0.18877276],\n",
       "       [-0.98346994, -0.55301303,  0.45093467]])"
      ]
     },
     "execution_count": 17,
     "metadata": {},
     "output_type": "execute_result"
    }
   ],
   "source": [
    "x_train"
   ]
  },
  {
   "cell_type": "code",
   "execution_count": 18,
   "metadata": {},
   "outputs": [],
   "source": [
    "import tensorflow\n",
    "from tensorflow import keras\n",
    "from tensorflow.keras import Sequential\n",
    "from tensorflow.keras.layers import Dense"
   ]
  },
  {
   "cell_type": "markdown",
   "metadata": {},
   "source": [
    "# stochastic gradient decent"
   ]
  },
  {
   "cell_type": "code",
   "execution_count": 19,
   "metadata": {},
   "outputs": [],
   "source": [
    "model=Sequential()"
   ]
  },
  {
   "cell_type": "code",
   "execution_count": 20,
   "metadata": {},
   "outputs": [],
   "source": [
    "# 1 hidden layer\n",
    "model.add(Dense(10,activation='relu',input_dim=3))\n",
    "# hidden layer 2\n",
    "model.add(Dense(10,activation='relu'))\n",
    "# output layer\n",
    "model.add(Dense(1,activation='sigmoid'))"
   ]
  },
  {
   "cell_type": "code",
   "execution_count": 21,
   "metadata": {},
   "outputs": [
    {
     "name": "stdout",
     "output_type": "stream",
     "text": [
      "Model: \"sequential\"\n",
      "_________________________________________________________________\n",
      " Layer (type)                Output Shape              Param #   \n",
      "=================================================================\n",
      " dense (Dense)               (None, 10)                40        \n",
      "                                                                 \n",
      " dense_1 (Dense)             (None, 10)                110       \n",
      "                                                                 \n",
      " dense_2 (Dense)             (None, 1)                 11        \n",
      "                                                                 \n",
      "=================================================================\n",
      "Total params: 161 (644.00 Byte)\n",
      "Trainable params: 161 (644.00 Byte)\n",
      "Non-trainable params: 0 (0.00 Byte)\n",
      "_________________________________________________________________\n"
     ]
    }
   ],
   "source": [
    "model.summary()"
   ]
  },
  {
   "cell_type": "markdown",
   "metadata": {},
   "source": [
    "model compilation"
   ]
  },
  {
   "cell_type": "code",
   "execution_count": 22,
   "metadata": {},
   "outputs": [],
   "source": [
    "import time"
   ]
  },
  {
   "cell_type": "code",
   "execution_count": 23,
   "metadata": {},
   "outputs": [
    {
     "name": "stdout",
     "output_type": "stream",
     "text": [
      "1698803735.9417748\n",
      "Epoch 1/50\n"
     ]
    },
    {
     "name": "stdout",
     "output_type": "stream",
     "text": [
      "324/324 [==============================] - 2s 3ms/step - loss: 0.6094 - accuracy: 0.7222 - val_loss: 0.5235 - val_accuracy: 0.7500\n",
      "Epoch 2/50\n",
      "324/324 [==============================] - 1s 2ms/step - loss: 0.4390 - accuracy: 0.7932 - val_loss: 0.4309 - val_accuracy: 0.7778\n",
      "Epoch 3/50\n",
      "324/324 [==============================] - 1s 2ms/step - loss: 0.3611 - accuracy: 0.8179 - val_loss: 0.3749 - val_accuracy: 0.8056\n",
      "Epoch 4/50\n",
      "324/324 [==============================] - 1s 2ms/step - loss: 0.3252 - accuracy: 0.8457 - val_loss: 0.3411 - val_accuracy: 0.9167\n",
      "Epoch 5/50\n",
      "324/324 [==============================] - 1s 2ms/step - loss: 0.3048 - accuracy: 0.8765 - val_loss: 0.3159 - val_accuracy: 0.8889\n",
      "Epoch 6/50\n",
      "324/324 [==============================] - 1s 3ms/step - loss: 0.2871 - accuracy: 0.8920 - val_loss: 0.2976 - val_accuracy: 0.8889\n",
      "Epoch 7/50\n",
      "324/324 [==============================] - 1s 3ms/step - loss: 0.2747 - accuracy: 0.9012 - val_loss: 0.2847 - val_accuracy: 0.8889\n",
      "Epoch 8/50\n",
      "324/324 [==============================] - 1s 2ms/step - loss: 0.2654 - accuracy: 0.9043 - val_loss: 0.2801 - val_accuracy: 0.9167\n",
      "Epoch 9/50\n",
      "324/324 [==============================] - 1s 3ms/step - loss: 0.2596 - accuracy: 0.9043 - val_loss: 0.2674 - val_accuracy: 0.9167\n",
      "Epoch 10/50\n",
      "324/324 [==============================] - 1s 3ms/step - loss: 0.2534 - accuracy: 0.9043 - val_loss: 0.2629 - val_accuracy: 0.9167\n",
      "Epoch 11/50\n",
      "324/324 [==============================] - 1s 3ms/step - loss: 0.2513 - accuracy: 0.9074 - val_loss: 0.2600 - val_accuracy: 0.9444\n",
      "Epoch 12/50\n",
      "324/324 [==============================] - 1s 3ms/step - loss: 0.2486 - accuracy: 0.9074 - val_loss: 0.2530 - val_accuracy: 0.9167\n",
      "Epoch 13/50\n",
      "324/324 [==============================] - 1s 3ms/step - loss: 0.2463 - accuracy: 0.9167 - val_loss: 0.2475 - val_accuracy: 0.9167\n",
      "Epoch 14/50\n",
      "324/324 [==============================] - 1s 3ms/step - loss: 0.2452 - accuracy: 0.9105 - val_loss: 0.2494 - val_accuracy: 0.9444\n",
      "Epoch 15/50\n",
      "324/324 [==============================] - 1s 3ms/step - loss: 0.2440 - accuracy: 0.9074 - val_loss: 0.2451 - val_accuracy: 0.9444\n",
      "Epoch 16/50\n",
      "324/324 [==============================] - 1s 2ms/step - loss: 0.2409 - accuracy: 0.9074 - val_loss: 0.2434 - val_accuracy: 0.9444\n",
      "Epoch 17/50\n",
      "324/324 [==============================] - 1s 3ms/step - loss: 0.2404 - accuracy: 0.9136 - val_loss: 0.2424 - val_accuracy: 0.9444\n",
      "Epoch 18/50\n",
      "324/324 [==============================] - 1s 3ms/step - loss: 0.2385 - accuracy: 0.9105 - val_loss: 0.2437 - val_accuracy: 0.9444\n",
      "Epoch 19/50\n",
      "324/324 [==============================] - 1s 3ms/step - loss: 0.2379 - accuracy: 0.9074 - val_loss: 0.2399 - val_accuracy: 0.9444\n",
      "Epoch 20/50\n",
      "324/324 [==============================] - 1s 3ms/step - loss: 0.2368 - accuracy: 0.9105 - val_loss: 0.2381 - val_accuracy: 0.9444\n",
      "Epoch 21/50\n",
      "324/324 [==============================] - 1s 2ms/step - loss: 0.2345 - accuracy: 0.9074 - val_loss: 0.2414 - val_accuracy: 0.9444\n",
      "Epoch 22/50\n",
      "324/324 [==============================] - 1s 2ms/step - loss: 0.2334 - accuracy: 0.9074 - val_loss: 0.2406 - val_accuracy: 0.9444\n",
      "Epoch 23/50\n",
      "324/324 [==============================] - 1s 3ms/step - loss: 0.2316 - accuracy: 0.9105 - val_loss: 0.2403 - val_accuracy: 0.9444\n",
      "Epoch 24/50\n",
      "324/324 [==============================] - 1s 3ms/step - loss: 0.2321 - accuracy: 0.9136 - val_loss: 0.2309 - val_accuracy: 0.9444\n",
      "Epoch 25/50\n",
      "324/324 [==============================] - 1s 3ms/step - loss: 0.2295 - accuracy: 0.9136 - val_loss: 0.2337 - val_accuracy: 0.9444\n",
      "Epoch 26/50\n",
      "324/324 [==============================] - 1s 3ms/step - loss: 0.2289 - accuracy: 0.9136 - val_loss: 0.2313 - val_accuracy: 0.9444\n",
      "Epoch 27/50\n",
      "324/324 [==============================] - 1s 3ms/step - loss: 0.2283 - accuracy: 0.9136 - val_loss: 0.2304 - val_accuracy: 0.9444\n",
      "Epoch 28/50\n",
      "324/324 [==============================] - 1s 2ms/step - loss: 0.2270 - accuracy: 0.9167 - val_loss: 0.2279 - val_accuracy: 0.9444\n",
      "Epoch 29/50\n",
      "324/324 [==============================] - 1s 3ms/step - loss: 0.2268 - accuracy: 0.9167 - val_loss: 0.2298 - val_accuracy: 0.9444\n",
      "Epoch 30/50\n",
      "324/324 [==============================] - 1s 3ms/step - loss: 0.2258 - accuracy: 0.9074 - val_loss: 0.2265 - val_accuracy: 0.9444\n",
      "Epoch 31/50\n",
      "324/324 [==============================] - 1s 2ms/step - loss: 0.2247 - accuracy: 0.9167 - val_loss: 0.2302 - val_accuracy: 0.9444\n",
      "Epoch 32/50\n",
      "324/324 [==============================] - 1s 2ms/step - loss: 0.2235 - accuracy: 0.9136 - val_loss: 0.2428 - val_accuracy: 0.9444\n",
      "Epoch 33/50\n",
      "324/324 [==============================] - 1s 3ms/step - loss: 0.2249 - accuracy: 0.9074 - val_loss: 0.2351 - val_accuracy: 0.9444\n",
      "Epoch 34/50\n",
      "324/324 [==============================] - 1s 3ms/step - loss: 0.2229 - accuracy: 0.9136 - val_loss: 0.2288 - val_accuracy: 0.9444\n",
      "Epoch 35/50\n",
      "324/324 [==============================] - 1s 2ms/step - loss: 0.2226 - accuracy: 0.9136 - val_loss: 0.2308 - val_accuracy: 0.9444\n",
      "Epoch 36/50\n",
      "324/324 [==============================] - 1s 2ms/step - loss: 0.2224 - accuracy: 0.9136 - val_loss: 0.2324 - val_accuracy: 0.9444\n",
      "Epoch 37/50\n",
      "324/324 [==============================] - 1s 3ms/step - loss: 0.2220 - accuracy: 0.9167 - val_loss: 0.2307 - val_accuracy: 0.9444\n",
      "Epoch 38/50\n",
      "324/324 [==============================] - 1s 3ms/step - loss: 0.2204 - accuracy: 0.9136 - val_loss: 0.2314 - val_accuracy: 0.9444\n",
      "Epoch 39/50\n",
      "324/324 [==============================] - 1s 3ms/step - loss: 0.2207 - accuracy: 0.9167 - val_loss: 0.2334 - val_accuracy: 0.9444\n",
      "Epoch 40/50\n",
      "324/324 [==============================] - 1s 3ms/step - loss: 0.2195 - accuracy: 0.9167 - val_loss: 0.2327 - val_accuracy: 0.9444\n",
      "Epoch 41/50\n",
      "324/324 [==============================] - 1s 3ms/step - loss: 0.2185 - accuracy: 0.9105 - val_loss: 0.2328 - val_accuracy: 0.9444\n",
      "Epoch 42/50\n",
      "324/324 [==============================] - 1s 3ms/step - loss: 0.2185 - accuracy: 0.9105 - val_loss: 0.2286 - val_accuracy: 0.9444\n",
      "Epoch 43/50\n",
      "324/324 [==============================] - 1s 3ms/step - loss: 0.2175 - accuracy: 0.9136 - val_loss: 0.2325 - val_accuracy: 0.9444\n",
      "Epoch 44/50\n",
      "324/324 [==============================] - 1s 3ms/step - loss: 0.2160 - accuracy: 0.9105 - val_loss: 0.2282 - val_accuracy: 0.9444\n",
      "Epoch 45/50\n",
      "324/324 [==============================] - 1s 3ms/step - loss: 0.2156 - accuracy: 0.9074 - val_loss: 0.2231 - val_accuracy: 0.9444\n",
      "Epoch 46/50\n",
      "324/324 [==============================] - 1s 2ms/step - loss: 0.2158 - accuracy: 0.9198 - val_loss: 0.2231 - val_accuracy: 0.9444\n",
      "Epoch 47/50\n",
      "324/324 [==============================] - 1s 2ms/step - loss: 0.2138 - accuracy: 0.9105 - val_loss: 0.2301 - val_accuracy: 0.9444\n",
      "Epoch 48/50\n",
      "324/324 [==============================] - 1s 3ms/step - loss: 0.2153 - accuracy: 0.9105 - val_loss: 0.2242 - val_accuracy: 0.9444\n",
      "Epoch 49/50\n",
      "324/324 [==============================] - 1s 2ms/step - loss: 0.2141 - accuracy: 0.9136 - val_loss: 0.2226 - val_accuracy: 0.9444\n",
      "Epoch 50/50\n",
      "324/324 [==============================] - 1s 3ms/step - loss: 0.2132 - accuracy: 0.9167 - val_loss: 0.2192 - val_accuracy: 0.9444\n",
      "43.35854959487915\n"
     ]
    }
   ],
   "source": [
    "model.compile(optimizer='Adam',loss='binary_crossentropy',metrics='accuracy')\n",
    "# history\n",
    "start=time.time()\n",
    "print(start)\n",
    "history=model.fit(x_train,y_train,batch_size=1,epochs=50,validation_split=.1)\n",
    "print(time.time()-start)"
   ]
  },
  {
   "cell_type": "code",
   "execution_count": 24,
   "metadata": {},
   "outputs": [
    {
     "data": {
      "text/plain": [
       "[<matplotlib.lines.Line2D at 0x241b26c81f0>]"
      ]
     },
     "execution_count": 24,
     "metadata": {},
     "output_type": "execute_result"
    },
    {
     "data": {
      "image/png": "[encoded data removed]",
      "text/plain": [
       "<Figure size 640x480 with 1 Axes>"
      ]
     },
     "metadata": {},
     "output_type": "display_data"
    }
   ],
   "source": [
    "import matplotlib.pyplot as plt \n",
    "plt.plot(history.history['loss'])\n",
    "plt.plot(history.history['val_loss'])"
   ]
  },
  {
   "cell_type": "code",
   "execution_count": 25,
   "metadata": {},
   "outputs": [
    {
     "data": {
      "text/plain": [
       "[<matplotlib.lines.Line2D at 0x241b47887f0>]"
      ]
     },
     "execution_count": 25,
     "metadata": {},
     "output_type": "execute_result"
    },
    {
     "data": {
      "image/png": "[encoded data removed]",
      "text/plain": [
       "<Figure size 640x480 with 1 Axes>"
      ]
     },
     "metadata": {},
     "output_type": "display_data"
    }
   ],
   "source": [
    "plt.plot(history.history['accuracy'])\n",
    "plt.plot(history.history['val_accuracy'])"
   ]
  },
  {
   "cell_type": "markdown",
   "metadata": {},
   "source": [
    "# batch gradient decent"
   ]
  },
  {
   "cell_type": "code",
   "execution_count": 26,
   "metadata": {},
   "outputs": [],
   "source": [
    "model2=Sequential()\n",
    "model2.add(Dense(10,activation='relu',input_dim=3))\n",
    "model2.add(Dense(10,activation='relu'))\n",
    "model2.add(Dense(1,activation='sigmoid'))"
   ]
  },
  {
   "cell_type": "code",
   "execution_count": 27,
   "metadata": {},
   "outputs": [
    {
     "name": "stdout",
     "output_type": "stream",
     "text": [
      "Model: \"sequential_1\"\n",
      "_________________________________________________________________\n",
      " Layer (type)                Output Shape              Param #   \n",
      "=================================================================\n",
      " dense_3 (Dense)             (None, 10)                40        \n",
      "                                                                 \n",
      " dense_4 (Dense)             (None, 10)                110       \n",
      "                                                                 \n",
      " dense_5 (Dense)             (None, 1)                 11        \n",
      "                                                                 \n",
      "=================================================================\n",
      "Total params: 161 (644.00 Byte)\n",
      "Trainable params: 161 (644.00 Byte)\n",
      "Non-trainable params: 0 (0.00 Byte)\n",
      "_________________________________________________________________\n"
     ]
    }
   ],
   "source": [
    "model2.summary()"
   ]
  },
  {
   "cell_type": "code",
   "execution_count": 29,
   "metadata": {},
   "outputs": [
    {
     "name": "stdout",
     "output_type": "stream",
     "text": [
      "1698804080.0924056\n",
      "Epoch 1/50\n",
      "7/7 [==============================] - 1s 48ms/step - loss: 0.2902 - accuracy: 0.8951 - val_loss: 0.3317 - val_accuracy: 0.8889\n",
      "Epoch 2/50\n",
      "7/7 [==============================] - 0s 11ms/step - loss: 0.2870 - accuracy: 0.8981 - val_loss: 0.3282 - val_accuracy: 0.8889\n",
      "Epoch 3/50\n",
      "7/7 [==============================] - 0s 13ms/step - loss: 0.2846 - accuracy: 0.8981 - val_loss: 0.3258 - val_accuracy: 0.8889\n",
      "Epoch 4/50\n",
      "7/7 [==============================] - 0s 12ms/step - loss: 0.2825 - accuracy: 0.9012 - val_loss: 0.3240 - val_accuracy: 0.8889\n",
      "Epoch 5/50\n",
      "7/7 [==============================] - 0s 12ms/step - loss: 0.2804 - accuracy: 0.9012 - val_loss: 0.3216 - val_accuracy: 0.8889\n",
      "Epoch 6/50\n",
      "7/7 [==============================] - 0s 11ms/step - loss: 0.2785 - accuracy: 0.8981 - val_loss: 0.3198 - val_accuracy: 0.8889\n",
      "Epoch 7/50\n",
      "7/7 [==============================] - 0s 11ms/step - loss: 0.2769 - accuracy: 0.9012 - val_loss: 0.3176 - val_accuracy: 0.8889\n",
      "Epoch 8/50\n",
      "7/7 [==============================] - 0s 11ms/step - loss: 0.2753 - accuracy: 0.9012 - val_loss: 0.3157 - val_accuracy: 0.8889\n",
      "Epoch 9/50\n",
      "7/7 [==============================] - 0s 10ms/step - loss: 0.2737 - accuracy: 0.9012 - val_loss: 0.3139 - val_accuracy: 0.8889\n",
      "Epoch 10/50\n",
      "7/7 [==============================] - 0s 11ms/step - loss: 0.2721 - accuracy: 0.9012 - val_loss: 0.3127 - val_accuracy: 0.8889\n",
      "Epoch 11/50\n",
      "7/7 [==============================] - 0s 12ms/step - loss: 0.2707 - accuracy: 0.8981 - val_loss: 0.3107 - val_accuracy: 0.8889\n",
      "Epoch 12/50\n",
      "7/7 [==============================] - 0s 12ms/step - loss: 0.2693 - accuracy: 0.8981 - val_loss: 0.3093 - val_accuracy: 0.8889\n",
      "Epoch 13/50\n",
      "7/7 [==============================] - 0s 12ms/step - loss: 0.2681 - accuracy: 0.8981 - val_loss: 0.3075 - val_accuracy: 0.8889\n",
      "Epoch 14/50\n",
      "7/7 [==============================] - 0s 11ms/step - loss: 0.2668 - accuracy: 0.8981 - val_loss: 0.3058 - val_accuracy: 0.8889\n",
      "Epoch 15/50\n",
      "7/7 [==============================] - 0s 11ms/step - loss: 0.2658 - accuracy: 0.8981 - val_loss: 0.3043 - val_accuracy: 0.8889\n",
      "Epoch 16/50\n",
      "7/7 [==============================] - 0s 14ms/step - loss: 0.2644 - accuracy: 0.9012 - val_loss: 0.3029 - val_accuracy: 0.8889\n",
      "Epoch 17/50\n",
      "7/7 [==============================] - 0s 10ms/step - loss: 0.2632 - accuracy: 0.9012 - val_loss: 0.3012 - val_accuracy: 0.8889\n",
      "Epoch 18/50\n",
      "7/7 [==============================] - 0s 11ms/step - loss: 0.2622 - accuracy: 0.9012 - val_loss: 0.3003 - val_accuracy: 0.8889\n",
      "Epoch 19/50\n",
      "7/7 [==============================] - 0s 11ms/step - loss: 0.2610 - accuracy: 0.9012 - val_loss: 0.2989 - val_accuracy: 0.8889\n",
      "Epoch 20/50\n",
      "7/7 [==============================] - 0s 11ms/step - loss: 0.2602 - accuracy: 0.9012 - val_loss: 0.2984 - val_accuracy: 0.9167\n",
      "Epoch 21/50\n",
      "7/7 [==============================] - 0s 10ms/step - loss: 0.2591 - accuracy: 0.9012 - val_loss: 0.2971 - val_accuracy: 0.9167\n",
      "Epoch 22/50\n",
      "7/7 [==============================] - 0s 10ms/step - loss: 0.2583 - accuracy: 0.9012 - val_loss: 0.2961 - val_accuracy: 0.9167\n",
      "Epoch 23/50\n",
      "7/7 [==============================] - 0s 11ms/step - loss: 0.2571 - accuracy: 0.9012 - val_loss: 0.2950 - val_accuracy: 0.9167\n",
      "Epoch 24/50\n",
      "7/7 [==============================] - 0s 10ms/step - loss: 0.2564 - accuracy: 0.9012 - val_loss: 0.2942 - val_accuracy: 0.9167\n",
      "Epoch 25/50\n",
      "7/7 [==============================] - 0s 10ms/step - loss: 0.2557 - accuracy: 0.9012 - val_loss: 0.2928 - val_accuracy: 0.9167\n",
      "Epoch 26/50\n",
      "7/7 [==============================] - 0s 11ms/step - loss: 0.2548 - accuracy: 0.8981 - val_loss: 0.2928 - val_accuracy: 0.9167\n",
      "Epoch 27/50\n",
      "7/7 [==============================] - 0s 10ms/step - loss: 0.2541 - accuracy: 0.8981 - val_loss: 0.2918 - val_accuracy: 0.9167\n",
      "Epoch 28/50\n",
      "7/7 [==============================] - 0s 10ms/step - loss: 0.2532 - accuracy: 0.8981 - val_loss: 0.2910 - val_accuracy: 0.9167\n",
      "Epoch 29/50\n",
      "7/7 [==============================] - 0s 10ms/step - loss: 0.2528 - accuracy: 0.8951 - val_loss: 0.2903 - val_accuracy: 0.9167\n",
      "Epoch 30/50\n",
      "7/7 [==============================] - 0s 11ms/step - loss: 0.2519 - accuracy: 0.8951 - val_loss: 0.2888 - val_accuracy: 0.9167\n",
      "Epoch 31/50\n",
      "7/7 [==============================] - 0s 10ms/step - loss: 0.2510 - accuracy: 0.8951 - val_loss: 0.2878 - val_accuracy: 0.9167\n",
      "Epoch 32/50\n",
      "7/7 [==============================] - 0s 11ms/step - loss: 0.2503 - accuracy: 0.8951 - val_loss: 0.2868 - val_accuracy: 0.9167\n",
      "Epoch 33/50\n",
      "7/7 [==============================] - 0s 10ms/step - loss: 0.2495 - accuracy: 0.8951 - val_loss: 0.2863 - val_accuracy: 0.9167\n",
      "Epoch 34/50\n",
      "7/7 [==============================] - 0s 10ms/step - loss: 0.2490 - accuracy: 0.8981 - val_loss: 0.2856 - val_accuracy: 0.9167\n",
      "Epoch 35/50\n",
      "7/7 [==============================] - 0s 11ms/step - loss: 0.2483 - accuracy: 0.8981 - val_loss: 0.2848 - val_accuracy: 0.9167\n",
      "Epoch 36/50\n",
      "7/7 [==============================] - 0s 10ms/step - loss: 0.2478 - accuracy: 0.8981 - val_loss: 0.2839 - val_accuracy: 0.9167\n",
      "Epoch 37/50\n",
      "7/7 [==============================] - 0s 10ms/step - loss: 0.2472 - accuracy: 0.8981 - val_loss: 0.2836 - val_accuracy: 0.9167\n",
      "Epoch 38/50\n",
      "7/7 [==============================] - 0s 11ms/step - loss: 0.2466 - accuracy: 0.8981 - val_loss: 0.2826 - val_accuracy: 0.9167\n",
      "Epoch 39/50\n",
      "7/7 [==============================] - 0s 11ms/step - loss: 0.2461 - accuracy: 0.8981 - val_loss: 0.2818 - val_accuracy: 0.9167\n",
      "Epoch 40/50\n",
      "7/7 [==============================] - 0s 11ms/step - loss: 0.2455 - accuracy: 0.8981 - val_loss: 0.2811 - val_accuracy: 0.9167\n",
      "Epoch 41/50\n",
      "7/7 [==============================] - 0s 16ms/step - loss: 0.2450 - accuracy: 0.8981 - val_loss: 0.2798 - val_accuracy: 0.9167\n",
      "Epoch 42/50\n",
      "7/7 [==============================] - 0s 11ms/step - loss: 0.2445 - accuracy: 0.8981 - val_loss: 0.2791 - val_accuracy: 0.9167\n",
      "Epoch 43/50\n",
      "7/7 [==============================] - 0s 10ms/step - loss: 0.2442 - accuracy: 0.8981 - val_loss: 0.2782 - val_accuracy: 0.9167\n",
      "Epoch 44/50\n",
      "7/7 [==============================] - 0s 11ms/step - loss: 0.2435 - accuracy: 0.9012 - val_loss: 0.2773 - val_accuracy: 0.9167\n",
      "Epoch 45/50\n",
      "7/7 [==============================] - 0s 11ms/step - loss: 0.2432 - accuracy: 0.9012 - val_loss: 0.2760 - val_accuracy: 0.9167\n",
      "Epoch 46/50\n",
      "7/7 [==============================] - 0s 10ms/step - loss: 0.2426 - accuracy: 0.9012 - val_loss: 0.2751 - val_accuracy: 0.9167\n",
      "Epoch 47/50\n",
      "7/7 [==============================] - 0s 11ms/step - loss: 0.2422 - accuracy: 0.8981 - val_loss: 0.2741 - val_accuracy: 0.9167\n",
      "Epoch 48/50\n",
      "7/7 [==============================] - 0s 10ms/step - loss: 0.2418 - accuracy: 0.8981 - val_loss: 0.2734 - val_accuracy: 0.9167\n",
      "Epoch 49/50\n",
      "7/7 [==============================] - 0s 10ms/step - loss: 0.2417 - accuracy: 0.8981 - val_loss: 0.2734 - val_accuracy: 0.9167\n",
      "Epoch 50/50\n",
      "7/7 [==============================] - 0s 11ms/step - loss: 0.2411 - accuracy: 0.9012 - val_loss: 0.2726 - val_accuracy: 0.9167\n",
      "5.251969814300537\n"
     ]
    }
   ],
   "source": [
    "model2.compile(optimizer='Adam',loss='binary_crossentropy',metrics='accuracy')\n",
    "# history\n",
    "start=time.time()\n",
    "print(start)\n",
    "history=model2.fit(x_train,y_train,batch_size=50,epochs=50,validation_split=.1)\n",
    "print(time.time()-start)"
   ]
  },
  {
   "cell_type": "code",
   "execution_count": 30,
   "metadata": {},
   "outputs": [
    {
     "data": {
      "text/plain": [
       "[<matplotlib.lines.Line2D at 0x241b612a200>]"
      ]
     },
     "execution_count": 30,
     "metadata": {},
     "output_type": "execute_result"
    },
    {
     "data": {
      "image/png": "[encoded data removed]",
      "text/plain": [
       "<Figure size 640x480 with 1 Axes>"
      ]
     },
     "metadata": {},
     "output_type": "display_data"
    }
   ],
   "source": [
    "plt.plot(history.history['loss'])\n",
    "plt.plot(history.history['val_loss'])"
   ]
  },
  {
   "cell_type": "code",
   "execution_count": 31,
   "metadata": {},
   "outputs": [
    {
     "data": {
      "text/plain": [
       "[<matplotlib.lines.Line2D at 0x241b61a4ca0>]"
      ]
     },
     "execution_count": 31,
     "metadata": {},
     "output_type": "execute_result"
    },
    {
     "data": {
      "image/png": "[encoded data removed]",
      "text/plain": [
       "<Figure size 640x480 with 1 Axes>"
      ]
     },
     "metadata": {},
     "output_type": "display_data"
    }
   ],
   "source": [
    "plt.plot(history.history['accuracy'])\n",
    "plt.plot(history.history['val_accuracy'])"
   ]
  },
  {
   "cell_type": "code",
   "execution_count": null,
   "metadata": {},
   "outputs": [],
   "source": []
  }
 ],
 "metadata": {
  "kernelspec": {
   "display_name": "Python 3",
   "language": "python",
   "name": "python3"
  },
  "language_info": {
   "codemirror_mode": {
    "name": "ipython",
    "version": 3
   },
   "file_extension": ".py",
   "mimetype": "text/x-python",
   "name": "python",
   "nbconvert_exporter": "python",
   "pygments_lexer": "ipython3",
   "version": "3.10.11"
  }
 },
 "nbformat": 4,
 "nbformat_minor": 2
}
