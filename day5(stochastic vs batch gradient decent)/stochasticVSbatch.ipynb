{
 "cells": [
  {
   "cell_type": "code",
   "execution_count": 55,
   "metadata": {},
   "outputs": [],
   "source": [
    "import pandas as pd\n",
    "import numpy as np"
   ]
  },
  {
   "cell_type": "code",
   "execution_count": 56,
   "metadata": {},
   "outputs": [],
   "source": [
    "df=pd.read_csv('Social_Network_Ads.csv')"
   ]
  },
  {
   "cell_type": "code",
   "execution_count": 57,
   "metadata": {},
   "outputs": [
    {
     "data": {
      "text/html": [
       "<div>\n",
       "<style scoped>\n",
       "    .dataframe tbody tr th:only-of-type {\n",
       "        vertical-align: middle;\n",
       "    }\n",
       "\n",
       "    .dataframe tbody tr th {\n",
       "        vertical-align: top;\n",
       "    }\n",
       "\n",
       "    .dataframe thead th {\n",
       "        text-align: right;\n",
       "    }\n",
       "</style>\n",
       "<table border=\"1\" class=\"dataframe\">\n",
       "  <thead>\n",
       "    <tr style=\"text-align: right;\">\n",
       "      <th></th>\n",
       "      <th>User ID</th>\n",
       "      <th>Gender</th>\n",
       "      <th>Age</th>\n",
       "      <th>EstimatedSalary</th>\n",
       "      <th>Purchased</th>\n",
       "    </tr>\n",
       "  </thead>\n",
       "  <tbody>\n",
       "    <tr>\n",
       "      <th>0</th>\n",
       "      <td>15624510</td>\n",
       "      <td>Male</td>\n",
       "      <td>19</td>\n",
       "      <td>19000</td>\n",
       "      <td>0</td>\n",
       "    </tr>\n",
       "    <tr>\n",
       "      <th>1</th>\n",
       "      <td>15810944</td>\n",
       "      <td>Male</td>\n",
       "      <td>35</td>\n",
       "      <td>20000</td>\n",
       "      <td>0</td>\n",
       "    </tr>\n",
       "    <tr>\n",
       "      <th>2</th>\n",
       "      <td>15668575</td>\n",
       "      <td>Female</td>\n",
       "      <td>26</td>\n",
       "      <td>43000</td>\n",
       "      <td>0</td>\n",
       "    </tr>\n",
       "    <tr>\n",
       "      <th>3</th>\n",
       "      <td>15603246</td>\n",
       "      <td>Female</td>\n",
       "      <td>27</td>\n",
       "      <td>57000</td>\n",
       "      <td>0</td>\n",
       "    </tr>\n",
       "    <tr>\n",
       "      <th>4</th>\n",
       "      <td>15804002</td>\n",
       "      <td>Male</td>\n",
       "      <td>19</td>\n",
       "      <td>76000</td>\n",
       "      <td>0</td>\n",
       "    </tr>\n",
       "  </tbody>\n",
       "</table>\n",
       "</div>"
      ],
      "text/plain": [
       "    User ID  Gender  Age  EstimatedSalary  Purchased\n",
       "0  15624510    Male   19            19000          0\n",
       "1  15810944    Male   35            20000          0\n",
       "2  15668575  Female   26            43000          0\n",
       "3  15603246  Female   27            57000          0\n",
       "4  15804002    Male   19            76000          0"
      ]
     },
     "execution_count": 57,
     "metadata": {},
     "output_type": "execute_result"
    }
   ],
   "source": [
    "df.head()"
   ]
  },
  {
   "cell_type": "code",
   "execution_count": 58,
   "metadata": {},
   "outputs": [],
   "source": [
    "df=df[['Gender','Age','EstimatedSalary','Purchased']]"
   ]
  },
  {
   "cell_type": "code",
   "execution_count": 59,
   "metadata": {},
   "outputs": [
    {
     "data": {
      "text/html": [
       "<div>\n",
       "<style scoped>\n",
       "    .dataframe tbody tr th:only-of-type {\n",
       "        vertical-align: middle;\n",
       "    }\n",
       "\n",
       "    .dataframe tbody tr th {\n",
       "        vertical-align: top;\n",
       "    }\n",
       "\n",
       "    .dataframe thead th {\n",
       "        text-align: right;\n",
       "    }\n",
       "</style>\n",
       "<table border=\"1\" class=\"dataframe\">\n",
       "  <thead>\n",
       "    <tr style=\"text-align: right;\">\n",
       "      <th></th>\n",
       "      <th>Gender</th>\n",
       "      <th>Age</th>\n",
       "      <th>EstimatedSalary</th>\n",
       "      <th>Purchased</th>\n",
       "    </tr>\n",
       "  </thead>\n",
       "  <tbody>\n",
       "    <tr>\n",
       "      <th>0</th>\n",
       "      <td>Male</td>\n",
       "      <td>19</td>\n",
       "      <td>19000</td>\n",
       "      <td>0</td>\n",
       "    </tr>\n",
       "    <tr>\n",
       "      <th>1</th>\n",
       "      <td>Male</td>\n",
       "      <td>35</td>\n",
       "      <td>20000</td>\n",
       "      <td>0</td>\n",
       "    </tr>\n",
       "    <tr>\n",
       "      <th>2</th>\n",
       "      <td>Female</td>\n",
       "      <td>26</td>\n",
       "      <td>43000</td>\n",
       "      <td>0</td>\n",
       "    </tr>\n",
       "    <tr>\n",
       "      <th>3</th>\n",
       "      <td>Female</td>\n",
       "      <td>27</td>\n",
       "      <td>57000</td>\n",
       "      <td>0</td>\n",
       "    </tr>\n",
       "    <tr>\n",
       "      <th>4</th>\n",
       "      <td>Male</td>\n",
       "      <td>19</td>\n",
       "      <td>76000</td>\n",
       "      <td>0</td>\n",
       "    </tr>\n",
       "  </tbody>\n",
       "</table>\n",
       "</div>"
      ],
      "text/plain": [
       "   Gender  Age  EstimatedSalary  Purchased\n",
       "0    Male   19            19000          0\n",
       "1    Male   35            20000          0\n",
       "2  Female   26            43000          0\n",
       "3  Female   27            57000          0\n",
       "4    Male   19            76000          0"
      ]
     },
     "execution_count": 59,
     "metadata": {},
     "output_type": "execute_result"
    }
   ],
   "source": [
    "df.head()"
   ]
  },
  {
   "cell_type": "code",
   "execution_count": 60,
   "metadata": {},
   "outputs": [],
   "source": [
    "# Gender\n",
    "df['Gender']=df['Gender'].apply(lambda x: 1 if x=='Male' else 0 )"
   ]
  },
  {
   "cell_type": "code",
   "execution_count": 61,
   "metadata": {},
   "outputs": [
    {
     "data": {
      "text/plain": [
       "0      1\n",
       "1      1\n",
       "2      0\n",
       "3      0\n",
       "4      1\n",
       "      ..\n",
       "395    0\n",
       "396    1\n",
       "397    0\n",
       "398    1\n",
       "399    0\n",
       "Name: Gender, Length: 400, dtype: int64"
      ]
     },
     "execution_count": 61,
     "metadata": {},
     "output_type": "execute_result"
    }
   ],
   "source": [
    "df['Gender']"
   ]
  },
  {
   "cell_type": "code",
   "execution_count": 62,
   "metadata": {},
   "outputs": [
    {
     "data": {
      "text/html": [
       "<div>\n",
       "<style scoped>\n",
       "    .dataframe tbody tr th:only-of-type {\n",
       "        vertical-align: middle;\n",
       "    }\n",
       "\n",
       "    .dataframe tbody tr th {\n",
       "        vertical-align: top;\n",
       "    }\n",
       "\n",
       "    .dataframe thead th {\n",
       "        text-align: right;\n",
       "    }\n",
       "</style>\n",
       "<table border=\"1\" class=\"dataframe\">\n",
       "  <thead>\n",
       "    <tr style=\"text-align: right;\">\n",
       "      <th></th>\n",
       "      <th>Gender</th>\n",
       "      <th>Age</th>\n",
       "      <th>EstimatedSalary</th>\n",
       "      <th>Purchased</th>\n",
       "    </tr>\n",
       "  </thead>\n",
       "  <tbody>\n",
       "    <tr>\n",
       "      <th>0</th>\n",
       "      <td>1</td>\n",
       "      <td>19</td>\n",
       "      <td>19000</td>\n",
       "      <td>0</td>\n",
       "    </tr>\n",
       "    <tr>\n",
       "      <th>1</th>\n",
       "      <td>1</td>\n",
       "      <td>35</td>\n",
       "      <td>20000</td>\n",
       "      <td>0</td>\n",
       "    </tr>\n",
       "    <tr>\n",
       "      <th>2</th>\n",
       "      <td>0</td>\n",
       "      <td>26</td>\n",
       "      <td>43000</td>\n",
       "      <td>0</td>\n",
       "    </tr>\n",
       "    <tr>\n",
       "      <th>3</th>\n",
       "      <td>0</td>\n",
       "      <td>27</td>\n",
       "      <td>57000</td>\n",
       "      <td>0</td>\n",
       "    </tr>\n",
       "    <tr>\n",
       "      <th>4</th>\n",
       "      <td>1</td>\n",
       "      <td>19</td>\n",
       "      <td>76000</td>\n",
       "      <td>0</td>\n",
       "    </tr>\n",
       "  </tbody>\n",
       "</table>\n",
       "</div>"
      ],
      "text/plain": [
       "   Gender  Age  EstimatedSalary  Purchased\n",
       "0       1   19            19000          0\n",
       "1       1   35            20000          0\n",
       "2       0   26            43000          0\n",
       "3       0   27            57000          0\n",
       "4       1   19            76000          0"
      ]
     },
     "execution_count": 62,
     "metadata": {},
     "output_type": "execute_result"
    }
   ],
   "source": [
    "df.head()"
   ]
  },
  {
   "cell_type": "markdown",
   "metadata": {},
   "source": [
    "train test split"
   ]
  },
  {
   "cell_type": "code",
   "execution_count": 63,
   "metadata": {},
   "outputs": [],
   "source": [
    "from sklearn.model_selection import train_test_split\n",
    "x_train,x_test,y_train,y_test=train_test_split(df.iloc[:, 0:3], df.iloc[:,-1],test_size=.1, random_state=42)"
   ]
  },
  {
   "cell_type": "code",
   "execution_count": 64,
   "metadata": {},
   "outputs": [
    {
     "data": {
      "text/plain": [
       "(360, 3)"
      ]
     },
     "execution_count": 64,
     "metadata": {},
     "output_type": "execute_result"
    }
   ],
   "source": [
    "x_train.shape"
   ]
  },
  {
   "cell_type": "code",
   "execution_count": 65,
   "metadata": {},
   "outputs": [
    {
     "data": {
      "text/plain": [
       "381    1\n",
       "55     0\n",
       "76     0\n",
       "25     1\n",
       "82     0\n",
       "      ..\n",
       "71     0\n",
       "106    0\n",
       "270    0\n",
       "348    0\n",
       "102    0\n",
       "Name: Purchased, Length: 360, dtype: int64"
      ]
     },
     "execution_count": 65,
     "metadata": {},
     "output_type": "execute_result"
    }
   ],
   "source": [
    "y_train"
   ]
  },
  {
   "cell_type": "markdown",
   "metadata": {},
   "source": [
    "scaling"
   ]
  },
  {
   "cell_type": "code",
   "execution_count": 66,
   "metadata": {},
   "outputs": [],
   "source": [
    "from sklearn.preprocessing import StandardScaler\n",
    "sc=StandardScaler()\n",
    "x_train=sc.fit_transform(x_train)\n",
    "x_test=sc.fit_transform(x_test)"
   ]
  },
  {
   "cell_type": "code",
   "execution_count": 67,
   "metadata": {},
   "outputs": [
    {
     "data": {
      "text/plain": [
       "array([[ 1.0168079 ,  0.99930425, -1.0929077 ],\n",
       "       [-0.98346994, -1.32917168, -0.45206747],\n",
       "       [ 1.0168079 , -1.91129066, -0.53945477],\n",
       "       ...,\n",
       "       [-0.98346994,  0.5142051 ,  1.82000244],\n",
       "       [ 1.0168079 ,  0.12612578,  0.18877276],\n",
       "       [-0.98346994, -0.55301303,  0.45093467]])"
      ]
     },
     "execution_count": 67,
     "metadata": {},
     "output_type": "execute_result"
    }
   ],
   "source": [
    "x_train"
   ]
  },
  {
   "cell_type": "code",
   "execution_count": 68,
   "metadata": {},
   "outputs": [],
   "source": [
    "import tensorflow\n",
    "from tensorflow import keras\n",
    "from tensorflow.keras import Sequential\n",
    "from tensorflow.keras.layers import Dense"
   ]
  },
  {
   "cell_type": "markdown",
   "metadata": {},
   "source": [
    "# stochastic gradient decent"
   ]
  },
  {
   "cell_type": "code",
   "execution_count": 69,
   "metadata": {},
   "outputs": [],
   "source": [
    "model=Sequential()"
   ]
  },
  {
   "cell_type": "code",
   "execution_count": 70,
   "metadata": {},
   "outputs": [],
   "source": [
    "# 1 hidden layer\n",
    "model.add(Dense(10,activation='relu',input_dim=3))\n",
    "# hidden layer 2\n",
    "model.add(Dense(10,activation='relu'))\n",
    "# output layer\n",
    "model.add(Dense(1,activation='sigmoid'))"
   ]
  },
  {
   "cell_type": "code",
   "execution_count": 71,
   "metadata": {},
   "outputs": [
    {
     "name": "stdout",
     "output_type": "stream",
     "text": [
      "Model: \"sequential_3\"\n",
      "_________________________________________________________________\n",
      " Layer (type)                Output Shape              Param #   \n",
      "=================================================================\n",
      " dense_12 (Dense)            (None, 10)                40        \n",
      "                                                                 \n",
      " dense_13 (Dense)            (None, 10)                110       \n",
      "                                                                 \n",
      " dense_14 (Dense)            (None, 1)                 11        \n",
      "                                                                 \n",
      "=================================================================\n",
      "Total params: 161 (644.00 Byte)\n",
      "Trainable params: 161 (644.00 Byte)\n",
      "Non-trainable params: 0 (0.00 Byte)\n",
      "_________________________________________________________________\n"
     ]
    }
   ],
   "source": [
    "model.summary()"
   ]
  },
  {
   "cell_type": "markdown",
   "metadata": {},
   "source": [
    "model compilation"
   ]
  },
  {
   "cell_type": "code",
   "execution_count": 84,
   "metadata": {},
   "outputs": [],
   "source": [
    "import time"
   ]
  },
  {
   "cell_type": "code",
   "execution_count": 86,
   "metadata": {},
   "outputs": [
    {
     "name": "stdout",
     "output_type": "stream",
     "text": [
      "1698751855.2321923\n",
      "Epoch 1/50\n"
     ]
    },
    {
     "name": "stdout",
     "output_type": "stream",
     "text": [
      "324/324 [==============================] - 2s 3ms/step - loss: 0.1998 - accuracy: 0.9136 - val_loss: 0.2604 - val_accuracy: 0.9167\n",
      "Epoch 2/50\n",
      "324/324 [==============================] - 1s 2ms/step - loss: 0.1963 - accuracy: 0.9105 - val_loss: 0.2622 - val_accuracy: 0.8889\n",
      "Epoch 3/50\n",
      "324/324 [==============================] - 1s 2ms/step - loss: 0.1970 - accuracy: 0.9105 - val_loss: 0.2582 - val_accuracy: 0.8889\n",
      "Epoch 4/50\n",
      "324/324 [==============================] - 1s 2ms/step - loss: 0.1983 - accuracy: 0.9105 - val_loss: 0.2604 - val_accuracy: 0.9167\n",
      "Epoch 5/50\n",
      "324/324 [==============================] - 1s 2ms/step - loss: 0.1973 - accuracy: 0.9105 - val_loss: 0.2685 - val_accuracy: 0.9167\n",
      "Epoch 6/50\n",
      "324/324 [==============================] - 1s 2ms/step - loss: 0.1971 - accuracy: 0.9074 - val_loss: 0.2606 - val_accuracy: 0.9167\n",
      "Epoch 7/50\n",
      "324/324 [==============================] - 1s 2ms/step - loss: 0.1967 - accuracy: 0.9136 - val_loss: 0.2728 - val_accuracy: 0.9167\n",
      "Epoch 8/50\n",
      "324/324 [==============================] - 1s 2ms/step - loss: 0.1953 - accuracy: 0.9136 - val_loss: 0.2671 - val_accuracy: 0.8889\n",
      "Epoch 9/50\n",
      "324/324 [==============================] - 1s 2ms/step - loss: 0.1966 - accuracy: 0.9074 - val_loss: 0.2712 - val_accuracy: 0.9167\n",
      "Epoch 10/50\n",
      "324/324 [==============================] - 1s 2ms/step - loss: 0.1962 - accuracy: 0.9043 - val_loss: 0.2715 - val_accuracy: 0.9444\n",
      "Epoch 11/50\n",
      "324/324 [==============================] - 1s 2ms/step - loss: 0.1977 - accuracy: 0.9105 - val_loss: 0.2687 - val_accuracy: 0.9444\n",
      "Epoch 12/50\n",
      "324/324 [==============================] - 1s 2ms/step - loss: 0.1973 - accuracy: 0.9074 - val_loss: 0.2860 - val_accuracy: 0.9444\n",
      "Epoch 13/50\n",
      "324/324 [==============================] - 1s 2ms/step - loss: 0.1956 - accuracy: 0.9167 - val_loss: 0.2768 - val_accuracy: 0.9167\n",
      "Epoch 14/50\n",
      "324/324 [==============================] - 1s 2ms/step - loss: 0.1957 - accuracy: 0.9105 - val_loss: 0.2730 - val_accuracy: 0.9167\n",
      "Epoch 15/50\n",
      "324/324 [==============================] - 1s 2ms/step - loss: 0.1970 - accuracy: 0.9105 - val_loss: 0.2696 - val_accuracy: 0.9444\n",
      "Epoch 16/50\n",
      "324/324 [==============================] - 1s 2ms/step - loss: 0.1981 - accuracy: 0.9136 - val_loss: 0.2693 - val_accuracy: 0.9167\n",
      "Epoch 17/50\n",
      "324/324 [==============================] - 1s 2ms/step - loss: 0.1935 - accuracy: 0.9074 - val_loss: 0.2801 - val_accuracy: 0.9167\n",
      "Epoch 18/50\n",
      "324/324 [==============================] - 1s 2ms/step - loss: 0.1955 - accuracy: 0.9136 - val_loss: 0.2712 - val_accuracy: 0.9167\n",
      "Epoch 19/50\n",
      "324/324 [==============================] - 1s 2ms/step - loss: 0.1949 - accuracy: 0.9105 - val_loss: 0.2720 - val_accuracy: 0.9167\n",
      "Epoch 20/50\n",
      "324/324 [==============================] - 1s 2ms/step - loss: 0.1922 - accuracy: 0.9105 - val_loss: 0.2824 - val_accuracy: 0.9444\n",
      "Epoch 21/50\n",
      "324/324 [==============================] - 1s 2ms/step - loss: 0.1954 - accuracy: 0.9167 - val_loss: 0.2690 - val_accuracy: 0.9444\n",
      "Epoch 22/50\n",
      "324/324 [==============================] - 1s 2ms/step - loss: 0.1939 - accuracy: 0.9136 - val_loss: 0.2765 - val_accuracy: 0.9444\n",
      "Epoch 23/50\n",
      "324/324 [==============================] - 1s 3ms/step - loss: 0.1915 - accuracy: 0.9105 - val_loss: 0.2602 - val_accuracy: 0.9444\n",
      "Epoch 24/50\n",
      "324/324 [==============================] - 1s 2ms/step - loss: 0.1934 - accuracy: 0.9074 - val_loss: 0.2723 - val_accuracy: 0.9167\n",
      "Epoch 25/50\n",
      "324/324 [==============================] - 1s 2ms/step - loss: 0.1919 - accuracy: 0.9136 - val_loss: 0.2762 - val_accuracy: 0.9444\n",
      "Epoch 26/50\n",
      "324/324 [==============================] - 1s 2ms/step - loss: 0.1930 - accuracy: 0.9105 - val_loss: 0.2753 - val_accuracy: 0.9167\n",
      "Epoch 27/50\n",
      "324/324 [==============================] - 1s 2ms/step - loss: 0.1906 - accuracy: 0.9074 - val_loss: 0.2730 - val_accuracy: 0.9444\n",
      "Epoch 28/50\n",
      "324/324 [==============================] - 1s 2ms/step - loss: 0.1939 - accuracy: 0.9136 - val_loss: 0.2728 - val_accuracy: 0.9444\n",
      "Epoch 29/50\n",
      "324/324 [==============================] - 1s 2ms/step - loss: 0.1920 - accuracy: 0.9136 - val_loss: 0.2765 - val_accuracy: 0.9444\n",
      "Epoch 30/50\n",
      "324/324 [==============================] - 1s 2ms/step - loss: 0.1916 - accuracy: 0.9074 - val_loss: 0.2722 - val_accuracy: 0.9444\n",
      "Epoch 31/50\n",
      "324/324 [==============================] - 1s 2ms/step - loss: 0.1904 - accuracy: 0.9105 - val_loss: 0.2717 - val_accuracy: 0.9167\n",
      "Epoch 32/50\n",
      "324/324 [==============================] - 1s 2ms/step - loss: 0.1917 - accuracy: 0.9167 - val_loss: 0.2784 - val_accuracy: 0.9444\n",
      "Epoch 33/50\n",
      "324/324 [==============================] - 1s 2ms/step - loss: 0.1914 - accuracy: 0.9074 - val_loss: 0.2874 - val_accuracy: 0.9444\n",
      "Epoch 34/50\n",
      "324/324 [==============================] - 1s 2ms/step - loss: 0.1910 - accuracy: 0.9136 - val_loss: 0.2870 - val_accuracy: 0.9444\n",
      "Epoch 35/50\n",
      "324/324 [==============================] - 1s 2ms/step - loss: 0.1902 - accuracy: 0.9136 - val_loss: 0.2842 - val_accuracy: 0.9444\n",
      "Epoch 36/50\n",
      "324/324 [==============================] - 1s 2ms/step - loss: 0.1918 - accuracy: 0.9136 - val_loss: 0.2757 - val_accuracy: 0.9444\n",
      "Epoch 37/50\n",
      "324/324 [==============================] - 1s 2ms/step - loss: 0.1902 - accuracy: 0.9043 - val_loss: 0.2816 - val_accuracy: 0.9444\n",
      "Epoch 38/50\n",
      "324/324 [==============================] - 1s 2ms/step - loss: 0.1906 - accuracy: 0.9074 - val_loss: 0.2759 - val_accuracy: 0.9444\n",
      "Epoch 39/50\n",
      "324/324 [==============================] - 1s 2ms/step - loss: 0.1886 - accuracy: 0.9136 - val_loss: 0.2759 - val_accuracy: 0.9444\n",
      "Epoch 40/50\n",
      "324/324 [==============================] - 1s 2ms/step - loss: 0.1900 - accuracy: 0.9105 - val_loss: 0.2734 - val_accuracy: 0.9444\n",
      "Epoch 41/50\n",
      "324/324 [==============================] - 1s 2ms/step - loss: 0.1903 - accuracy: 0.9105 - val_loss: 0.2864 - val_accuracy: 0.9444\n",
      "Epoch 42/50\n",
      "324/324 [==============================] - 1s 2ms/step - loss: 0.1879 - accuracy: 0.9136 - val_loss: 0.2878 - val_accuracy: 0.9444\n",
      "Epoch 43/50\n",
      "324/324 [==============================] - 1s 2ms/step - loss: 0.1901 - accuracy: 0.9105 - val_loss: 0.2855 - val_accuracy: 0.9444\n",
      "Epoch 44/50\n",
      "324/324 [==============================] - 1s 2ms/step - loss: 0.1882 - accuracy: 0.9074 - val_loss: 0.2817 - val_accuracy: 0.9444\n",
      "Epoch 45/50\n",
      "324/324 [==============================] - 1s 2ms/step - loss: 0.1877 - accuracy: 0.9136 - val_loss: 0.2915 - val_accuracy: 0.9444\n",
      "Epoch 46/50\n",
      "324/324 [==============================] - 1s 2ms/step - loss: 0.1865 - accuracy: 0.9043 - val_loss: 0.2907 - val_accuracy: 0.9444\n",
      "Epoch 47/50\n",
      "324/324 [==============================] - 1s 2ms/step - loss: 0.1923 - accuracy: 0.9136 - val_loss: 0.2842 - val_accuracy: 0.9444\n",
      "Epoch 48/50\n",
      "324/324 [==============================] - 1s 2ms/step - loss: 0.1877 - accuracy: 0.9074 - val_loss: 0.2747 - val_accuracy: 0.9444\n",
      "Epoch 49/50\n",
      "324/324 [==============================] - 1s 2ms/step - loss: 0.1884 - accuracy: 0.9136 - val_loss: 0.2911 - val_accuracy: 0.9444\n",
      "Epoch 50/50\n",
      "324/324 [==============================] - 1s 2ms/step - loss: 0.1875 - accuracy: 0.9136 - val_loss: 0.2912 - val_accuracy: 0.9444\n",
      "39.77324199676514\n"
     ]
    }
   ],
   "source": [
    "model.compile(optimizer='Adam',loss='binary_crossentropy',metrics='accuracy')\n",
    "# history\n",
    "start=time.time()\n",
    "print(start)\n",
    "history=model.fit(x_train,y_train,batch_size=1,epochs=50,validation_split=.1)\n",
    "print(time.time()-start)"
   ]
  },
  {
   "cell_type": "code",
   "execution_count": 88,
   "metadata": {},
   "outputs": [
    {
     "data": {
      "text/plain": [
       "[<matplotlib.lines.Line2D at 0x1c1a2aa8130>]"
      ]
     },
     "execution_count": 88,
     "metadata": {},
     "output_type": "execute_result"
    },
    {
     "data": {
      "image/png": "[encoded data removed]",
      "text/plain": [
       "<Figure size 640x480 with 1 Axes>"
      ]
     },
     "metadata": {},
     "output_type": "display_data"
    }
   ],
   "source": [
    "import matplotlib.pyplot as plt \n",
    "plt.plot(history.history['loss'])\n",
    "plt.plot(history.history['val_loss'])"
   ]
  },
  {
   "cell_type": "code",
   "execution_count": 83,
   "metadata": {},
   "outputs": [
    {
     "data": {
      "text/plain": [
       "[<matplotlib.lines.Line2D at 0x1c1a14c4490>]"
      ]
     },
     "execution_count": 83,
     "metadata": {},
     "output_type": "execute_result"
    },
    {
     "data": {
      "image/png": "[encoded data removed]",
      "text/plain": [
       "<Figure size 640x480 with 1 Axes>"
      ]
     },
     "metadata": {},
     "output_type": "display_data"
    }
   ],
   "source": [
    "plt.plot(history.history['accuracy'])\n",
    "plt.plot(history.history['val_accuracy'])"
   ]
  },
  {
   "cell_type": "markdown",
   "metadata": {},
   "source": [
    "# batch gradient decent"
   ]
  }
 ],
 "metadata": {
  "kernelspec": {
   "display_name": "Python 3",
   "language": "python",
   "name": "python3"
  },
  "language_info": {
   "codemirror_mode": {
    "name": "ipython",
    "version": 3
   },
   "file_extension": ".py",
   "mimetype": "text/x-python",
   "name": "python",
   "nbconvert_exporter": "python",
   "pygments_lexer": "ipython3",
   "version": "3.10.11"
  }
 },
 "nbformat": 4,
 "nbformat_minor": 2
}
