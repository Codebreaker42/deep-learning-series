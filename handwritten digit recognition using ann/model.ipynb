{
 "cells": [
  {
   "cell_type": "code",
   "execution_count": 68,
   "metadata": {},
   "outputs": [],
   "source": [
    "import tensorflow as tf \n",
    "from tensorflow.keras.datasets import mnist\n",
    "from tensorflow.keras import Sequential\n",
    "from tensorflow.keras.layers import Dense,Flatten\n",
    "from tensorflow.keras.callbacks import EarlyStopping\n",
    "import matplotlib.pyplot as plt "
   ]
  },
  {
   "cell_type": "code",
   "execution_count": 69,
   "metadata": {},
   "outputs": [],
   "source": [
    "(x_train,y_train),(x_test,y_test)=mnist.load_data()"
   ]
  },
  {
   "cell_type": "code",
   "execution_count": 70,
   "metadata": {},
   "outputs": [
    {
     "data": {
      "text/plain": [
       "(60000, 28, 28)"
      ]
     },
     "execution_count": 70,
     "metadata": {},
     "output_type": "execute_result"
    }
   ],
   "source": [
    "x_train.shape"
   ]
  },
  {
   "cell_type": "code",
   "execution_count": 71,
   "metadata": {},
   "outputs": [
    {
     "data": {
      "text/plain": [
       "(10000, 28, 28)"
      ]
     },
     "execution_count": 71,
     "metadata": {},
     "output_type": "execute_result"
    }
   ],
   "source": [
    "x_test.shape"
   ]
  },
  {
   "cell_type": "code",
   "execution_count": 72,
   "metadata": {},
   "outputs": [
    {
     "data": {
      "text/plain": [
       "(60000,)"
      ]
     },
     "execution_count": 72,
     "metadata": {},
     "output_type": "execute_result"
    }
   ],
   "source": [
    "y_train.shape"
   ]
  },
  {
   "cell_type": "code",
   "execution_count": 73,
   "metadata": {},
   "outputs": [
    {
     "data": {
      "text/plain": [
       "(10000,)"
      ]
     },
     "execution_count": 73,
     "metadata": {},
     "output_type": "execute_result"
    }
   ],
   "source": [
    "y_test.shape"
   ]
  },
  {
   "cell_type": "markdown",
   "metadata": {},
   "source": [
    "image"
   ]
  },
  {
   "cell_type": "code",
   "execution_count": 74,
   "metadata": {},
   "outputs": [
    {
     "data": {
      "text/plain": [
       "<matplotlib.image.AxesImage at 0x2c95c99f610>"
      ]
     },
     "execution_count": 74,
     "metadata": {},
     "output_type": "execute_result"
    },
    {
     "data": {
      "image/png": "[encoded data removed]",
      "text/plain": [
       "<Figure size 640x480 with 1 Axes>"
      ]
     },
     "metadata": {},
     "output_type": "display_data"
    }
   ],
   "source": [
    "plt.imshow(x_train[1])"
   ]
  },
  {
   "cell_type": "markdown",
   "metadata": {},
   "source": [
    "image normalization(value between 0 to 1)"
   ]
  },
  {
   "cell_type": "code",
   "execution_count": 75,
   "metadata": {},
   "outputs": [],
   "source": [
    "def normalize(image):\n",
    "    image=tf.cast(image/255.,tf.float32)\n",
    "    return image\n",
    "x_train=normalize(x_train)\n",
    "x_test=normalize(x_test)"
   ]
  },
  {
   "cell_type": "code",
   "execution_count": 76,
   "metadata": {},
   "outputs": [],
   "source": [
    "model=Sequential()\n",
    "model.add(Flatten(input_shape=(28,28)))\n",
    "model.add(Dense(32,activation='relu'))\n",
    "model.add(Dense(16,activation='relu'))\n",
    "model.add(Dense(10,activation='softmax'))"
   ]
  },
  {
   "cell_type": "code",
   "execution_count": 77,
   "metadata": {},
   "outputs": [
    {
     "name": "stdout",
     "output_type": "stream",
     "text": [
      "Model: \"sequential_3\"\n",
      "_________________________________________________________________\n",
      " Layer (type)                Output Shape              Param #   \n",
      "=================================================================\n",
      " flatten_3 (Flatten)         (None, 784)               0         \n",
      "                                                                 \n",
      " dense_7 (Dense)             (None, 32)                25120     \n",
      "                                                                 \n",
      " dense_8 (Dense)             (None, 16)                528       \n",
      "                                                                 \n",
      " dense_9 (Dense)             (None, 10)                170       \n",
      "                                                                 \n",
      "=================================================================\n",
      "Total params: 25818 (100.85 KB)\n",
      "Trainable params: 25818 (100.85 KB)\n",
      "Non-trainable params: 0 (0.00 Byte)\n",
      "_________________________________________________________________\n"
     ]
    }
   ],
   "source": [
    "# model summary\n",
    "model.summary()"
   ]
  },
  {
   "cell_type": "code",
   "execution_count": 78,
   "metadata": {},
   "outputs": [],
   "source": [
    "earlystop=EarlyStopping()"
   ]
  },
  {
   "cell_type": "code",
   "execution_count": 79,
   "metadata": {},
   "outputs": [],
   "source": [
    "# model compilation\n",
    "model.compile(optimizer='Adam', loss='sparse_categorical_crossentropy',metrics=['accuracy'])"
   ]
  },
  {
   "cell_type": "markdown",
   "metadata": {},
   "source": [
    "model training"
   ]
  },
  {
   "cell_type": "code",
   "execution_count": 101,
   "metadata": {},
   "outputs": [
    {
     "name": "stdout",
     "output_type": "stream",
     "text": [
      "Epoch 1/20\n",
      "1500/1500 [==============================] - 5s 3ms/step - loss: 0.0678 - accuracy: 0.9786 - val_loss: 0.1323 - val_accuracy: 0.9642\n",
      "Epoch 2/20\n",
      "1500/1500 [==============================] - 4s 3ms/step - loss: 0.0638 - accuracy: 0.9802 - val_loss: 0.1264 - val_accuracy: 0.9655\n",
      "Epoch 3/20\n",
      "1500/1500 [==============================] - 4s 3ms/step - loss: 0.0569 - accuracy: 0.9823 - val_loss: 0.1375 - val_accuracy: 0.9635\n",
      "Epoch 4/20\n",
      "1500/1500 [==============================] - 4s 3ms/step - loss: 0.0545 - accuracy: 0.9831 - val_loss: 0.1296 - val_accuracy: 0.9656\n",
      "Epoch 5/20\n",
      "1500/1500 [==============================] - 4s 3ms/step - loss: 0.0505 - accuracy: 0.9838 - val_loss: 0.1353 - val_accuracy: 0.9654\n",
      "Epoch 6/20\n",
      "1500/1500 [==============================] - 4s 3ms/step - loss: 0.0476 - accuracy: 0.9846 - val_loss: 0.1397 - val_accuracy: 0.9635\n",
      "Epoch 7/20\n",
      "1500/1500 [==============================] - 4s 3ms/step - loss: 0.0461 - accuracy: 0.9848 - val_loss: 0.1421 - val_accuracy: 0.9656\n",
      "Epoch 8/20\n",
      "1500/1500 [==============================] - 4s 3ms/step - loss: 0.0416 - accuracy: 0.9865 - val_loss: 0.1452 - val_accuracy: 0.9640\n",
      "Epoch 9/20\n",
      "1500/1500 [==============================] - 4s 3ms/step - loss: 0.0401 - accuracy: 0.9870 - val_loss: 0.1412 - val_accuracy: 0.9644\n",
      "Epoch 10/20\n",
      "1500/1500 [==============================] - 4s 3ms/step - loss: 0.0372 - accuracy: 0.9880 - val_loss: 0.1472 - val_accuracy: 0.9653\n",
      "Epoch 11/20\n",
      "1500/1500 [==============================] - 4s 3ms/step - loss: 0.0367 - accuracy: 0.9878 - val_loss: 0.1535 - val_accuracy: 0.9652\n",
      "Epoch 12/20\n",
      "1500/1500 [==============================] - 4s 3ms/step - loss: 0.0340 - accuracy: 0.9889 - val_loss: 0.1816 - val_accuracy: 0.9592\n",
      "Epoch 13/20\n",
      "1500/1500 [==============================] - 4s 3ms/step - loss: 0.0305 - accuracy: 0.9903 - val_loss: 0.1702 - val_accuracy: 0.9616\n",
      "Epoch 14/20\n",
      "1500/1500 [==============================] - 4s 3ms/step - loss: 0.0323 - accuracy: 0.9894 - val_loss: 0.1735 - val_accuracy: 0.9607\n",
      "Epoch 15/20\n",
      "1500/1500 [==============================] - 4s 3ms/step - loss: 0.0275 - accuracy: 0.9912 - val_loss: 0.1727 - val_accuracy: 0.9623\n",
      "Epoch 16/20\n",
      "1500/1500 [==============================] - 4s 3ms/step - loss: 0.0293 - accuracy: 0.9902 - val_loss: 0.1847 - val_accuracy: 0.9595\n",
      "Epoch 17/20\n",
      "1500/1500 [==============================] - 4s 3ms/step - loss: 0.0273 - accuracy: 0.9910 - val_loss: 0.1684 - val_accuracy: 0.9653\n",
      "Epoch 18/20\n",
      "1500/1500 [==============================] - 4s 3ms/step - loss: 0.0241 - accuracy: 0.9922 - val_loss: 0.1800 - val_accuracy: 0.9638\n",
      "Epoch 19/20\n",
      "1500/1500 [==============================] - 4s 3ms/step - loss: 0.0244 - accuracy: 0.9918 - val_loss: 0.1822 - val_accuracy: 0.9628\n",
      "Epoch 20/20\n",
      "1500/1500 [==============================] - 4s 3ms/step - loss: 0.0235 - accuracy: 0.9920 - val_loss: 0.1922 - val_accuracy: 0.9643\n"
     ]
    }
   ],
   "source": [
    "history=model.fit(x_train,y_train, epochs=20, validation_split=.2,verbose=1)"
   ]
  },
  {
   "cell_type": "code",
   "execution_count": 95,
   "metadata": {},
   "outputs": [
    {
     "data": {
      "text/plain": [
       "[<matplotlib.lines.Line2D at 0x2c96179f670>]"
      ]
     },
     "execution_count": 95,
     "metadata": {},
     "output_type": "execute_result"
    },
    {
     "data": {
      "image/png": "[encoded data removed]",
      "text/plain": [
       "<Figure size 640x480 with 1 Axes>"
      ]
     },
     "metadata": {},
     "output_type": "display_data"
    }
   ],
   "source": [
    "plt.plot(history.history['accuracy'])\n",
    "plt.plot(history.history['val_accuracy'])"
   ]
  },
  {
   "cell_type": "markdown",
   "metadata": {},
   "source": [
    "predicting the probabilty of image be a number"
   ]
  },
  {
   "cell_type": "code",
   "execution_count": 96,
   "metadata": {},
   "outputs": [
    {
     "name": "stdout",
     "output_type": "stream",
     "text": [
      "313/313 [==============================] - 1s 2ms/step\n"
     ]
    }
   ],
   "source": [
    "y_prob=model.predict(x_test)"
   ]
  },
  {
   "cell_type": "markdown",
   "metadata": {},
   "source": [
    "storing result"
   ]
  },
  {
   "cell_type": "code",
   "execution_count": 97,
   "metadata": {},
   "outputs": [],
   "source": [
    "y_pred=y_prob.argmax(axis=1)"
   ]
  },
  {
   "cell_type": "code",
   "execution_count": 98,
   "metadata": {},
   "outputs": [
    {
     "data": {
      "text/plain": [
       "array([1.3812404e-07, 2.9273349e-06, 1.8777605e-04, 3.6138559e-03,\n",
       "       6.8658823e-10, 4.6542435e-04, 2.0856839e-11, 9.9554932e-01,\n",
       "       1.0454097e-05, 1.7018453e-04], dtype=float32)"
      ]
     },
     "execution_count": 98,
     "metadata": {},
     "output_type": "execute_result"
    }
   ],
   "source": [
    "y_prob[0]"
   ]
  },
  {
   "cell_type": "markdown",
   "metadata": {},
   "source": [
    "accuracy"
   ]
  },
  {
   "cell_type": "code",
   "execution_count": 99,
   "metadata": {},
   "outputs": [
    {
     "data": {
      "text/plain": [
       "0.9608"
      ]
     },
     "execution_count": 99,
     "metadata": {},
     "output_type": "execute_result"
    }
   ],
   "source": [
    "from sklearn.metrics import accuracy_score\n",
    "accuracy_score(y_pred,y_test)"
   ]
  },
  {
   "cell_type": "code",
   "execution_count": 93,
   "metadata": {},
   "outputs": [
    {
     "data": {
      "text/plain": [
       "[<matplotlib.lines.Line2D at 0x2c96161de70>]"
      ]
     },
     "execution_count": 93,
     "metadata": {},
     "output_type": "execute_result"
    },
    {
     "data": {
      "image/png": "[encoded data removed]",
      "text/plain": [
       "<Figure size 640x480 with 1 Axes>"
      ]
     },
     "metadata": {},
     "output_type": "display_data"
    }
   ],
   "source": [
    "plt.plot(history.history['loss'])\n",
    "plt.plot(history.history['val_loss'])"
   ]
  }
 ],
 "metadata": {
  "kernelspec": {
   "display_name": "Python 3",
   "language": "python",
   "name": "python3"
  },
  "language_info": {
   "codemirror_mode": {
    "name": "ipython",
    "version": 3
   },
   "file_extension": ".py",
   "mimetype": "text/x-python",
   "name": "python",
   "nbconvert_exporter": "python",
   "pygments_lexer": "ipython3",
   "version": "3.10.11"
  }
 },
 "nbformat": 4,
 "nbformat_minor": 2
}
