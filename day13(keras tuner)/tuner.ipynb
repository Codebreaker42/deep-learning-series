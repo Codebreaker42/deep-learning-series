{
 "cells": [
  {
   "cell_type": "code",
   "execution_count": 1,
   "metadata": {},
   "outputs": [],
   "source": [
    "import pandas as pd \n",
    "import numpy as np\n",
    "import matplotlib.pyplot as plt\n",
    "import seaborn as sns"
   ]
  },
  {
   "cell_type": "code",
   "execution_count": 11,
   "metadata": {},
   "outputs": [],
   "source": [
    "import tensorflow as tf\n",
    "from tensorflow.keras import Sequential\n",
    "from tensorflow.keras.layers import Dense"
   ]
  },
  {
   "cell_type": "code",
   "execution_count": 2,
   "metadata": {},
   "outputs": [],
   "source": [
    "df=pd.read_csv('diabetes.csv')"
   ]
  },
  {
   "cell_type": "code",
   "execution_count": 3,
   "metadata": {},
   "outputs": [
    {
     "data": {
      "text/html": [
       "<div>\n",
       "<style scoped>\n",
       "    .dataframe tbody tr th:only-of-type {\n",
       "        vertical-align: middle;\n",
       "    }\n",
       "\n",
       "    .dataframe tbody tr th {\n",
       "        vertical-align: top;\n",
       "    }\n",
       "\n",
       "    .dataframe thead th {\n",
       "        text-align: right;\n",
       "    }\n",
       "</style>\n",
       "<table border=\"1\" class=\"dataframe\">\n",
       "  <thead>\n",
       "    <tr style=\"text-align: right;\">\n",
       "      <th></th>\n",
       "      <th>Pregnancies</th>\n",
       "      <th>Glucose</th>\n",
       "      <th>BloodPressure</th>\n",
       "      <th>SkinThickness</th>\n",
       "      <th>Insulin</th>\n",
       "      <th>BMI</th>\n",
       "      <th>DiabetesPedigreeFunction</th>\n",
       "      <th>Age</th>\n",
       "      <th>Outcome</th>\n",
       "    </tr>\n",
       "  </thead>\n",
       "  <tbody>\n",
       "    <tr>\n",
       "      <th>0</th>\n",
       "      <td>6</td>\n",
       "      <td>148</td>\n",
       "      <td>72</td>\n",
       "      <td>35</td>\n",
       "      <td>0</td>\n",
       "      <td>33.6</td>\n",
       "      <td>0.627</td>\n",
       "      <td>50</td>\n",
       "      <td>1</td>\n",
       "    </tr>\n",
       "    <tr>\n",
       "      <th>1</th>\n",
       "      <td>1</td>\n",
       "      <td>85</td>\n",
       "      <td>66</td>\n",
       "      <td>29</td>\n",
       "      <td>0</td>\n",
       "      <td>26.6</td>\n",
       "      <td>0.351</td>\n",
       "      <td>31</td>\n",
       "      <td>0</td>\n",
       "    </tr>\n",
       "    <tr>\n",
       "      <th>2</th>\n",
       "      <td>8</td>\n",
       "      <td>183</td>\n",
       "      <td>64</td>\n",
       "      <td>0</td>\n",
       "      <td>0</td>\n",
       "      <td>23.3</td>\n",
       "      <td>0.672</td>\n",
       "      <td>32</td>\n",
       "      <td>1</td>\n",
       "    </tr>\n",
       "    <tr>\n",
       "      <th>3</th>\n",
       "      <td>1</td>\n",
       "      <td>89</td>\n",
       "      <td>66</td>\n",
       "      <td>23</td>\n",
       "      <td>94</td>\n",
       "      <td>28.1</td>\n",
       "      <td>0.167</td>\n",
       "      <td>21</td>\n",
       "      <td>0</td>\n",
       "    </tr>\n",
       "    <tr>\n",
       "      <th>4</th>\n",
       "      <td>0</td>\n",
       "      <td>137</td>\n",
       "      <td>40</td>\n",
       "      <td>35</td>\n",
       "      <td>168</td>\n",
       "      <td>43.1</td>\n",
       "      <td>2.288</td>\n",
       "      <td>33</td>\n",
       "      <td>1</td>\n",
       "    </tr>\n",
       "  </tbody>\n",
       "</table>\n",
       "</div>"
      ],
      "text/plain": [
       "   Pregnancies  Glucose  BloodPressure  SkinThickness  Insulin   BMI  \\\n",
       "0            6      148             72             35        0  33.6   \n",
       "1            1       85             66             29        0  26.6   \n",
       "2            8      183             64              0        0  23.3   \n",
       "3            1       89             66             23       94  28.1   \n",
       "4            0      137             40             35      168  43.1   \n",
       "\n",
       "   DiabetesPedigreeFunction  Age  Outcome  \n",
       "0                     0.627   50        1  \n",
       "1                     0.351   31        0  \n",
       "2                     0.672   32        1  \n",
       "3                     0.167   21        0  \n",
       "4                     2.288   33        1  "
      ]
     },
     "execution_count": 3,
     "metadata": {},
     "output_type": "execute_result"
    }
   ],
   "source": [
    "df.head()"
   ]
  },
  {
   "cell_type": "code",
   "execution_count": 4,
   "metadata": {},
   "outputs": [
    {
     "name": "stdout",
     "output_type": "stream",
     "text": [
      "<class 'pandas.core.frame.DataFrame'>\n",
      "RangeIndex: 768 entries, 0 to 767\n",
      "Data columns (total 9 columns):\n",
      " #   Column                    Non-Null Count  Dtype  \n",
      "---  ------                    --------------  -----  \n",
      " 0   Pregnancies               768 non-null    int64  \n",
      " 1   Glucose                   768 non-null    int64  \n",
      " 2   BloodPressure             768 non-null    int64  \n",
      " 3   SkinThickness             768 non-null    int64  \n",
      " 4   Insulin                   768 non-null    int64  \n",
      " 5   BMI                       768 non-null    float64\n",
      " 6   DiabetesPedigreeFunction  768 non-null    float64\n",
      " 7   Age                       768 non-null    int64  \n",
      " 8   Outcome                   768 non-null    int64  \n",
      "dtypes: float64(2), int64(7)\n",
      "memory usage: 54.1 KB\n"
     ]
    }
   ],
   "source": [
    "df.info()"
   ]
  },
  {
   "cell_type": "code",
   "execution_count": 5,
   "metadata": {},
   "outputs": [],
   "source": [
    "x=df.drop(columns=['Outcome'])\n",
    "y=df['Outcome']"
   ]
  },
  {
   "cell_type": "code",
   "execution_count": 6,
   "metadata": {},
   "outputs": [],
   "source": [
    "from sklearn.model_selection import train_test_split\n",
    "xtrain,xtest,ytrain,ytest=train_test_split(x,y,test_size=.2)\n"
   ]
  },
  {
   "cell_type": "code",
   "execution_count": 7,
   "metadata": {},
   "outputs": [
    {
     "name": "stdout",
     "output_type": "stream",
     "text": [
      "(614, 8)\n",
      "(154, 8)\n",
      "(614,)\n",
      "(154,)\n"
     ]
    }
   ],
   "source": [
    "print(xtrain.shape)\n",
    "print(xtest.shape)\n",
    "print(ytrain.shape)\n",
    "print(ytest.shape)"
   ]
  },
  {
   "cell_type": "code",
   "execution_count": 8,
   "metadata": {},
   "outputs": [],
   "source": [
    "# scaling the data "
   ]
  },
  {
   "cell_type": "code",
   "execution_count": 9,
   "metadata": {},
   "outputs": [],
   "source": [
    "from sklearn.preprocessing import  StandardScaler\n",
    "scale=StandardScaler()\n",
    "xtrain=scale.fit_transform(xtrain)\n",
    "xtest=scale.fit_transform(xtest)"
   ]
  },
  {
   "cell_type": "markdown",
   "metadata": {},
   "source": [
    "# Model without keras tuner"
   ]
  },
  {
   "cell_type": "code",
   "execution_count": 12,
   "metadata": {},
   "outputs": [
    {
     "name": "stdout",
     "output_type": "stream",
     "text": [
      "Model: \"sequential\"\n",
      "_________________________________________________________________\n",
      " Layer (type)                Output Shape              Param #   \n",
      "=================================================================\n",
      " dense (Dense)               (None, 256)               2304      \n",
      "                                                                 \n",
      " dense_1 (Dense)             (None, 128)               32896     \n",
      "                                                                 \n",
      " dense_2 (Dense)             (None, 1)                 129       \n",
      "                                                                 \n",
      "=================================================================\n",
      "Total params: 35329 (138.00 KB)\n",
      "Trainable params: 35329 (138.00 KB)\n",
      "Non-trainable params: 0 (0.00 Byte)\n",
      "_________________________________________________________________\n"
     ]
    }
   ],
   "source": [
    "temp_model=Sequential()\n",
    "temp_model.add(Dense(256,activation='relu',input_dim=8))\n",
    "temp_model.add(Dense(128,activation='relu'))\n",
    "temp_model.add(Dense(1,activation='sigmoid'))\n",
    "temp_model.summary()"
   ]
  },
  {
   "cell_type": "code",
   "execution_count": 15,
   "metadata": {},
   "outputs": [],
   "source": [
    "temp_model.compile(optimizer='adam',loss='binary_crossentropy',metrics=['accuracy'])"
   ]
  },
  {
   "cell_type": "code",
   "execution_count": 16,
   "metadata": {},
   "outputs": [
    {
     "name": "stdout",
     "output_type": "stream",
     "text": [
      "Epoch 1/50\n",
      "20/20 [==============================] - 2s 25ms/step - loss: 0.5792 - accuracy: 0.6938 - val_loss: 0.4737 - val_accuracy: 0.7792\n",
      "Epoch 2/50\n",
      "20/20 [==============================] - 0s 6ms/step - loss: 0.4735 - accuracy: 0.7736 - val_loss: 0.4415 - val_accuracy: 0.7662\n",
      "Epoch 3/50\n",
      "20/20 [==============================] - 0s 6ms/step - loss: 0.4562 - accuracy: 0.7752 - val_loss: 0.4436 - val_accuracy: 0.7727\n",
      "Epoch 4/50\n",
      "20/20 [==============================] - 0s 9ms/step - loss: 0.4477 - accuracy: 0.7915 - val_loss: 0.4465 - val_accuracy: 0.8052\n",
      "Epoch 5/50\n",
      "20/20 [==============================] - 0s 5ms/step - loss: 0.4378 - accuracy: 0.7883 - val_loss: 0.4496 - val_accuracy: 0.7857\n",
      "Epoch 6/50\n",
      "20/20 [==============================] - 0s 6ms/step - loss: 0.4382 - accuracy: 0.7883 - val_loss: 0.4481 - val_accuracy: 0.8052\n",
      "Epoch 7/50\n",
      "20/20 [==============================] - 0s 6ms/step - loss: 0.4254 - accuracy: 0.7980 - val_loss: 0.4485 - val_accuracy: 0.7987\n",
      "Epoch 8/50\n",
      "20/20 [==============================] - 0s 6ms/step - loss: 0.4170 - accuracy: 0.7932 - val_loss: 0.4490 - val_accuracy: 0.8052\n",
      "Epoch 9/50\n",
      "20/20 [==============================] - 0s 6ms/step - loss: 0.4135 - accuracy: 0.7980 - val_loss: 0.4540 - val_accuracy: 0.7922\n",
      "Epoch 10/50\n",
      "20/20 [==============================] - 0s 6ms/step - loss: 0.4092 - accuracy: 0.8176 - val_loss: 0.4672 - val_accuracy: 0.7857\n",
      "Epoch 11/50\n",
      "20/20 [==============================] - 0s 6ms/step - loss: 0.4046 - accuracy: 0.8127 - val_loss: 0.4813 - val_accuracy: 0.7727\n",
      "Epoch 12/50\n",
      "20/20 [==============================] - 0s 5ms/step - loss: 0.3966 - accuracy: 0.8078 - val_loss: 0.4621 - val_accuracy: 0.7857\n",
      "Epoch 13/50\n",
      "20/20 [==============================] - 0s 6ms/step - loss: 0.3905 - accuracy: 0.8241 - val_loss: 0.4609 - val_accuracy: 0.7727\n",
      "Epoch 14/50\n",
      "20/20 [==============================] - 0s 6ms/step - loss: 0.3889 - accuracy: 0.8160 - val_loss: 0.4692 - val_accuracy: 0.7857\n",
      "Epoch 15/50\n",
      "20/20 [==============================] - 0s 6ms/step - loss: 0.3821 - accuracy: 0.8192 - val_loss: 0.4719 - val_accuracy: 0.7922\n",
      "Epoch 16/50\n",
      "20/20 [==============================] - 0s 6ms/step - loss: 0.3787 - accuracy: 0.8290 - val_loss: 0.4709 - val_accuracy: 0.7987\n",
      "Epoch 17/50\n",
      "20/20 [==============================] - 0s 6ms/step - loss: 0.3699 - accuracy: 0.8290 - val_loss: 0.4706 - val_accuracy: 0.7922\n",
      "Epoch 18/50\n",
      "20/20 [==============================] - 0s 5ms/step - loss: 0.3780 - accuracy: 0.8192 - val_loss: 0.4706 - val_accuracy: 0.7792\n",
      "Epoch 19/50\n",
      "20/20 [==============================] - 0s 5ms/step - loss: 0.3672 - accuracy: 0.8241 - val_loss: 0.4743 - val_accuracy: 0.7792\n",
      "Epoch 20/50\n",
      "20/20 [==============================] - 0s 6ms/step - loss: 0.3577 - accuracy: 0.8306 - val_loss: 0.4757 - val_accuracy: 0.7857\n",
      "Epoch 21/50\n",
      "20/20 [==============================] - 0s 6ms/step - loss: 0.3538 - accuracy: 0.8469 - val_loss: 0.4958 - val_accuracy: 0.7922\n",
      "Epoch 22/50\n",
      "20/20 [==============================] - 0s 6ms/step - loss: 0.3487 - accuracy: 0.8339 - val_loss: 0.4913 - val_accuracy: 0.7727\n",
      "Epoch 23/50\n",
      "20/20 [==============================] - 0s 6ms/step - loss: 0.3438 - accuracy: 0.8339 - val_loss: 0.4902 - val_accuracy: 0.7792\n",
      "Epoch 24/50\n",
      "20/20 [==============================] - 0s 5ms/step - loss: 0.3468 - accuracy: 0.8550 - val_loss: 0.4818 - val_accuracy: 0.7662\n",
      "Epoch 25/50\n",
      "20/20 [==============================] - 0s 5ms/step - loss: 0.3418 - accuracy: 0.8485 - val_loss: 0.4894 - val_accuracy: 0.7792\n",
      "Epoch 26/50\n",
      "20/20 [==============================] - 0s 5ms/step - loss: 0.3304 - accuracy: 0.8567 - val_loss: 0.5069 - val_accuracy: 0.7792\n",
      "Epoch 27/50\n",
      "20/20 [==============================] - 0s 6ms/step - loss: 0.3246 - accuracy: 0.8453 - val_loss: 0.5070 - val_accuracy: 0.7857\n",
      "Epoch 28/50\n",
      "20/20 [==============================] - 0s 7ms/step - loss: 0.3223 - accuracy: 0.8648 - val_loss: 0.5086 - val_accuracy: 0.7857\n",
      "Epoch 29/50\n",
      "20/20 [==============================] - 0s 6ms/step - loss: 0.3191 - accuracy: 0.8664 - val_loss: 0.5167 - val_accuracy: 0.7662\n",
      "Epoch 30/50\n",
      "20/20 [==============================] - 0s 5ms/step - loss: 0.3089 - accuracy: 0.8648 - val_loss: 0.5159 - val_accuracy: 0.7727\n",
      "Epoch 31/50\n",
      "20/20 [==============================] - 0s 8ms/step - loss: 0.3098 - accuracy: 0.8664 - val_loss: 0.5303 - val_accuracy: 0.7727\n",
      "Epoch 32/50\n",
      "20/20 [==============================] - 0s 6ms/step - loss: 0.3077 - accuracy: 0.8779 - val_loss: 0.5302 - val_accuracy: 0.7662\n",
      "Epoch 33/50\n",
      "20/20 [==============================] - 0s 6ms/step - loss: 0.2941 - accuracy: 0.8762 - val_loss: 0.5307 - val_accuracy: 0.7727\n",
      "Epoch 34/50\n",
      "20/20 [==============================] - 0s 6ms/step - loss: 0.2897 - accuracy: 0.8779 - val_loss: 0.5381 - val_accuracy: 0.7792\n",
      "Epoch 35/50\n",
      "20/20 [==============================] - 0s 5ms/step - loss: 0.2893 - accuracy: 0.8746 - val_loss: 0.5302 - val_accuracy: 0.7597\n",
      "Epoch 36/50\n",
      "20/20 [==============================] - 0s 6ms/step - loss: 0.2782 - accuracy: 0.8876 - val_loss: 0.5453 - val_accuracy: 0.7597\n",
      "Epoch 37/50\n",
      "20/20 [==============================] - 0s 6ms/step - loss: 0.2868 - accuracy: 0.8762 - val_loss: 0.5750 - val_accuracy: 0.7468\n",
      "Epoch 38/50\n",
      "20/20 [==============================] - 0s 5ms/step - loss: 0.2749 - accuracy: 0.8860 - val_loss: 0.5555 - val_accuracy: 0.7597\n",
      "Epoch 39/50\n",
      "20/20 [==============================] - 0s 5ms/step - loss: 0.2855 - accuracy: 0.8844 - val_loss: 0.5486 - val_accuracy: 0.7727\n",
      "Epoch 40/50\n",
      "20/20 [==============================] - 0s 5ms/step - loss: 0.2655 - accuracy: 0.8941 - val_loss: 0.5665 - val_accuracy: 0.7792\n",
      "Epoch 41/50\n",
      "20/20 [==============================] - 0s 5ms/step - loss: 0.2587 - accuracy: 0.9039 - val_loss: 0.5568 - val_accuracy: 0.7597\n",
      "Epoch 42/50\n",
      "20/20 [==============================] - 0s 5ms/step - loss: 0.2626 - accuracy: 0.9169 - val_loss: 0.5609 - val_accuracy: 0.7727\n",
      "Epoch 43/50\n",
      "20/20 [==============================] - 0s 6ms/step - loss: 0.2534 - accuracy: 0.9088 - val_loss: 0.5865 - val_accuracy: 0.7532\n",
      "Epoch 44/50\n",
      "20/20 [==============================] - 0s 5ms/step - loss: 0.2415 - accuracy: 0.9055 - val_loss: 0.5755 - val_accuracy: 0.7662\n",
      "Epoch 45/50\n",
      "20/20 [==============================] - 0s 5ms/step - loss: 0.2355 - accuracy: 0.9202 - val_loss: 0.6032 - val_accuracy: 0.7597\n",
      "Epoch 46/50\n",
      "20/20 [==============================] - 0s 5ms/step - loss: 0.2312 - accuracy: 0.9121 - val_loss: 0.5919 - val_accuracy: 0.7662\n",
      "Epoch 47/50\n",
      "20/20 [==============================] - 0s 5ms/step - loss: 0.2395 - accuracy: 0.9137 - val_loss: 0.6291 - val_accuracy: 0.7532\n",
      "Epoch 48/50\n",
      "20/20 [==============================] - 0s 6ms/step - loss: 0.2493 - accuracy: 0.8990 - val_loss: 0.6011 - val_accuracy: 0.7597\n",
      "Epoch 49/50\n",
      "20/20 [==============================] - 0s 7ms/step - loss: 0.2319 - accuracy: 0.9104 - val_loss: 0.6506 - val_accuracy: 0.7792\n",
      "Epoch 50/50\n",
      "20/20 [==============================] - 0s 5ms/step - loss: 0.2301 - accuracy: 0.9055 - val_loss: 0.6165 - val_accuracy: 0.7597\n"
     ]
    },
    {
     "data": {
      "text/plain": [
       "<keras.src.callbacks.History at 0x24ed8f7dd80>"
      ]
     },
     "execution_count": 16,
     "metadata": {},
     "output_type": "execute_result"
    }
   ],
   "source": [
    "temp_model.fit(xtrain,ytrain,validation_data=(xtest,ytest),epochs=50)"
   ]
  },
  {
   "cell_type": "markdown",
   "metadata": {},
   "source": [
    "So problems in this model is we dont able to know:"
   ]
  },
  {
   "cell_type": "markdown",
   "metadata": {},
   "source": [
    "- how many layers we have to add"
   ]
  },
  {
   "cell_type": "markdown",
   "metadata": {},
   "source": [
    "- how many node a particular layer have"
   ]
  },
  {
   "cell_type": "markdown",
   "metadata": {},
   "source": [
    "- which loss function is best for each layer"
   ]
  },
  {
   "cell_type": "markdown",
   "metadata": {},
   "source": [
    "- which activation function is suitable for every layer"
   ]
  },
  {
   "cell_type": "markdown",
   "metadata": {},
   "source": [
    "- how many epoch the model have to train "
   ]
  },
  {
   "cell_type": "markdown",
   "metadata": {},
   "source": [
    "Here the keras tuner is came into the picture"
   ]
  },
  {
   "cell_type": "markdown",
   "metadata": {},
   "source": [
    "# Model with keras tuner"
   ]
  },
  {
   "cell_type": "code",
   "execution_count": 17,
   "metadata": {},
   "outputs": [
    {
     "name": "stderr",
     "output_type": "stream",
     "text": [
      "C:\\Users\\Asus\\AppData\\Local\\Temp\\ipykernel_17404\\1654478174.py:1: DeprecationWarning: `import kerastuner` is deprecated, please use `import keras_tuner`.\n",
      "  import kerastuner as kt\n"
     ]
    }
   ],
   "source": [
    "import kerastuner as kt"
   ]
  },
  {
   "cell_type": "markdown",
   "metadata": {},
   "source": [
    "there are 3 steps "
   ]
  },
  {
   "cell_type": "markdown",
   "metadata": {},
   "source": [
    "- first is you have to make a function named \"build_model(hp)\" // where hp is the object(hyperparameter)"
   ]
  },
  {
   "cell_type": "markdown",
   "metadata": {},
   "source": [
    "- second is you have to make \"tuner object\" of a class RandomSearch()"
   ]
  },
  {
   "cell_type": "markdown",
   "metadata": {},
   "source": [
    "- you have to call the \"search()\" function using tuner object"
   ]
  },
  {
   "cell_type": "markdown",
   "metadata": {},
   "source": [
    "## how to tune the appropriate optimizer"
   ]
  },
  {
   "cell_type": "markdown",
   "metadata": {},
   "source": [
    "- step1: build_model()"
   ]
  },
  {
   "cell_type": "code",
   "execution_count": null,
   "metadata": {},
   "outputs": [],
   "source": [
    "def build_model(hp):\n",
    "    pass"
   ]
  }
 ],
 "metadata": {
  "kernelspec": {
   "display_name": "Python 3",
   "language": "python",
   "name": "python3"
  },
  "language_info": {
   "codemirror_mode": {
    "name": "ipython",
    "version": 3
   },
   "file_extension": ".py",
   "mimetype": "text/x-python",
   "name": "python",
   "nbconvert_exporter": "python",
   "pygments_lexer": "ipython3",
   "version": "3.10.11"
  }
 },
 "nbformat": 4,
 "nbformat_minor": 2
}
