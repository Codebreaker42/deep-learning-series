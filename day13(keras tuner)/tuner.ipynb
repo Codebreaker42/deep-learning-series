{
 "cells": [
  {
   "cell_type": "code",
   "execution_count": 2,
   "metadata": {},
   "outputs": [],
   "source": [
    "import pandas as pd \n",
    "import numpy as np\n",
    "import matplotlib.pyplot as plt\n",
    "import seaborn as sns"
   ]
  },
  {
   "cell_type": "code",
   "execution_count": 40,
   "metadata": {},
   "outputs": [],
   "source": [
    "import tensorflow as tf\n",
    "from tensorflow.keras import Sequential\n",
    "from tensorflow.keras.layers import Dense,Dropout"
   ]
  },
  {
   "cell_type": "code",
   "execution_count": 4,
   "metadata": {},
   "outputs": [],
   "source": [
    "df=pd.read_csv('diabetes.csv')"
   ]
  },
  {
   "cell_type": "code",
   "execution_count": 5,
   "metadata": {},
   "outputs": [
    {
     "data": {
      "text/html": [
       "<div>\n",
       "<style scoped>\n",
       "    .dataframe tbody tr th:only-of-type {\n",
       "        vertical-align: middle;\n",
       "    }\n",
       "\n",
       "    .dataframe tbody tr th {\n",
       "        vertical-align: top;\n",
       "    }\n",
       "\n",
       "    .dataframe thead th {\n",
       "        text-align: right;\n",
       "    }\n",
       "</style>\n",
       "<table border=\"1\" class=\"dataframe\">\n",
       "  <thead>\n",
       "    <tr style=\"text-align: right;\">\n",
       "      <th></th>\n",
       "      <th>Pregnancies</th>\n",
       "      <th>Glucose</th>\n",
       "      <th>BloodPressure</th>\n",
       "      <th>SkinThickness</th>\n",
       "      <th>Insulin</th>\n",
       "      <th>BMI</th>\n",
       "      <th>DiabetesPedigreeFunction</th>\n",
       "      <th>Age</th>\n",
       "      <th>Outcome</th>\n",
       "    </tr>\n",
       "  </thead>\n",
       "  <tbody>\n",
       "    <tr>\n",
       "      <th>0</th>\n",
       "      <td>6</td>\n",
       "      <td>148</td>\n",
       "      <td>72</td>\n",
       "      <td>35</td>\n",
       "      <td>0</td>\n",
       "      <td>33.6</td>\n",
       "      <td>0.627</td>\n",
       "      <td>50</td>\n",
       "      <td>1</td>\n",
       "    </tr>\n",
       "    <tr>\n",
       "      <th>1</th>\n",
       "      <td>1</td>\n",
       "      <td>85</td>\n",
       "      <td>66</td>\n",
       "      <td>29</td>\n",
       "      <td>0</td>\n",
       "      <td>26.6</td>\n",
       "      <td>0.351</td>\n",
       "      <td>31</td>\n",
       "      <td>0</td>\n",
       "    </tr>\n",
       "    <tr>\n",
       "      <th>2</th>\n",
       "      <td>8</td>\n",
       "      <td>183</td>\n",
       "      <td>64</td>\n",
       "      <td>0</td>\n",
       "      <td>0</td>\n",
       "      <td>23.3</td>\n",
       "      <td>0.672</td>\n",
       "      <td>32</td>\n",
       "      <td>1</td>\n",
       "    </tr>\n",
       "    <tr>\n",
       "      <th>3</th>\n",
       "      <td>1</td>\n",
       "      <td>89</td>\n",
       "      <td>66</td>\n",
       "      <td>23</td>\n",
       "      <td>94</td>\n",
       "      <td>28.1</td>\n",
       "      <td>0.167</td>\n",
       "      <td>21</td>\n",
       "      <td>0</td>\n",
       "    </tr>\n",
       "    <tr>\n",
       "      <th>4</th>\n",
       "      <td>0</td>\n",
       "      <td>137</td>\n",
       "      <td>40</td>\n",
       "      <td>35</td>\n",
       "      <td>168</td>\n",
       "      <td>43.1</td>\n",
       "      <td>2.288</td>\n",
       "      <td>33</td>\n",
       "      <td>1</td>\n",
       "    </tr>\n",
       "  </tbody>\n",
       "</table>\n",
       "</div>"
      ],
      "text/plain": [
       "   Pregnancies  Glucose  BloodPressure  SkinThickness  Insulin   BMI  \\\n",
       "0            6      148             72             35        0  33.6   \n",
       "1            1       85             66             29        0  26.6   \n",
       "2            8      183             64              0        0  23.3   \n",
       "3            1       89             66             23       94  28.1   \n",
       "4            0      137             40             35      168  43.1   \n",
       "\n",
       "   DiabetesPedigreeFunction  Age  Outcome  \n",
       "0                     0.627   50        1  \n",
       "1                     0.351   31        0  \n",
       "2                     0.672   32        1  \n",
       "3                     0.167   21        0  \n",
       "4                     2.288   33        1  "
      ]
     },
     "execution_count": 5,
     "metadata": {},
     "output_type": "execute_result"
    }
   ],
   "source": [
    "df.head()"
   ]
  },
  {
   "cell_type": "code",
   "execution_count": 6,
   "metadata": {},
   "outputs": [
    {
     "name": "stdout",
     "output_type": "stream",
     "text": [
      "<class 'pandas.core.frame.DataFrame'>\n",
      "RangeIndex: 768 entries, 0 to 767\n",
      "Data columns (total 9 columns):\n",
      " #   Column                    Non-Null Count  Dtype  \n",
      "---  ------                    --------------  -----  \n",
      " 0   Pregnancies               768 non-null    int64  \n",
      " 1   Glucose                   768 non-null    int64  \n",
      " 2   BloodPressure             768 non-null    int64  \n",
      " 3   SkinThickness             768 non-null    int64  \n",
      " 4   Insulin                   768 non-null    int64  \n",
      " 5   BMI                       768 non-null    float64\n",
      " 6   DiabetesPedigreeFunction  768 non-null    float64\n",
      " 7   Age                       768 non-null    int64  \n",
      " 8   Outcome                   768 non-null    int64  \n",
      "dtypes: float64(2), int64(7)\n",
      "memory usage: 54.1 KB\n"
     ]
    }
   ],
   "source": [
    "df.info()"
   ]
  },
  {
   "cell_type": "code",
   "execution_count": 7,
   "metadata": {},
   "outputs": [],
   "source": [
    "x=df.drop(columns=['Outcome']).values\n",
    "y=df['Outcome'].values"
   ]
  },
  {
   "cell_type": "code",
   "execution_count": 8,
   "metadata": {},
   "outputs": [],
   "source": [
    "from sklearn.model_selection import train_test_split\n",
    "xtrain,xtest,ytrain,ytest=train_test_split(x,y,test_size=.2)\n"
   ]
  },
  {
   "cell_type": "code",
   "execution_count": 9,
   "metadata": {},
   "outputs": [
    {
     "name": "stdout",
     "output_type": "stream",
     "text": [
      "(614, 8)\n",
      "(154, 8)\n",
      "(614,)\n",
      "(154,)\n"
     ]
    }
   ],
   "source": [
    "print(xtrain.shape)\n",
    "print(xtest.shape)\n",
    "print(ytrain.shape)\n",
    "print(ytest.shape)"
   ]
  },
  {
   "cell_type": "code",
   "execution_count": 10,
   "metadata": {},
   "outputs": [],
   "source": [
    "# scaling the data "
   ]
  },
  {
   "cell_type": "code",
   "execution_count": 11,
   "metadata": {},
   "outputs": [],
   "source": [
    "from sklearn.preprocessing import  StandardScaler\n",
    "scale=StandardScaler()\n",
    "xtrain=scale.fit_transform(xtrain)\n",
    "xtest=scale.fit_transform(xtest)"
   ]
  },
  {
   "cell_type": "markdown",
   "metadata": {},
   "source": [
    "# Model without keras tuner"
   ]
  },
  {
   "cell_type": "code",
   "execution_count": 12,
   "metadata": {},
   "outputs": [
    {
     "name": "stdout",
     "output_type": "stream",
     "text": [
      "Model: \"sequential\"\n",
      "_________________________________________________________________\n",
      " Layer (type)                Output Shape              Param #   \n",
      "=================================================================\n",
      " dense (Dense)               (None, 256)               2304      \n",
      "                                                                 \n",
      " dense_1 (Dense)             (None, 128)               32896     \n",
      "                                                                 \n",
      " dense_2 (Dense)             (None, 1)                 129       \n",
      "                                                                 \n",
      "=================================================================\n",
      "Total params: 35329 (138.00 KB)\n",
      "Trainable params: 35329 (138.00 KB)\n",
      "Non-trainable params: 0 (0.00 Byte)\n",
      "_________________________________________________________________\n"
     ]
    }
   ],
   "source": [
    "temp_model=Sequential()\n",
    "temp_model.add(Dense(256,activation='relu',input_dim=8))\n",
    "temp_model.add(Dense(128,activation='relu'))\n",
    "temp_model.add(Dense(1,activation='sigmoid'))\n",
    "temp_model.summary()"
   ]
  },
  {
   "cell_type": "code",
   "execution_count": 13,
   "metadata": {},
   "outputs": [],
   "source": [
    "temp_model.compile(optimizer='adam',loss='binary_crossentropy',metrics=['accuracy'])"
   ]
  },
  {
   "cell_type": "code",
   "execution_count": 14,
   "metadata": {},
   "outputs": [
    {
     "name": "stdout",
     "output_type": "stream",
     "text": [
      "Epoch 1/50\n"
     ]
    },
    {
     "name": "stdout",
     "output_type": "stream",
     "text": [
      "20/20 [==============================] - 1s 8ms/step - loss: 0.5616 - accuracy: 0.7362 - val_loss: 0.4895 - val_accuracy: 0.7662\n",
      "Epoch 2/50\n",
      "20/20 [==============================] - 0s 2ms/step - loss: 0.4725 - accuracy: 0.7785 - val_loss: 0.4674 - val_accuracy: 0.7792\n",
      "Epoch 3/50\n",
      "20/20 [==============================] - 0s 2ms/step - loss: 0.4503 - accuracy: 0.7834 - val_loss: 0.4529 - val_accuracy: 0.7792\n",
      "Epoch 4/50\n",
      "20/20 [==============================] - 0s 2ms/step - loss: 0.4430 - accuracy: 0.7866 - val_loss: 0.4491 - val_accuracy: 0.7662\n",
      "Epoch 5/50\n",
      "20/20 [==============================] - 0s 2ms/step - loss: 0.4343 - accuracy: 0.7834 - val_loss: 0.4608 - val_accuracy: 0.7792\n",
      "Epoch 6/50\n",
      "20/20 [==============================] - 0s 2ms/step - loss: 0.4322 - accuracy: 0.7915 - val_loss: 0.4522 - val_accuracy: 0.7597\n",
      "Epoch 7/50\n",
      "20/20 [==============================] - 0s 2ms/step - loss: 0.4317 - accuracy: 0.8046 - val_loss: 0.4633 - val_accuracy: 0.7792\n",
      "Epoch 8/50\n",
      "20/20 [==============================] - 0s 2ms/step - loss: 0.4305 - accuracy: 0.7883 - val_loss: 0.4536 - val_accuracy: 0.7727\n",
      "Epoch 9/50\n",
      "20/20 [==============================] - 0s 2ms/step - loss: 0.4232 - accuracy: 0.7915 - val_loss: 0.4463 - val_accuracy: 0.8052\n",
      "Epoch 10/50\n",
      "20/20 [==============================] - 0s 2ms/step - loss: 0.4146 - accuracy: 0.7980 - val_loss: 0.4604 - val_accuracy: 0.7792\n",
      "Epoch 11/50\n",
      "20/20 [==============================] - 0s 2ms/step - loss: 0.4046 - accuracy: 0.8111 - val_loss: 0.4438 - val_accuracy: 0.7727\n",
      "Epoch 12/50\n",
      "20/20 [==============================] - 0s 2ms/step - loss: 0.4044 - accuracy: 0.8127 - val_loss: 0.4514 - val_accuracy: 0.7792\n",
      "Epoch 13/50\n",
      "20/20 [==============================] - 0s 2ms/step - loss: 0.4018 - accuracy: 0.8143 - val_loss: 0.4654 - val_accuracy: 0.7857\n",
      "Epoch 14/50\n",
      "20/20 [==============================] - 0s 2ms/step - loss: 0.4198 - accuracy: 0.8029 - val_loss: 0.4377 - val_accuracy: 0.7857\n",
      "Epoch 15/50\n",
      "20/20 [==============================] - 0s 2ms/step - loss: 0.3985 - accuracy: 0.7948 - val_loss: 0.4446 - val_accuracy: 0.7662\n",
      "Epoch 16/50\n",
      "20/20 [==============================] - 0s 2ms/step - loss: 0.3953 - accuracy: 0.8176 - val_loss: 0.4588 - val_accuracy: 0.7727\n",
      "Epoch 17/50\n",
      "20/20 [==============================] - 0s 2ms/step - loss: 0.3956 - accuracy: 0.8208 - val_loss: 0.4513 - val_accuracy: 0.7987\n",
      "Epoch 18/50\n",
      "20/20 [==============================] - 0s 2ms/step - loss: 0.3838 - accuracy: 0.8225 - val_loss: 0.4432 - val_accuracy: 0.7857\n",
      "Epoch 19/50\n",
      "20/20 [==============================] - 0s 2ms/step - loss: 0.3782 - accuracy: 0.8241 - val_loss: 0.4375 - val_accuracy: 0.7922\n",
      "Epoch 20/50\n",
      "20/20 [==============================] - 0s 2ms/step - loss: 0.3758 - accuracy: 0.8290 - val_loss: 0.4490 - val_accuracy: 0.7857\n",
      "Epoch 21/50\n",
      "20/20 [==============================] - 0s 2ms/step - loss: 0.3683 - accuracy: 0.8241 - val_loss: 0.4415 - val_accuracy: 0.8052\n",
      "Epoch 22/50\n",
      "20/20 [==============================] - 0s 2ms/step - loss: 0.3644 - accuracy: 0.8420 - val_loss: 0.4462 - val_accuracy: 0.7922\n",
      "Epoch 23/50\n",
      "20/20 [==============================] - 0s 2ms/step - loss: 0.3688 - accuracy: 0.8322 - val_loss: 0.4605 - val_accuracy: 0.7922\n",
      "Epoch 24/50\n",
      "20/20 [==============================] - 0s 2ms/step - loss: 0.3701 - accuracy: 0.8306 - val_loss: 0.4473 - val_accuracy: 0.7857\n",
      "Epoch 25/50\n",
      "20/20 [==============================] - 0s 2ms/step - loss: 0.3570 - accuracy: 0.8388 - val_loss: 0.4592 - val_accuracy: 0.7792\n",
      "Epoch 26/50\n",
      "20/20 [==============================] - 0s 2ms/step - loss: 0.3603 - accuracy: 0.8322 - val_loss: 0.4277 - val_accuracy: 0.7792\n",
      "Epoch 27/50\n",
      "20/20 [==============================] - 0s 2ms/step - loss: 0.3486 - accuracy: 0.8502 - val_loss: 0.4564 - val_accuracy: 0.7727\n",
      "Epoch 28/50\n",
      "20/20 [==============================] - 0s 2ms/step - loss: 0.3572 - accuracy: 0.8257 - val_loss: 0.4619 - val_accuracy: 0.7792\n",
      "Epoch 29/50\n",
      "20/20 [==============================] - 0s 2ms/step - loss: 0.3434 - accuracy: 0.8469 - val_loss: 0.4692 - val_accuracy: 0.7792\n",
      "Epoch 30/50\n",
      "20/20 [==============================] - 0s 2ms/step - loss: 0.3443 - accuracy: 0.8355 - val_loss: 0.4506 - val_accuracy: 0.7727\n",
      "Epoch 31/50\n",
      "20/20 [==============================] - 0s 2ms/step - loss: 0.3403 - accuracy: 0.8404 - val_loss: 0.4317 - val_accuracy: 0.7792\n",
      "Epoch 32/50\n",
      "20/20 [==============================] - 0s 2ms/step - loss: 0.3303 - accuracy: 0.8583 - val_loss: 0.4664 - val_accuracy: 0.7662\n",
      "Epoch 33/50\n",
      "20/20 [==============================] - 0s 2ms/step - loss: 0.3195 - accuracy: 0.8616 - val_loss: 0.4755 - val_accuracy: 0.7727\n",
      "Epoch 34/50\n",
      "20/20 [==============================] - 0s 3ms/step - loss: 0.3245 - accuracy: 0.8550 - val_loss: 0.4601 - val_accuracy: 0.7792\n",
      "Epoch 35/50\n",
      "20/20 [==============================] - 0s 2ms/step - loss: 0.3147 - accuracy: 0.8664 - val_loss: 0.4688 - val_accuracy: 0.7727\n",
      "Epoch 36/50\n",
      "20/20 [==============================] - 0s 2ms/step - loss: 0.3069 - accuracy: 0.8681 - val_loss: 0.4915 - val_accuracy: 0.7597\n",
      "Epoch 37/50\n",
      "20/20 [==============================] - 0s 2ms/step - loss: 0.3026 - accuracy: 0.8681 - val_loss: 0.4557 - val_accuracy: 0.7792\n",
      "Epoch 38/50\n",
      "20/20 [==============================] - 0s 2ms/step - loss: 0.3037 - accuracy: 0.8811 - val_loss: 0.4621 - val_accuracy: 0.7792\n",
      "Epoch 39/50\n",
      "20/20 [==============================] - 0s 2ms/step - loss: 0.3176 - accuracy: 0.8502 - val_loss: 0.4626 - val_accuracy: 0.7727\n",
      "Epoch 40/50\n",
      "20/20 [==============================] - 0s 2ms/step - loss: 0.3079 - accuracy: 0.8681 - val_loss: 0.4649 - val_accuracy: 0.7922\n",
      "Epoch 41/50\n",
      "20/20 [==============================] - 0s 2ms/step - loss: 0.2970 - accuracy: 0.8779 - val_loss: 0.4599 - val_accuracy: 0.7792\n",
      "Epoch 42/50\n",
      "20/20 [==============================] - 0s 5ms/step - loss: 0.2771 - accuracy: 0.8893 - val_loss: 0.4717 - val_accuracy: 0.7727\n",
      "Epoch 43/50\n",
      "20/20 [==============================] - 0s 7ms/step - loss: 0.2811 - accuracy: 0.8860 - val_loss: 0.4840 - val_accuracy: 0.7727\n",
      "Epoch 44/50\n",
      "20/20 [==============================] - 0s 6ms/step - loss: 0.2834 - accuracy: 0.8860 - val_loss: 0.4714 - val_accuracy: 0.7597\n",
      "Epoch 45/50\n",
      "20/20 [==============================] - 0s 6ms/step - loss: 0.2734 - accuracy: 0.8827 - val_loss: 0.4930 - val_accuracy: 0.7662\n",
      "Epoch 46/50\n",
      "20/20 [==============================] - 0s 6ms/step - loss: 0.2689 - accuracy: 0.9039 - val_loss: 0.4794 - val_accuracy: 0.7857\n",
      "Epoch 47/50\n",
      "20/20 [==============================] - 0s 6ms/step - loss: 0.2552 - accuracy: 0.9104 - val_loss: 0.5029 - val_accuracy: 0.7532\n",
      "Epoch 48/50\n",
      "20/20 [==============================] - 0s 5ms/step - loss: 0.2612 - accuracy: 0.8925 - val_loss: 0.5168 - val_accuracy: 0.7922\n",
      "Epoch 49/50\n",
      "20/20 [==============================] - 0s 5ms/step - loss: 0.2531 - accuracy: 0.9007 - val_loss: 0.4787 - val_accuracy: 0.7468\n",
      "Epoch 50/50\n",
      "20/20 [==============================] - 0s 5ms/step - loss: 0.2476 - accuracy: 0.9088 - val_loss: 0.5342 - val_accuracy: 0.7597\n"
     ]
    },
    {
     "data": {
      "text/plain": [
       "<keras.src.callbacks.History at 0x1da67657790>"
      ]
     },
     "execution_count": 14,
     "metadata": {},
     "output_type": "execute_result"
    }
   ],
   "source": [
    "temp_model.fit(xtrain,ytrain,validation_data=(xtest,ytest),epochs=50)"
   ]
  },
  {
   "cell_type": "markdown",
   "metadata": {},
   "source": [
    "So problems in this model is we dont able to know:"
   ]
  },
  {
   "cell_type": "markdown",
   "metadata": {},
   "source": [
    "- how many layers we have to add"
   ]
  },
  {
   "cell_type": "markdown",
   "metadata": {},
   "source": [
    "- how many node a particular layer have"
   ]
  },
  {
   "cell_type": "markdown",
   "metadata": {},
   "source": [
    "- which loss function is best for each layer"
   ]
  },
  {
   "cell_type": "markdown",
   "metadata": {},
   "source": [
    "- which activation function is suitable for every layer"
   ]
  },
  {
   "cell_type": "markdown",
   "metadata": {},
   "source": [
    "- how many epoch the model have to train "
   ]
  },
  {
   "cell_type": "markdown",
   "metadata": {},
   "source": [
    "Here the keras tuner is came into the picture"
   ]
  },
  {
   "cell_type": "markdown",
   "metadata": {},
   "source": [
    "# Model with keras tuner"
   ]
  },
  {
   "cell_type": "code",
   "execution_count": 15,
   "metadata": {},
   "outputs": [
    {
     "name": "stderr",
     "output_type": "stream",
     "text": [
      "C:\\Users\\Asus\\AppData\\Local\\Temp\\ipykernel_11852\\1654478174.py:1: DeprecationWarning: `import kerastuner` is deprecated, please use `import keras_tuner`.\n",
      "  import kerastuner as kt\n"
     ]
    }
   ],
   "source": [
    "import kerastuner as kt"
   ]
  },
  {
   "cell_type": "markdown",
   "metadata": {},
   "source": [
    "There are 6 steps "
   ]
  },
  {
   "cell_type": "markdown",
   "metadata": {},
   "source": [
    "- first is you have to make a function named \"build_model(hp)\" // where hp is the object(hyperparameter)"
   ]
  },
  {
   "cell_type": "markdown",
   "metadata": {},
   "source": [
    "- second is you have to make \"tuner object\" of a class RandomSearch()"
   ]
  },
  {
   "cell_type": "markdown",
   "metadata": {},
   "source": [
    "- you have to call the \"search()\" function using tuner object"
   ]
  },
  {
   "cell_type": "markdown",
   "metadata": {},
   "source": [
    "- extract best hyperparameter "
   ]
  },
  {
   "cell_type": "markdown",
   "metadata": {},
   "source": [
    "- Get Best model"
   ]
  },
  {
   "cell_type": "markdown",
   "metadata": {},
   "source": [
    "- make the model using the best hyperparameter we got"
   ]
  },
  {
   "cell_type": "markdown",
   "metadata": {},
   "source": [
    "## how to tune the appropriate optimizer"
   ]
  },
  {
   "cell_type": "markdown",
   "metadata": {},
   "source": [
    "- step1: build_model()"
   ]
  },
  {
   "cell_type": "code",
   "execution_count": 16,
   "metadata": {},
   "outputs": [],
   "source": [
    "def build_model(hp):\n",
    "    \"\"\"build a model\"\"\"\n",
    "    model=Sequential()\n",
    "    model.add(Dense(256,activation='relu',input_dim=8))\n",
    "    model.add(Dense(128,activation='relu'))\n",
    "    model.add(Dense(1,activation='sigmoid'))\n",
    "    optimizer=hp.Choice('optimizer',values=['adam','sgd','rmsprop','adadelta']) # a function which takes two thing 1st is string and 2nd is list\n",
    "    model.compile(optimizer=optimizer,loss='binary_crossentropy',metrics=['accuracy'])\n",
    "    return model"
   ]
  },
  {
   "cell_type": "markdown",
   "metadata": {},
   "source": [
    "- step2: make a tuner object of class RandomSearch"
   ]
  },
  {
   "cell_type": "code",
   "execution_count": 17,
   "metadata": {},
   "outputs": [
    {
     "name": "stdout",
     "output_type": "stream",
     "text": [
      "Reloading Tuner from .\\bestOptimizer\\tuner0.json\n"
     ]
    }
   ],
   "source": [
    "tuner=kt.RandomSearch(build_model,objective='val_accuracy',max_trials=5,project_name='bestOptimizer') #project_name making a folder containing the info"
   ]
  },
  {
   "cell_type": "markdown",
   "metadata": {},
   "source": [
    "- step3: call search() using tuner object"
   ]
  },
  {
   "cell_type": "code",
   "execution_count": 18,
   "metadata": {},
   "outputs": [],
   "source": [
    "tuner.search(xtrain,ytrain,epochs=5,validation_data=(xtest,ytest))"
   ]
  },
  {
   "cell_type": "markdown",
   "metadata": {},
   "source": [
    "- step4: get best hyperparameter"
   ]
  },
  {
   "cell_type": "code",
   "execution_count": 19,
   "metadata": {},
   "outputs": [
    {
     "data": {
      "text/plain": [
       "{'optimizer': 'adam'}"
      ]
     },
     "execution_count": 19,
     "metadata": {},
     "output_type": "execute_result"
    }
   ],
   "source": [
    "tuner.get_best_hyperparameters()[0].values"
   ]
  },
  {
   "cell_type": "markdown",
   "metadata": {},
   "source": [
    "- step5: Get best model "
   ]
  },
  {
   "cell_type": "code",
   "execution_count": 20,
   "metadata": {},
   "outputs": [],
   "source": [
    "model=tuner.get_best_models(num_models=1)[0]"
   ]
  },
  {
   "cell_type": "markdown",
   "metadata": {},
   "source": [
    "- step6: train the model"
   ]
  },
  {
   "cell_type": "code",
   "execution_count": 21,
   "metadata": {},
   "outputs": [
    {
     "name": "stdout",
     "output_type": "stream",
     "text": [
      "Epoch 7/100\n"
     ]
    },
    {
     "name": "stdout",
     "output_type": "stream",
     "text": [
      "20/20 [==============================] - 1s 16ms/step - loss: 0.4716 - accuracy: 0.7850 - val_loss: 0.4469 - val_accuracy: 0.7727\n",
      "Epoch 8/100\n",
      "20/20 [==============================] - 0s 5ms/step - loss: 0.4648 - accuracy: 0.7736 - val_loss: 0.4534 - val_accuracy: 0.7987\n",
      "Epoch 9/100\n",
      "20/20 [==============================] - 0s 6ms/step - loss: 0.4469 - accuracy: 0.7818 - val_loss: 0.4371 - val_accuracy: 0.7857\n",
      "Epoch 10/100\n",
      "20/20 [==============================] - 0s 9ms/step - loss: 0.4438 - accuracy: 0.7915 - val_loss: 0.4402 - val_accuracy: 0.7987\n",
      "Epoch 11/100\n",
      "20/20 [==============================] - 0s 6ms/step - loss: 0.4351 - accuracy: 0.7899 - val_loss: 0.4398 - val_accuracy: 0.7922\n",
      "Epoch 12/100\n",
      "20/20 [==============================] - 0s 6ms/step - loss: 0.4298 - accuracy: 0.7980 - val_loss: 0.4382 - val_accuracy: 0.7857\n",
      "Epoch 13/100\n",
      "20/20 [==============================] - 0s 5ms/step - loss: 0.4266 - accuracy: 0.8078 - val_loss: 0.4457 - val_accuracy: 0.7922\n",
      "Epoch 14/100\n",
      "20/20 [==============================] - 0s 6ms/step - loss: 0.4259 - accuracy: 0.7932 - val_loss: 0.4421 - val_accuracy: 0.7792\n",
      "Epoch 15/100\n",
      "20/20 [==============================] - 0s 6ms/step - loss: 0.4155 - accuracy: 0.8127 - val_loss: 0.4517 - val_accuracy: 0.7857\n",
      "Epoch 16/100\n",
      "20/20 [==============================] - 0s 6ms/step - loss: 0.4156 - accuracy: 0.8046 - val_loss: 0.4479 - val_accuracy: 0.7857\n",
      "Epoch 17/100\n",
      "20/20 [==============================] - 0s 6ms/step - loss: 0.4084 - accuracy: 0.7997 - val_loss: 0.4450 - val_accuracy: 0.7727\n",
      "Epoch 18/100\n",
      "20/20 [==============================] - 0s 6ms/step - loss: 0.4011 - accuracy: 0.8078 - val_loss: 0.4463 - val_accuracy: 0.7987\n",
      "Epoch 19/100\n",
      "20/20 [==============================] - 0s 6ms/step - loss: 0.3972 - accuracy: 0.8176 - val_loss: 0.4352 - val_accuracy: 0.7792\n",
      "Epoch 20/100\n",
      "20/20 [==============================] - 0s 6ms/step - loss: 0.3981 - accuracy: 0.8078 - val_loss: 0.4391 - val_accuracy: 0.7792\n",
      "Epoch 21/100\n",
      "20/20 [==============================] - 0s 6ms/step - loss: 0.3889 - accuracy: 0.8160 - val_loss: 0.4440 - val_accuracy: 0.7792\n",
      "Epoch 22/100\n",
      "20/20 [==============================] - 0s 5ms/step - loss: 0.3878 - accuracy: 0.8208 - val_loss: 0.4518 - val_accuracy: 0.7857\n",
      "Epoch 23/100\n",
      "20/20 [==============================] - 0s 6ms/step - loss: 0.3854 - accuracy: 0.8257 - val_loss: 0.4239 - val_accuracy: 0.7922\n",
      "Epoch 24/100\n",
      "20/20 [==============================] - 0s 5ms/step - loss: 0.3821 - accuracy: 0.8274 - val_loss: 0.4577 - val_accuracy: 0.7662\n",
      "Epoch 25/100\n",
      "20/20 [==============================] - 0s 5ms/step - loss: 0.3777 - accuracy: 0.8306 - val_loss: 0.4335 - val_accuracy: 0.7727\n",
      "Epoch 26/100\n",
      "20/20 [==============================] - 0s 5ms/step - loss: 0.3712 - accuracy: 0.8290 - val_loss: 0.4407 - val_accuracy: 0.7727\n",
      "Epoch 27/100\n",
      "20/20 [==============================] - 0s 5ms/step - loss: 0.3696 - accuracy: 0.8339 - val_loss: 0.4571 - val_accuracy: 0.7597\n",
      "Epoch 28/100\n",
      "20/20 [==============================] - 0s 5ms/step - loss: 0.3666 - accuracy: 0.8371 - val_loss: 0.4568 - val_accuracy: 0.7597\n",
      "Epoch 29/100\n",
      "20/20 [==============================] - 0s 5ms/step - loss: 0.3659 - accuracy: 0.8306 - val_loss: 0.4434 - val_accuracy: 0.7662\n",
      "Epoch 30/100\n",
      "20/20 [==============================] - 0s 5ms/step - loss: 0.3557 - accuracy: 0.8371 - val_loss: 0.4534 - val_accuracy: 0.7597\n",
      "Epoch 31/100\n",
      "20/20 [==============================] - 0s 5ms/step - loss: 0.3510 - accuracy: 0.8404 - val_loss: 0.4379 - val_accuracy: 0.7597\n",
      "Epoch 32/100\n",
      "20/20 [==============================] - 0s 5ms/step - loss: 0.3494 - accuracy: 0.8453 - val_loss: 0.4445 - val_accuracy: 0.7792\n",
      "Epoch 33/100\n",
      "20/20 [==============================] - 0s 8ms/step - loss: 0.3374 - accuracy: 0.8485 - val_loss: 0.4611 - val_accuracy: 0.7532\n",
      "Epoch 34/100\n",
      "20/20 [==============================] - 0s 5ms/step - loss: 0.3523 - accuracy: 0.8567 - val_loss: 0.4414 - val_accuracy: 0.7532\n",
      "Epoch 35/100\n",
      "20/20 [==============================] - 0s 5ms/step - loss: 0.3402 - accuracy: 0.8453 - val_loss: 0.4370 - val_accuracy: 0.7662\n",
      "Epoch 36/100\n",
      "20/20 [==============================] - 0s 6ms/step - loss: 0.3416 - accuracy: 0.8420 - val_loss: 0.4299 - val_accuracy: 0.7857\n",
      "Epoch 37/100\n",
      "20/20 [==============================] - 0s 5ms/step - loss: 0.3289 - accuracy: 0.8485 - val_loss: 0.4466 - val_accuracy: 0.7792\n",
      "Epoch 38/100\n",
      "20/20 [==============================] - 0s 5ms/step - loss: 0.3235 - accuracy: 0.8583 - val_loss: 0.4395 - val_accuracy: 0.7662\n",
      "Epoch 39/100\n",
      "20/20 [==============================] - 0s 6ms/step - loss: 0.3193 - accuracy: 0.8518 - val_loss: 0.4617 - val_accuracy: 0.7727\n",
      "Epoch 40/100\n",
      "20/20 [==============================] - 0s 6ms/step - loss: 0.3087 - accuracy: 0.8632 - val_loss: 0.4427 - val_accuracy: 0.7597\n",
      "Epoch 41/100\n",
      "20/20 [==============================] - 0s 6ms/step - loss: 0.3130 - accuracy: 0.8583 - val_loss: 0.4518 - val_accuracy: 0.7857\n",
      "Epoch 42/100\n",
      "20/20 [==============================] - 0s 6ms/step - loss: 0.3042 - accuracy: 0.8681 - val_loss: 0.4311 - val_accuracy: 0.7662\n",
      "Epoch 43/100\n",
      "20/20 [==============================] - 0s 6ms/step - loss: 0.3003 - accuracy: 0.8681 - val_loss: 0.4495 - val_accuracy: 0.7792\n",
      "Epoch 44/100\n",
      "20/20 [==============================] - 0s 6ms/step - loss: 0.2900 - accuracy: 0.8681 - val_loss: 0.4640 - val_accuracy: 0.7792\n",
      "Epoch 45/100\n",
      "20/20 [==============================] - 0s 5ms/step - loss: 0.2885 - accuracy: 0.8811 - val_loss: 0.4665 - val_accuracy: 0.7597\n",
      "Epoch 46/100\n",
      "20/20 [==============================] - 0s 6ms/step - loss: 0.2871 - accuracy: 0.8697 - val_loss: 0.4682 - val_accuracy: 0.7857\n",
      "Epoch 47/100\n",
      "20/20 [==============================] - 0s 5ms/step - loss: 0.2898 - accuracy: 0.8730 - val_loss: 0.4457 - val_accuracy: 0.7662\n",
      "Epoch 48/100\n",
      "20/20 [==============================] - 0s 5ms/step - loss: 0.2827 - accuracy: 0.8811 - val_loss: 0.4547 - val_accuracy: 0.7532\n",
      "Epoch 49/100\n",
      "20/20 [==============================] - 0s 6ms/step - loss: 0.2757 - accuracy: 0.8925 - val_loss: 0.4717 - val_accuracy: 0.7597\n",
      "Epoch 50/100\n",
      "20/20 [==============================] - 0s 6ms/step - loss: 0.2742 - accuracy: 0.8876 - val_loss: 0.4705 - val_accuracy: 0.7727\n",
      "Epoch 51/100\n",
      "20/20 [==============================] - 0s 5ms/step - loss: 0.2823 - accuracy: 0.8746 - val_loss: 0.4723 - val_accuracy: 0.7857\n",
      "Epoch 52/100\n",
      "20/20 [==============================] - 0s 5ms/step - loss: 0.2761 - accuracy: 0.8844 - val_loss: 0.4790 - val_accuracy: 0.7468\n",
      "Epoch 53/100\n",
      "20/20 [==============================] - 0s 6ms/step - loss: 0.2725 - accuracy: 0.8746 - val_loss: 0.4878 - val_accuracy: 0.7597\n",
      "Epoch 54/100\n",
      "20/20 [==============================] - 0s 5ms/step - loss: 0.2531 - accuracy: 0.9023 - val_loss: 0.4484 - val_accuracy: 0.7597\n",
      "Epoch 55/100\n",
      "20/20 [==============================] - 0s 6ms/step - loss: 0.2580 - accuracy: 0.9007 - val_loss: 0.5285 - val_accuracy: 0.7468\n",
      "Epoch 56/100\n",
      "20/20 [==============================] - 0s 5ms/step - loss: 0.2553 - accuracy: 0.8974 - val_loss: 0.4853 - val_accuracy: 0.7792\n",
      "Epoch 57/100\n",
      "20/20 [==============================] - 0s 6ms/step - loss: 0.2411 - accuracy: 0.9039 - val_loss: 0.4598 - val_accuracy: 0.7792\n",
      "Epoch 58/100\n",
      "20/20 [==============================] - 0s 6ms/step - loss: 0.2361 - accuracy: 0.9088 - val_loss: 0.4841 - val_accuracy: 0.7727\n",
      "Epoch 59/100\n",
      "20/20 [==============================] - 0s 5ms/step - loss: 0.2261 - accuracy: 0.9121 - val_loss: 0.4653 - val_accuracy: 0.7727\n",
      "Epoch 60/100\n",
      "20/20 [==============================] - 0s 6ms/step - loss: 0.2288 - accuracy: 0.9104 - val_loss: 0.4789 - val_accuracy: 0.7662\n",
      "Epoch 61/100\n",
      "20/20 [==============================] - 0s 6ms/step - loss: 0.2147 - accuracy: 0.9251 - val_loss: 0.4894 - val_accuracy: 0.7792\n",
      "Epoch 62/100\n",
      "20/20 [==============================] - 0s 5ms/step - loss: 0.2196 - accuracy: 0.9186 - val_loss: 0.4859 - val_accuracy: 0.7727\n",
      "Epoch 63/100\n",
      "20/20 [==============================] - 0s 5ms/step - loss: 0.2122 - accuracy: 0.9251 - val_loss: 0.5238 - val_accuracy: 0.7727\n",
      "Epoch 64/100\n",
      "20/20 [==============================] - 0s 5ms/step - loss: 0.2070 - accuracy: 0.9316 - val_loss: 0.4897 - val_accuracy: 0.7727\n",
      "Epoch 65/100\n",
      "20/20 [==============================] - 0s 5ms/step - loss: 0.2045 - accuracy: 0.9218 - val_loss: 0.4916 - val_accuracy: 0.7922\n",
      "Epoch 66/100\n",
      "20/20 [==============================] - 0s 5ms/step - loss: 0.2153 - accuracy: 0.9121 - val_loss: 0.4946 - val_accuracy: 0.7727\n",
      "Epoch 67/100\n",
      "20/20 [==============================] - 0s 5ms/step - loss: 0.2363 - accuracy: 0.9055 - val_loss: 0.5393 - val_accuracy: 0.7532\n",
      "Epoch 68/100\n",
      "20/20 [==============================] - 0s 5ms/step - loss: 0.2415 - accuracy: 0.8925 - val_loss: 0.5109 - val_accuracy: 0.7792\n",
      "Epoch 69/100\n",
      "20/20 [==============================] - 0s 5ms/step - loss: 0.1981 - accuracy: 0.9283 - val_loss: 0.5116 - val_accuracy: 0.7727\n",
      "Epoch 70/100\n",
      "20/20 [==============================] - 0s 5ms/step - loss: 0.1804 - accuracy: 0.9495 - val_loss: 0.5218 - val_accuracy: 0.7792\n",
      "Epoch 71/100\n",
      "20/20 [==============================] - 0s 5ms/step - loss: 0.1835 - accuracy: 0.9430 - val_loss: 0.5359 - val_accuracy: 0.7662\n",
      "Epoch 72/100\n",
      "20/20 [==============================] - 0s 5ms/step - loss: 0.1808 - accuracy: 0.9316 - val_loss: 0.4996 - val_accuracy: 0.7792\n",
      "Epoch 73/100\n",
      "20/20 [==============================] - 0s 5ms/step - loss: 0.1783 - accuracy: 0.9381 - val_loss: 0.5429 - val_accuracy: 0.7857\n",
      "Epoch 74/100\n",
      "20/20 [==============================] - 0s 5ms/step - loss: 0.1819 - accuracy: 0.9365 - val_loss: 0.5277 - val_accuracy: 0.7468\n",
      "Epoch 75/100\n",
      "20/20 [==============================] - 0s 7ms/step - loss: 0.1703 - accuracy: 0.9446 - val_loss: 0.5505 - val_accuracy: 0.7662\n",
      "Epoch 76/100\n",
      "20/20 [==============================] - 0s 6ms/step - loss: 0.1627 - accuracy: 0.9528 - val_loss: 0.5342 - val_accuracy: 0.7662\n",
      "Epoch 77/100\n",
      "20/20 [==============================] - 0s 6ms/step - loss: 0.1516 - accuracy: 0.9609 - val_loss: 0.5851 - val_accuracy: 0.7792\n",
      "Epoch 78/100\n",
      "20/20 [==============================] - 0s 6ms/step - loss: 0.1583 - accuracy: 0.9495 - val_loss: 0.5504 - val_accuracy: 0.7468\n",
      "Epoch 79/100\n",
      "20/20 [==============================] - 0s 6ms/step - loss: 0.1611 - accuracy: 0.9479 - val_loss: 0.5796 - val_accuracy: 0.7792\n",
      "Epoch 80/100\n",
      "20/20 [==============================] - 0s 5ms/step - loss: 0.1441 - accuracy: 0.9691 - val_loss: 0.5789 - val_accuracy: 0.7662\n",
      "Epoch 81/100\n",
      "20/20 [==============================] - 0s 5ms/step - loss: 0.1439 - accuracy: 0.9577 - val_loss: 0.5576 - val_accuracy: 0.7597\n",
      "Epoch 82/100\n",
      "20/20 [==============================] - 0s 6ms/step - loss: 0.1402 - accuracy: 0.9625 - val_loss: 0.5844 - val_accuracy: 0.7597\n",
      "Epoch 83/100\n",
      "20/20 [==============================] - 0s 6ms/step - loss: 0.1328 - accuracy: 0.9642 - val_loss: 0.5546 - val_accuracy: 0.7662\n",
      "Epoch 84/100\n",
      "20/20 [==============================] - 0s 5ms/step - loss: 0.1345 - accuracy: 0.9658 - val_loss: 0.5743 - val_accuracy: 0.7857\n",
      "Epoch 85/100\n",
      "20/20 [==============================] - 0s 6ms/step - loss: 0.1283 - accuracy: 0.9674 - val_loss: 0.6181 - val_accuracy: 0.7468\n",
      "Epoch 86/100\n",
      "20/20 [==============================] - 0s 5ms/step - loss: 0.1373 - accuracy: 0.9560 - val_loss: 0.6357 - val_accuracy: 0.7468\n",
      "Epoch 87/100\n",
      "20/20 [==============================] - 0s 5ms/step - loss: 0.1308 - accuracy: 0.9658 - val_loss: 0.6313 - val_accuracy: 0.7597\n",
      "Epoch 88/100\n",
      "20/20 [==============================] - 0s 5ms/step - loss: 0.1292 - accuracy: 0.9658 - val_loss: 0.5825 - val_accuracy: 0.7532\n",
      "Epoch 89/100\n",
      "20/20 [==============================] - 0s 6ms/step - loss: 0.1297 - accuracy: 0.9593 - val_loss: 0.6169 - val_accuracy: 0.7532\n",
      "Epoch 90/100\n",
      "20/20 [==============================] - 0s 6ms/step - loss: 0.1126 - accuracy: 0.9739 - val_loss: 0.5939 - val_accuracy: 0.7532\n",
      "Epoch 91/100\n",
      "20/20 [==============================] - 0s 6ms/step - loss: 0.1146 - accuracy: 0.9707 - val_loss: 0.6629 - val_accuracy: 0.7468\n",
      "Epoch 92/100\n",
      "20/20 [==============================] - 0s 6ms/step - loss: 0.1141 - accuracy: 0.9674 - val_loss: 0.6250 - val_accuracy: 0.7338\n",
      "Epoch 93/100\n",
      "20/20 [==============================] - 0s 5ms/step - loss: 0.1062 - accuracy: 0.9821 - val_loss: 0.7032 - val_accuracy: 0.7468\n",
      "Epoch 94/100\n",
      "20/20 [==============================] - 0s 6ms/step - loss: 0.1233 - accuracy: 0.9707 - val_loss: 0.6393 - val_accuracy: 0.7532\n",
      "Epoch 95/100\n",
      "20/20 [==============================] - 0s 8ms/step - loss: 0.1007 - accuracy: 0.9837 - val_loss: 0.6255 - val_accuracy: 0.7468\n",
      "Epoch 96/100\n",
      "20/20 [==============================] - 0s 6ms/step - loss: 0.1014 - accuracy: 0.9756 - val_loss: 0.6596 - val_accuracy: 0.7532\n",
      "Epoch 97/100\n",
      "20/20 [==============================] - 0s 6ms/step - loss: 0.1024 - accuracy: 0.9788 - val_loss: 0.6437 - val_accuracy: 0.7532\n",
      "Epoch 98/100\n",
      "20/20 [==============================] - 0s 6ms/step - loss: 0.0935 - accuracy: 0.9821 - val_loss: 0.6530 - val_accuracy: 0.7532\n",
      "Epoch 99/100\n",
      "20/20 [==============================] - 0s 6ms/step - loss: 0.0977 - accuracy: 0.9739 - val_loss: 0.6737 - val_accuracy: 0.7597\n",
      "Epoch 100/100\n",
      "20/20 [==============================] - 0s 6ms/step - loss: 0.0913 - accuracy: 0.9788 - val_loss: 0.7154 - val_accuracy: 0.7532\n"
     ]
    },
    {
     "data": {
      "text/plain": [
       "<keras.src.callbacks.History at 0x1da67ce37f0>"
      ]
     },
     "execution_count": 21,
     "metadata": {},
     "output_type": "execute_result"
    }
   ],
   "source": [
    "model.fit(xtrain,ytrain,validation_data=(xtest,ytest),initial_epoch=6,epochs=100) # initial_epoch is 6 because we already run 5 epochs"
   ]
  },
  {
   "cell_type": "markdown",
   "metadata": {},
   "source": [
    "# Tune no of Nodes in each layer"
   ]
  },
  {
   "cell_type": "markdown",
   "metadata": {},
   "source": [
    "- step1: build_model"
   ]
  },
  {
   "cell_type": "code",
   "execution_count": 22,
   "metadata": {},
   "outputs": [],
   "source": [
    "def build_model(hp):\n",
    "    \"\"\" build the model (its not working when the multiple layers is used (we can check further))\"\"\"\n",
    "    model = Sequential()\n",
    "    units = hp.Int('units', min_value=32, max_value=256)\n",
    "    model.add(Dense(units=units, activation='relu', input_dim=8))\n",
    "    # model.add(Dense(units=units, activation='relu')) \n",
    "    model.add(Dense(1, activation='sigmoid'))\n",
    "    model.compile(optimizer='adam', loss='binary_crossentropy', metrics=['accuracy'])\n",
    "    return model\n"
   ]
  },
  {
   "cell_type": "markdown",
   "metadata": {},
   "source": [
    "- step2: keras tuner object of randomsearch class "
   ]
  },
  {
   "cell_type": "code",
   "execution_count": 23,
   "metadata": {},
   "outputs": [
    {
     "name": "stdout",
     "output_type": "stream",
     "text": [
      "Reloading Tuner from .\\best no of nodes\\tuner0.json\n"
     ]
    }
   ],
   "source": [
    "tuner=kt.RandomSearch(build_model,objective='val_accuracy',max_trials=5,project_name='best no of nodes')"
   ]
  },
  {
   "cell_type": "markdown",
   "metadata": {},
   "source": [
    "- step3: call search using tuner object "
   ]
  },
  {
   "cell_type": "code",
   "execution_count": 24,
   "metadata": {},
   "outputs": [],
   "source": [
    "tuner.search(xtrain,ytrain,validation_data=(xtest,ytest),epochs=5)"
   ]
  },
  {
   "cell_type": "markdown",
   "metadata": {},
   "source": [
    "- step 4: get best parameter"
   ]
  },
  {
   "cell_type": "code",
   "execution_count": 25,
   "metadata": {},
   "outputs": [
    {
     "data": {
      "text/plain": [
       "{'units': 192}"
      ]
     },
     "execution_count": 25,
     "metadata": {},
     "output_type": "execute_result"
    }
   ],
   "source": [
    "tuner.get_best_hyperparameters()[0].values"
   ]
  },
  {
   "cell_type": "markdown",
   "metadata": {},
   "source": [
    "- step5: extracting the model"
   ]
  },
  {
   "cell_type": "code",
   "execution_count": 26,
   "metadata": {},
   "outputs": [],
   "source": [
    "model=tuner.get_best_models(num_models=1)[0]"
   ]
  },
  {
   "cell_type": "markdown",
   "metadata": {},
   "source": [
    "- step 6: extract and train the model"
   ]
  },
  {
   "cell_type": "code",
   "execution_count": 27,
   "metadata": {},
   "outputs": [
    {
     "name": "stdout",
     "output_type": "stream",
     "text": [
      "Epoch 7/100\n"
     ]
    },
    {
     "name": "stdout",
     "output_type": "stream",
     "text": [
      "20/20 [==============================] - 1s 18ms/step - loss: 0.4874 - accuracy: 0.7752 - val_loss: 0.4583 - val_accuracy: 0.7857\n",
      "Epoch 8/100\n",
      "20/20 [==============================] - 0s 6ms/step - loss: 0.4727 - accuracy: 0.7736 - val_loss: 0.4535 - val_accuracy: 0.7727\n",
      "Epoch 9/100\n",
      "20/20 [==============================] - 0s 5ms/step - loss: 0.4637 - accuracy: 0.7834 - val_loss: 0.4484 - val_accuracy: 0.7922\n",
      "Epoch 10/100\n",
      "20/20 [==============================] - 0s 5ms/step - loss: 0.4580 - accuracy: 0.7899 - val_loss: 0.4495 - val_accuracy: 0.7922\n",
      "Epoch 11/100\n",
      "20/20 [==============================] - 0s 5ms/step - loss: 0.4536 - accuracy: 0.7883 - val_loss: 0.4496 - val_accuracy: 0.7922\n",
      "Epoch 12/100\n",
      "20/20 [==============================] - 0s 5ms/step - loss: 0.4498 - accuracy: 0.7866 - val_loss: 0.4524 - val_accuracy: 0.7662\n",
      "Epoch 13/100\n",
      "20/20 [==============================] - 0s 5ms/step - loss: 0.4483 - accuracy: 0.7899 - val_loss: 0.4518 - val_accuracy: 0.7662\n",
      "Epoch 14/100\n",
      "20/20 [==============================] - 0s 5ms/step - loss: 0.4459 - accuracy: 0.7899 - val_loss: 0.4540 - val_accuracy: 0.7597\n",
      "Epoch 15/100\n",
      "20/20 [==============================] - 0s 6ms/step - loss: 0.4438 - accuracy: 0.7932 - val_loss: 0.4523 - val_accuracy: 0.7857\n",
      "Epoch 16/100\n",
      "20/20 [==============================] - 0s 5ms/step - loss: 0.4423 - accuracy: 0.7899 - val_loss: 0.4497 - val_accuracy: 0.7727\n",
      "Epoch 17/100\n",
      "20/20 [==============================] - 0s 5ms/step - loss: 0.4404 - accuracy: 0.7883 - val_loss: 0.4544 - val_accuracy: 0.7857\n",
      "Epoch 18/100\n",
      "20/20 [==============================] - 0s 5ms/step - loss: 0.4389 - accuracy: 0.7915 - val_loss: 0.4515 - val_accuracy: 0.7727\n",
      "Epoch 19/100\n",
      "20/20 [==============================] - 0s 5ms/step - loss: 0.4371 - accuracy: 0.7899 - val_loss: 0.4564 - val_accuracy: 0.7662\n",
      "Epoch 20/100\n",
      "20/20 [==============================] - 0s 5ms/step - loss: 0.4357 - accuracy: 0.7932 - val_loss: 0.4559 - val_accuracy: 0.7792\n",
      "Epoch 21/100\n",
      "20/20 [==============================] - 0s 6ms/step - loss: 0.4339 - accuracy: 0.7915 - val_loss: 0.4532 - val_accuracy: 0.7792\n",
      "Epoch 22/100\n",
      "20/20 [==============================] - 0s 5ms/step - loss: 0.4327 - accuracy: 0.7899 - val_loss: 0.4554 - val_accuracy: 0.7727\n",
      "Epoch 23/100\n",
      "20/20 [==============================] - 0s 5ms/step - loss: 0.4317 - accuracy: 0.7980 - val_loss: 0.4567 - val_accuracy: 0.7922\n",
      "Epoch 24/100\n",
      "20/20 [==============================] - 0s 5ms/step - loss: 0.4305 - accuracy: 0.7964 - val_loss: 0.4545 - val_accuracy: 0.7727\n",
      "Epoch 25/100\n",
      "20/20 [==============================] - 0s 5ms/step - loss: 0.4297 - accuracy: 0.7948 - val_loss: 0.4568 - val_accuracy: 0.7857\n",
      "Epoch 26/100\n",
      "20/20 [==============================] - 0s 5ms/step - loss: 0.4291 - accuracy: 0.8013 - val_loss: 0.4526 - val_accuracy: 0.7727\n",
      "Epoch 27/100\n",
      "20/20 [==============================] - 0s 5ms/step - loss: 0.4277 - accuracy: 0.7997 - val_loss: 0.4541 - val_accuracy: 0.7727\n",
      "Epoch 28/100\n",
      "20/20 [==============================] - 0s 5ms/step - loss: 0.4272 - accuracy: 0.7948 - val_loss: 0.4525 - val_accuracy: 0.7922\n",
      "Epoch 29/100\n",
      "20/20 [==============================] - 0s 5ms/step - loss: 0.4253 - accuracy: 0.8029 - val_loss: 0.4476 - val_accuracy: 0.7857\n",
      "Epoch 30/100\n",
      "20/20 [==============================] - 0s 5ms/step - loss: 0.4239 - accuracy: 0.7964 - val_loss: 0.4530 - val_accuracy: 0.7857\n",
      "Epoch 31/100\n",
      "20/20 [==============================] - 0s 7ms/step - loss: 0.4231 - accuracy: 0.7948 - val_loss: 0.4575 - val_accuracy: 0.7857\n",
      "Epoch 32/100\n",
      "20/20 [==============================] - 0s 5ms/step - loss: 0.4223 - accuracy: 0.7964 - val_loss: 0.4549 - val_accuracy: 0.7792\n",
      "Epoch 33/100\n",
      "20/20 [==============================] - 0s 5ms/step - loss: 0.4204 - accuracy: 0.7980 - val_loss: 0.4513 - val_accuracy: 0.7857\n",
      "Epoch 34/100\n",
      "20/20 [==============================] - 0s 6ms/step - loss: 0.4195 - accuracy: 0.8046 - val_loss: 0.4529 - val_accuracy: 0.7857\n",
      "Epoch 35/100\n",
      "20/20 [==============================] - 0s 5ms/step - loss: 0.4187 - accuracy: 0.8029 - val_loss: 0.4519 - val_accuracy: 0.7727\n",
      "Epoch 36/100\n",
      "20/20 [==============================] - 0s 5ms/step - loss: 0.4174 - accuracy: 0.8013 - val_loss: 0.4548 - val_accuracy: 0.7662\n",
      "Epoch 37/100\n",
      "20/20 [==============================] - 0s 5ms/step - loss: 0.4160 - accuracy: 0.8062 - val_loss: 0.4513 - val_accuracy: 0.7792\n",
      "Epoch 38/100\n",
      "20/20 [==============================] - 0s 5ms/step - loss: 0.4152 - accuracy: 0.8046 - val_loss: 0.4525 - val_accuracy: 0.7857\n",
      "Epoch 39/100\n",
      "20/20 [==============================] - 0s 5ms/step - loss: 0.4157 - accuracy: 0.8062 - val_loss: 0.4528 - val_accuracy: 0.7662\n",
      "Epoch 40/100\n",
      "20/20 [==============================] - 0s 5ms/step - loss: 0.4132 - accuracy: 0.8078 - val_loss: 0.4526 - val_accuracy: 0.7727\n",
      "Epoch 41/100\n",
      "20/20 [==============================] - 0s 5ms/step - loss: 0.4145 - accuracy: 0.8029 - val_loss: 0.4590 - val_accuracy: 0.7727\n",
      "Epoch 42/100\n",
      "20/20 [==============================] - 0s 5ms/step - loss: 0.4145 - accuracy: 0.7997 - val_loss: 0.4484 - val_accuracy: 0.7727\n",
      "Epoch 43/100\n",
      "20/20 [==============================] - 0s 5ms/step - loss: 0.4101 - accuracy: 0.8046 - val_loss: 0.4587 - val_accuracy: 0.7727\n",
      "Epoch 44/100\n",
      "20/20 [==============================] - 0s 5ms/step - loss: 0.4112 - accuracy: 0.8143 - val_loss: 0.4567 - val_accuracy: 0.7857\n",
      "Epoch 45/100\n",
      "20/20 [==============================] - 0s 5ms/step - loss: 0.4099 - accuracy: 0.8078 - val_loss: 0.4511 - val_accuracy: 0.7922\n",
      "Epoch 46/100\n",
      "20/20 [==============================] - 0s 5ms/step - loss: 0.4079 - accuracy: 0.8143 - val_loss: 0.4552 - val_accuracy: 0.7727\n",
      "Epoch 47/100\n",
      "20/20 [==============================] - 0s 5ms/step - loss: 0.4074 - accuracy: 0.8127 - val_loss: 0.4532 - val_accuracy: 0.7662\n",
      "Epoch 48/100\n",
      "20/20 [==============================] - 0s 5ms/step - loss: 0.4065 - accuracy: 0.8062 - val_loss: 0.4551 - val_accuracy: 0.7792\n",
      "Epoch 49/100\n",
      "20/20 [==============================] - 0s 5ms/step - loss: 0.4057 - accuracy: 0.8111 - val_loss: 0.4551 - val_accuracy: 0.7922\n",
      "Epoch 50/100\n",
      "20/20 [==============================] - 0s 6ms/step - loss: 0.4062 - accuracy: 0.8111 - val_loss: 0.4551 - val_accuracy: 0.7922\n",
      "Epoch 51/100\n",
      "20/20 [==============================] - 0s 5ms/step - loss: 0.4039 - accuracy: 0.8176 - val_loss: 0.4582 - val_accuracy: 0.7727\n",
      "Epoch 52/100\n",
      "20/20 [==============================] - 0s 5ms/step - loss: 0.4041 - accuracy: 0.8192 - val_loss: 0.4553 - val_accuracy: 0.7987\n",
      "Epoch 53/100\n",
      "20/20 [==============================] - 0s 5ms/step - loss: 0.4033 - accuracy: 0.8160 - val_loss: 0.4545 - val_accuracy: 0.7792\n",
      "Epoch 54/100\n",
      "20/20 [==============================] - 0s 5ms/step - loss: 0.4037 - accuracy: 0.8078 - val_loss: 0.4547 - val_accuracy: 0.7727\n",
      "Epoch 55/100\n",
      "20/20 [==============================] - 0s 7ms/step - loss: 0.4002 - accuracy: 0.8127 - val_loss: 0.4511 - val_accuracy: 0.7857\n",
      "Epoch 56/100\n",
      "20/20 [==============================] - 0s 5ms/step - loss: 0.4016 - accuracy: 0.8111 - val_loss: 0.4537 - val_accuracy: 0.7792\n",
      "Epoch 57/100\n",
      "20/20 [==============================] - 0s 5ms/step - loss: 0.4004 - accuracy: 0.8143 - val_loss: 0.4502 - val_accuracy: 0.8052\n",
      "Epoch 58/100\n",
      "20/20 [==============================] - 0s 5ms/step - loss: 0.3974 - accuracy: 0.8192 - val_loss: 0.4564 - val_accuracy: 0.7857\n",
      "Epoch 59/100\n",
      "20/20 [==============================] - 0s 5ms/step - loss: 0.3982 - accuracy: 0.8111 - val_loss: 0.4574 - val_accuracy: 0.7792\n",
      "Epoch 60/100\n",
      "20/20 [==============================] - 0s 5ms/step - loss: 0.3999 - accuracy: 0.8127 - val_loss: 0.4455 - val_accuracy: 0.8052\n",
      "Epoch 61/100\n",
      "20/20 [==============================] - 0s 5ms/step - loss: 0.3972 - accuracy: 0.8094 - val_loss: 0.4564 - val_accuracy: 0.7662\n",
      "Epoch 62/100\n",
      "20/20 [==============================] - 0s 5ms/step - loss: 0.3962 - accuracy: 0.8127 - val_loss: 0.4553 - val_accuracy: 0.7987\n",
      "Epoch 63/100\n",
      "20/20 [==============================] - 0s 5ms/step - loss: 0.3960 - accuracy: 0.8225 - val_loss: 0.4604 - val_accuracy: 0.7857\n",
      "Epoch 64/100\n",
      "20/20 [==============================] - 0s 5ms/step - loss: 0.3969 - accuracy: 0.8176 - val_loss: 0.4501 - val_accuracy: 0.7922\n",
      "Epoch 65/100\n",
      "20/20 [==============================] - 0s 5ms/step - loss: 0.3942 - accuracy: 0.8176 - val_loss: 0.4576 - val_accuracy: 0.7987\n",
      "Epoch 66/100\n",
      "20/20 [==============================] - 0s 5ms/step - loss: 0.3926 - accuracy: 0.8192 - val_loss: 0.4603 - val_accuracy: 0.7792\n",
      "Epoch 67/100\n",
      "20/20 [==============================] - 0s 5ms/step - loss: 0.3931 - accuracy: 0.8127 - val_loss: 0.4534 - val_accuracy: 0.7792\n",
      "Epoch 68/100\n",
      "20/20 [==============================] - 0s 6ms/step - loss: 0.3908 - accuracy: 0.8176 - val_loss: 0.4567 - val_accuracy: 0.7857\n",
      "Epoch 69/100\n",
      "20/20 [==============================] - 0s 5ms/step - loss: 0.3903 - accuracy: 0.8160 - val_loss: 0.4561 - val_accuracy: 0.7792\n",
      "Epoch 70/100\n",
      "20/20 [==============================] - 0s 5ms/step - loss: 0.3900 - accuracy: 0.8225 - val_loss: 0.4566 - val_accuracy: 0.7857\n",
      "Epoch 71/100\n",
      "20/20 [==============================] - 0s 5ms/step - loss: 0.3890 - accuracy: 0.8176 - val_loss: 0.4588 - val_accuracy: 0.7727\n",
      "Epoch 72/100\n",
      "20/20 [==============================] - 0s 5ms/step - loss: 0.3904 - accuracy: 0.8208 - val_loss: 0.4529 - val_accuracy: 0.7792\n",
      "Epoch 73/100\n",
      "20/20 [==============================] - 0s 5ms/step - loss: 0.3884 - accuracy: 0.8192 - val_loss: 0.4584 - val_accuracy: 0.7727\n",
      "Epoch 74/100\n",
      "20/20 [==============================] - 0s 5ms/step - loss: 0.3880 - accuracy: 0.8241 - val_loss: 0.4611 - val_accuracy: 0.7857\n",
      "Epoch 75/100\n",
      "20/20 [==============================] - 0s 5ms/step - loss: 0.3880 - accuracy: 0.8225 - val_loss: 0.4621 - val_accuracy: 0.7597\n",
      "Epoch 76/100\n",
      "20/20 [==============================] - 0s 5ms/step - loss: 0.3846 - accuracy: 0.8241 - val_loss: 0.4573 - val_accuracy: 0.7727\n",
      "Epoch 77/100\n",
      "20/20 [==============================] - 0s 5ms/step - loss: 0.3839 - accuracy: 0.8176 - val_loss: 0.4526 - val_accuracy: 0.7922\n",
      "Epoch 78/100\n",
      "20/20 [==============================] - 0s 5ms/step - loss: 0.3837 - accuracy: 0.8225 - val_loss: 0.4603 - val_accuracy: 0.7857\n",
      "Epoch 79/100\n",
      "20/20 [==============================] - 0s 5ms/step - loss: 0.3834 - accuracy: 0.8160 - val_loss: 0.4550 - val_accuracy: 0.7792\n",
      "Epoch 80/100\n",
      "20/20 [==============================] - 0s 5ms/step - loss: 0.3838 - accuracy: 0.8208 - val_loss: 0.4563 - val_accuracy: 0.7727\n",
      "Epoch 81/100\n",
      "20/20 [==============================] - 0s 5ms/step - loss: 0.3818 - accuracy: 0.8225 - val_loss: 0.4530 - val_accuracy: 0.7792\n",
      "Epoch 82/100\n",
      "20/20 [==============================] - 0s 5ms/step - loss: 0.3828 - accuracy: 0.8208 - val_loss: 0.4536 - val_accuracy: 0.7792\n",
      "Epoch 83/100\n",
      "20/20 [==============================] - 0s 5ms/step - loss: 0.3811 - accuracy: 0.8111 - val_loss: 0.4530 - val_accuracy: 0.7922\n",
      "Epoch 84/100\n",
      "20/20 [==============================] - 0s 5ms/step - loss: 0.3817 - accuracy: 0.8257 - val_loss: 0.4539 - val_accuracy: 0.7857\n",
      "Epoch 85/100\n",
      "20/20 [==============================] - 0s 5ms/step - loss: 0.3814 - accuracy: 0.8176 - val_loss: 0.4514 - val_accuracy: 0.7792\n",
      "Epoch 86/100\n",
      "20/20 [==============================] - 0s 5ms/step - loss: 0.3802 - accuracy: 0.8225 - val_loss: 0.4595 - val_accuracy: 0.7857\n",
      "Epoch 87/100\n",
      "20/20 [==============================] - 0s 5ms/step - loss: 0.3783 - accuracy: 0.8257 - val_loss: 0.4583 - val_accuracy: 0.7662\n",
      "Epoch 88/100\n",
      "20/20 [==============================] - 0s 5ms/step - loss: 0.3799 - accuracy: 0.8208 - val_loss: 0.4703 - val_accuracy: 0.7727\n",
      "Epoch 89/100\n",
      "20/20 [==============================] - 0s 5ms/step - loss: 0.3776 - accuracy: 0.8160 - val_loss: 0.4560 - val_accuracy: 0.7792\n",
      "Epoch 90/100\n",
      "20/20 [==============================] - 0s 5ms/step - loss: 0.3773 - accuracy: 0.8225 - val_loss: 0.4710 - val_accuracy: 0.7792\n",
      "Epoch 91/100\n",
      "20/20 [==============================] - 0s 7ms/step - loss: 0.3775 - accuracy: 0.8322 - val_loss: 0.4577 - val_accuracy: 0.7857\n",
      "Epoch 92/100\n",
      "20/20 [==============================] - 0s 5ms/step - loss: 0.3743 - accuracy: 0.8371 - val_loss: 0.4621 - val_accuracy: 0.7792\n",
      "Epoch 93/100\n",
      "20/20 [==============================] - 0s 5ms/step - loss: 0.3734 - accuracy: 0.8339 - val_loss: 0.4625 - val_accuracy: 0.7727\n",
      "Epoch 94/100\n",
      "20/20 [==============================] - 0s 5ms/step - loss: 0.3749 - accuracy: 0.8257 - val_loss: 0.4624 - val_accuracy: 0.7727\n",
      "Epoch 95/100\n",
      "20/20 [==============================] - 0s 5ms/step - loss: 0.3720 - accuracy: 0.8208 - val_loss: 0.4564 - val_accuracy: 0.7792\n",
      "Epoch 96/100\n",
      "20/20 [==============================] - 0s 5ms/step - loss: 0.3713 - accuracy: 0.8274 - val_loss: 0.4582 - val_accuracy: 0.7792\n",
      "Epoch 97/100\n",
      "20/20 [==============================] - 0s 5ms/step - loss: 0.3704 - accuracy: 0.8339 - val_loss: 0.4607 - val_accuracy: 0.7662\n",
      "Epoch 98/100\n",
      "20/20 [==============================] - 0s 5ms/step - loss: 0.3714 - accuracy: 0.8355 - val_loss: 0.4633 - val_accuracy: 0.7662\n",
      "Epoch 99/100\n",
      "20/20 [==============================] - 0s 5ms/step - loss: 0.3717 - accuracy: 0.8290 - val_loss: 0.4544 - val_accuracy: 0.7662\n",
      "Epoch 100/100\n",
      "20/20 [==============================] - 0s 5ms/step - loss: 0.3697 - accuracy: 0.8290 - val_loss: 0.4538 - val_accuracy: 0.7727\n"
     ]
    },
    {
     "data": {
      "text/plain": [
       "<keras.src.callbacks.History at 0x1da66603fd0>"
      ]
     },
     "execution_count": 27,
     "metadata": {},
     "output_type": "execute_result"
    }
   ],
   "source": [
    "model.fit(xtrain,ytrain,initial_epoch=6,epochs=100 ,validation_data=(xtest,ytest))"
   ]
  },
  {
   "cell_type": "markdown",
   "metadata": {},
   "source": [
    "# Tune numbers of layers in a model"
   ]
  },
  {
   "cell_type": "markdown",
   "metadata": {},
   "source": [
    "- step1: build_model()"
   ]
  },
  {
   "cell_type": "code",
   "execution_count": 28,
   "metadata": {},
   "outputs": [],
   "source": [
    "def build_model(hp):\n",
    "    \"\"\" So here we have to run a loop to check how many layers model have performing the best\"\"\"\n",
    "    model=Sequential()\n",
    "    counter=0\n",
    "    for i in range(hp.Int('num_layers',min_value=1,max_value=10)):\n",
    "        if counter==0:\n",
    "            model.add(Dense(256,activation='relu',input_dim=8))\n",
    "            counter+=1\n",
    "        else:\n",
    "            model.add(Dense(128,activation='relu'))\n",
    "    model.add(Dense(1,activation='sigmoid'))\n",
    "    model.compile(optimizer='rmsprop', loss='binary_crossentropy',metrics=['accuracy'])\n",
    "    return model"
   ]
  },
  {
   "cell_type": "markdown",
   "metadata": {},
   "source": [
    "- step2: make a object of keras tuner "
   ]
  },
  {
   "cell_type": "code",
   "execution_count": 29,
   "metadata": {},
   "outputs": [
    {
     "name": "stdout",
     "output_type": "stream",
     "text": [
      "Reloading Tuner from .\\no of layers\\tuner0.json\n"
     ]
    }
   ],
   "source": [
    "tuner=kt.RandomSearch(build_model,objective='val_accuracy',max_trials=5,project_name='no of layers')"
   ]
  },
  {
   "cell_type": "markdown",
   "metadata": {},
   "source": [
    "- step3: call the search function using tuner object"
   ]
  },
  {
   "cell_type": "code",
   "execution_count": 30,
   "metadata": {},
   "outputs": [],
   "source": [
    "tuner.search(xtrain,ytrain,epochs=5,validation_data=(xtest,ytest))"
   ]
  },
  {
   "cell_type": "markdown",
   "metadata": {},
   "source": [
    "- step4: find best hyperparameter "
   ]
  },
  {
   "cell_type": "code",
   "execution_count": 31,
   "metadata": {},
   "outputs": [
    {
     "data": {
      "text/plain": [
       "{'num_layers': 6}"
      ]
     },
     "execution_count": 31,
     "metadata": {},
     "output_type": "execute_result"
    }
   ],
   "source": [
    "tuner.get_best_hyperparameters()[0].values"
   ]
  },
  {
   "cell_type": "markdown",
   "metadata": {},
   "source": [
    "- step5: extracting model"
   ]
  },
  {
   "cell_type": "code",
   "execution_count": 32,
   "metadata": {},
   "outputs": [],
   "source": [
    "model=tuner.get_best_models(num_models=1)[0]"
   ]
  },
  {
   "cell_type": "markdown",
   "metadata": {},
   "source": [
    "- step6: training the model"
   ]
  },
  {
   "cell_type": "code",
   "execution_count": 33,
   "metadata": {},
   "outputs": [
    {
     "name": "stdout",
     "output_type": "stream",
     "text": [
      "Epoch 6/100\n",
      "20/20 [==============================] - 2s 19ms/step - loss: 0.5927 - accuracy: 0.6954 - val_loss: 0.4762 - val_accuracy: 0.7792\n",
      "Epoch 7/100\n",
      "20/20 [==============================] - 0s 7ms/step - loss: 0.4956 - accuracy: 0.7752 - val_loss: 0.5468 - val_accuracy: 0.7338\n",
      "Epoch 8/100\n",
      "20/20 [==============================] - 0s 6ms/step - loss: 0.4712 - accuracy: 0.7785 - val_loss: 0.4549 - val_accuracy: 0.7792\n",
      "Epoch 9/100\n",
      "20/20 [==============================] - 0s 6ms/step - loss: 0.4595 - accuracy: 0.7720 - val_loss: 0.4541 - val_accuracy: 0.7662\n",
      "Epoch 10/100\n",
      "20/20 [==============================] - 0s 8ms/step - loss: 0.4534 - accuracy: 0.7785 - val_loss: 0.4886 - val_accuracy: 0.7532\n",
      "Epoch 11/100\n",
      "20/20 [==============================] - 0s 6ms/step - loss: 0.4413 - accuracy: 0.7997 - val_loss: 0.5694 - val_accuracy: 0.7532\n",
      "Epoch 12/100\n",
      "20/20 [==============================] - 0s 6ms/step - loss: 0.4378 - accuracy: 0.7948 - val_loss: 0.4565 - val_accuracy: 0.7792\n",
      "Epoch 13/100\n",
      "20/20 [==============================] - 0s 7ms/step - loss: 0.4327 - accuracy: 0.8013 - val_loss: 0.4599 - val_accuracy: 0.7857\n",
      "Epoch 14/100\n",
      "20/20 [==============================] - 0s 6ms/step - loss: 0.4170 - accuracy: 0.8143 - val_loss: 0.4590 - val_accuracy: 0.7532\n",
      "Epoch 15/100\n",
      "20/20 [==============================] - 0s 6ms/step - loss: 0.4086 - accuracy: 0.8143 - val_loss: 0.4535 - val_accuracy: 0.7662\n",
      "Epoch 16/100\n",
      "20/20 [==============================] - 0s 6ms/step - loss: 0.4080 - accuracy: 0.8046 - val_loss: 0.4575 - val_accuracy: 0.7792\n",
      "Epoch 17/100\n",
      "20/20 [==============================] - 0s 6ms/step - loss: 0.3843 - accuracy: 0.8127 - val_loss: 0.4580 - val_accuracy: 0.7662\n",
      "Epoch 18/100\n",
      "20/20 [==============================] - 0s 6ms/step - loss: 0.3732 - accuracy: 0.8306 - val_loss: 0.4846 - val_accuracy: 0.7468\n",
      "Epoch 19/100\n",
      "20/20 [==============================] - 0s 6ms/step - loss: 0.3639 - accuracy: 0.8355 - val_loss: 0.5419 - val_accuracy: 0.7078\n",
      "Epoch 20/100\n",
      "20/20 [==============================] - 0s 6ms/step - loss: 0.3539 - accuracy: 0.8322 - val_loss: 0.5381 - val_accuracy: 0.7208\n",
      "Epoch 21/100\n",
      "20/20 [==============================] - 0s 6ms/step - loss: 0.3558 - accuracy: 0.8208 - val_loss: 0.4588 - val_accuracy: 0.7727\n",
      "Epoch 22/100\n",
      "20/20 [==============================] - 0s 6ms/step - loss: 0.3370 - accuracy: 0.8502 - val_loss: 0.5237 - val_accuracy: 0.7532\n",
      "Epoch 23/100\n",
      "20/20 [==============================] - 0s 7ms/step - loss: 0.3127 - accuracy: 0.8697 - val_loss: 0.5306 - val_accuracy: 0.7468\n",
      "Epoch 24/100\n",
      "20/20 [==============================] - 0s 6ms/step - loss: 0.3124 - accuracy: 0.8746 - val_loss: 0.5716 - val_accuracy: 0.7662\n",
      "Epoch 25/100\n",
      "20/20 [==============================] - 0s 6ms/step - loss: 0.2784 - accuracy: 0.8795 - val_loss: 0.6121 - val_accuracy: 0.7662\n",
      "Epoch 26/100\n",
      "20/20 [==============================] - 0s 6ms/step - loss: 0.3039 - accuracy: 0.8616 - val_loss: 0.6155 - val_accuracy: 0.7532\n",
      "Epoch 27/100\n",
      "20/20 [==============================] - 0s 6ms/step - loss: 0.2564 - accuracy: 0.8909 - val_loss: 0.6647 - val_accuracy: 0.7273\n",
      "Epoch 28/100\n",
      "20/20 [==============================] - 0s 9ms/step - loss: 0.2398 - accuracy: 0.9121 - val_loss: 0.9612 - val_accuracy: 0.7273\n",
      "Epoch 29/100\n",
      "20/20 [==============================] - 0s 6ms/step - loss: 0.2327 - accuracy: 0.9055 - val_loss: 0.6527 - val_accuracy: 0.7468\n",
      "Epoch 30/100\n",
      "20/20 [==============================] - 0s 6ms/step - loss: 0.2468 - accuracy: 0.8876 - val_loss: 0.6917 - val_accuracy: 0.7208\n",
      "Epoch 31/100\n",
      "20/20 [==============================] - 0s 6ms/step - loss: 0.2136 - accuracy: 0.9153 - val_loss: 0.6618 - val_accuracy: 0.7338\n",
      "Epoch 32/100\n",
      "20/20 [==============================] - 0s 6ms/step - loss: 0.1807 - accuracy: 0.9316 - val_loss: 0.8937 - val_accuracy: 0.7208\n",
      "Epoch 33/100\n",
      "20/20 [==============================] - 0s 6ms/step - loss: 0.1692 - accuracy: 0.9316 - val_loss: 1.3523 - val_accuracy: 0.7013\n",
      "Epoch 34/100\n",
      "20/20 [==============================] - 0s 7ms/step - loss: 0.1634 - accuracy: 0.9365 - val_loss: 1.4340 - val_accuracy: 0.6364\n",
      "Epoch 35/100\n",
      "20/20 [==============================] - 0s 7ms/step - loss: 0.1937 - accuracy: 0.9251 - val_loss: 0.8295 - val_accuracy: 0.7013\n",
      "Epoch 36/100\n",
      "20/20 [==============================] - 0s 7ms/step - loss: 0.1261 - accuracy: 0.9528 - val_loss: 1.2606 - val_accuracy: 0.7143\n",
      "Epoch 37/100\n",
      "20/20 [==============================] - 0s 6ms/step - loss: 0.1584 - accuracy: 0.9430 - val_loss: 0.9521 - val_accuracy: 0.7403\n",
      "Epoch 38/100\n",
      "20/20 [==============================] - 0s 6ms/step - loss: 0.1174 - accuracy: 0.9593 - val_loss: 0.9418 - val_accuracy: 0.7143\n",
      "Epoch 39/100\n",
      "20/20 [==============================] - 0s 6ms/step - loss: 0.1297 - accuracy: 0.9577 - val_loss: 1.0742 - val_accuracy: 0.7208\n",
      "Epoch 40/100\n",
      "20/20 [==============================] - 0s 6ms/step - loss: 0.1118 - accuracy: 0.9707 - val_loss: 1.1630 - val_accuracy: 0.7078\n",
      "Epoch 41/100\n",
      "20/20 [==============================] - 0s 7ms/step - loss: 0.1117 - accuracy: 0.9658 - val_loss: 1.3048 - val_accuracy: 0.7013\n",
      "Epoch 42/100\n",
      "20/20 [==============================] - 0s 6ms/step - loss: 0.1158 - accuracy: 0.9593 - val_loss: 1.1218 - val_accuracy: 0.7403\n",
      "Epoch 43/100\n",
      "20/20 [==============================] - 0s 6ms/step - loss: 0.0769 - accuracy: 0.9756 - val_loss: 1.2158 - val_accuracy: 0.7403\n",
      "Epoch 44/100\n",
      "20/20 [==============================] - 0s 6ms/step - loss: 0.0793 - accuracy: 0.9707 - val_loss: 1.3463 - val_accuracy: 0.7078\n",
      "Epoch 45/100\n",
      "20/20 [==============================] - 0s 10ms/step - loss: 0.1132 - accuracy: 0.9511 - val_loss: 1.3229 - val_accuracy: 0.6818\n",
      "Epoch 46/100\n",
      "20/20 [==============================] - 0s 6ms/step - loss: 0.0629 - accuracy: 0.9788 - val_loss: 1.4677 - val_accuracy: 0.7338\n",
      "Epoch 47/100\n",
      "20/20 [==============================] - 0s 6ms/step - loss: 0.0746 - accuracy: 0.9723 - val_loss: 1.4240 - val_accuracy: 0.7468\n",
      "Epoch 48/100\n",
      "20/20 [==============================] - 0s 6ms/step - loss: 0.0584 - accuracy: 0.9788 - val_loss: 1.6699 - val_accuracy: 0.6558\n",
      "Epoch 49/100\n",
      "20/20 [==============================] - 0s 6ms/step - loss: 0.1024 - accuracy: 0.9739 - val_loss: 1.6366 - val_accuracy: 0.7078\n",
      "Epoch 50/100\n",
      "20/20 [==============================] - 0s 6ms/step - loss: 0.0300 - accuracy: 0.9919 - val_loss: 1.8577 - val_accuracy: 0.7208\n",
      "Epoch 51/100\n",
      "20/20 [==============================] - 0s 6ms/step - loss: 0.1025 - accuracy: 0.9609 - val_loss: 1.5516 - val_accuracy: 0.7143\n",
      "Epoch 52/100\n",
      "20/20 [==============================] - 0s 7ms/step - loss: 0.0565 - accuracy: 0.9805 - val_loss: 1.5368 - val_accuracy: 0.7208\n",
      "Epoch 53/100\n",
      "20/20 [==============================] - 0s 7ms/step - loss: 0.0380 - accuracy: 0.9886 - val_loss: 1.6880 - val_accuracy: 0.7662\n",
      "Epoch 54/100\n",
      "20/20 [==============================] - 0s 6ms/step - loss: 0.0743 - accuracy: 0.9772 - val_loss: 1.6882 - val_accuracy: 0.7532\n",
      "Epoch 55/100\n",
      "20/20 [==============================] - 0s 6ms/step - loss: 0.0382 - accuracy: 0.9870 - val_loss: 1.7896 - val_accuracy: 0.7208\n",
      "Epoch 56/100\n",
      "20/20 [==============================] - 0s 8ms/step - loss: 0.0389 - accuracy: 0.9870 - val_loss: 1.9030 - val_accuracy: 0.7013\n",
      "Epoch 57/100\n",
      "20/20 [==============================] - 0s 7ms/step - loss: 0.0763 - accuracy: 0.9756 - val_loss: 1.6619 - val_accuracy: 0.7662\n",
      "Epoch 58/100\n",
      "20/20 [==============================] - 0s 6ms/step - loss: 0.0536 - accuracy: 0.9788 - val_loss: 1.7303 - val_accuracy: 0.7468\n",
      "Epoch 59/100\n",
      "20/20 [==============================] - 0s 6ms/step - loss: 0.0757 - accuracy: 0.9756 - val_loss: 1.5036 - val_accuracy: 0.7403\n",
      "Epoch 60/100\n",
      "20/20 [==============================] - 0s 6ms/step - loss: 0.0384 - accuracy: 0.9821 - val_loss: 1.7759 - val_accuracy: 0.7273\n",
      "Epoch 61/100\n",
      "20/20 [==============================] - 0s 6ms/step - loss: 0.0661 - accuracy: 0.9821 - val_loss: 1.7083 - val_accuracy: 0.7273\n",
      "Epoch 62/100\n",
      "20/20 [==============================] - 0s 10ms/step - loss: 0.0284 - accuracy: 0.9935 - val_loss: 1.7967 - val_accuracy: 0.7078\n",
      "Epoch 63/100\n",
      "20/20 [==============================] - 0s 6ms/step - loss: 0.0429 - accuracy: 0.9919 - val_loss: 1.9428 - val_accuracy: 0.7143\n",
      "Epoch 64/100\n",
      "20/20 [==============================] - 0s 6ms/step - loss: 0.0128 - accuracy: 0.9951 - val_loss: 2.0680 - val_accuracy: 0.7143\n",
      "Epoch 65/100\n",
      "20/20 [==============================] - 0s 7ms/step - loss: 0.0537 - accuracy: 0.9821 - val_loss: 2.0504 - val_accuracy: 0.7403\n",
      "Epoch 66/100\n",
      "20/20 [==============================] - 0s 7ms/step - loss: 0.0649 - accuracy: 0.9805 - val_loss: 2.0661 - val_accuracy: 0.7403\n",
      "Epoch 67/100\n",
      "20/20 [==============================] - 0s 6ms/step - loss: 0.0223 - accuracy: 0.9935 - val_loss: 2.2778 - val_accuracy: 0.7208\n",
      "Epoch 68/100\n",
      "20/20 [==============================] - 0s 7ms/step - loss: 0.0506 - accuracy: 0.9886 - val_loss: 1.7869 - val_accuracy: 0.7273\n",
      "Epoch 69/100\n",
      "20/20 [==============================] - 0s 7ms/step - loss: 0.0247 - accuracy: 0.9919 - val_loss: 1.8768 - val_accuracy: 0.7273\n",
      "Epoch 70/100\n",
      "20/20 [==============================] - 0s 6ms/step - loss: 0.1034 - accuracy: 0.9642 - val_loss: 1.5627 - val_accuracy: 0.7792\n",
      "Epoch 71/100\n",
      "20/20 [==============================] - 0s 6ms/step - loss: 0.0279 - accuracy: 0.9919 - val_loss: 1.8466 - val_accuracy: 0.7403\n",
      "Epoch 72/100\n",
      "20/20 [==============================] - 0s 6ms/step - loss: 0.0148 - accuracy: 0.9967 - val_loss: 2.3298 - val_accuracy: 0.7208\n",
      "Epoch 73/100\n",
      "20/20 [==============================] - 0s 6ms/step - loss: 0.0317 - accuracy: 0.9919 - val_loss: 2.2480 - val_accuracy: 0.7208\n",
      "Epoch 74/100\n",
      "20/20 [==============================] - 0s 7ms/step - loss: 0.0396 - accuracy: 0.9886 - val_loss: 2.0191 - val_accuracy: 0.7078\n",
      "Epoch 75/100\n",
      "20/20 [==============================] - 0s 6ms/step - loss: 0.0483 - accuracy: 0.9772 - val_loss: 2.2013 - val_accuracy: 0.7013\n",
      "Epoch 76/100\n",
      "20/20 [==============================] - 0s 6ms/step - loss: 0.0683 - accuracy: 0.9853 - val_loss: 1.8891 - val_accuracy: 0.7208\n",
      "Epoch 77/100\n",
      "20/20 [==============================] - 0s 6ms/step - loss: 0.0044 - accuracy: 1.0000 - val_loss: 2.2212 - val_accuracy: 0.7338\n",
      "Epoch 78/100\n",
      "20/20 [==============================] - 0s 9ms/step - loss: 0.0058 - accuracy: 0.9984 - val_loss: 2.4178 - val_accuracy: 0.7468\n",
      "Epoch 79/100\n",
      "20/20 [==============================] - 0s 7ms/step - loss: 0.0709 - accuracy: 0.9805 - val_loss: 1.9115 - val_accuracy: 0.7403\n",
      "Epoch 80/100\n",
      "20/20 [==============================] - 0s 7ms/step - loss: 0.0044 - accuracy: 1.0000 - val_loss: 2.3241 - val_accuracy: 0.7273\n",
      "Epoch 81/100\n",
      "20/20 [==============================] - 0s 6ms/step - loss: 0.0298 - accuracy: 0.9870 - val_loss: 2.3941 - val_accuracy: 0.7013\n",
      "Epoch 82/100\n",
      "20/20 [==============================] - 0s 6ms/step - loss: 0.0917 - accuracy: 0.9609 - val_loss: 2.1736 - val_accuracy: 0.7078\n",
      "Epoch 83/100\n",
      "20/20 [==============================] - 0s 6ms/step - loss: 0.0166 - accuracy: 0.9967 - val_loss: 2.2145 - val_accuracy: 0.7143\n",
      "Epoch 84/100\n",
      "20/20 [==============================] - 0s 6ms/step - loss: 0.0197 - accuracy: 0.9919 - val_loss: 2.1848 - val_accuracy: 0.7532\n",
      "Epoch 85/100\n",
      "20/20 [==============================] - 0s 7ms/step - loss: 0.0899 - accuracy: 0.9837 - val_loss: 2.1905 - val_accuracy: 0.7078\n",
      "Epoch 86/100\n",
      "20/20 [==============================] - 0s 7ms/step - loss: 0.0447 - accuracy: 0.9886 - val_loss: 1.8461 - val_accuracy: 0.7338\n",
      "Epoch 87/100\n",
      "20/20 [==============================] - 0s 6ms/step - loss: 0.0135 - accuracy: 0.9919 - val_loss: 2.0532 - val_accuracy: 0.7078\n",
      "Epoch 88/100\n",
      "20/20 [==============================] - 0s 6ms/step - loss: 0.0332 - accuracy: 0.9886 - val_loss: 2.2212 - val_accuracy: 0.7338\n",
      "Epoch 89/100\n",
      "20/20 [==============================] - 0s 6ms/step - loss: 0.0320 - accuracy: 0.9853 - val_loss: 2.0787 - val_accuracy: 0.7532\n",
      "Epoch 90/100\n",
      "20/20 [==============================] - 0s 6ms/step - loss: 0.0376 - accuracy: 0.9902 - val_loss: 2.1023 - val_accuracy: 0.7273\n",
      "Epoch 91/100\n",
      "20/20 [==============================] - 0s 7ms/step - loss: 0.0291 - accuracy: 0.9886 - val_loss: 2.3136 - val_accuracy: 0.7143\n",
      "Epoch 92/100\n",
      "20/20 [==============================] - 0s 6ms/step - loss: 0.0422 - accuracy: 0.9837 - val_loss: 2.1829 - val_accuracy: 0.7338\n",
      "Epoch 93/100\n",
      "20/20 [==============================] - 0s 6ms/step - loss: 0.0214 - accuracy: 0.9886 - val_loss: 2.0748 - val_accuracy: 0.7078\n",
      "Epoch 94/100\n",
      "20/20 [==============================] - 0s 7ms/step - loss: 0.0104 - accuracy: 0.9967 - val_loss: 2.2499 - val_accuracy: 0.7468\n",
      "Epoch 95/100\n",
      "20/20 [==============================] - 0s 6ms/step - loss: 0.0010 - accuracy: 1.0000 - val_loss: 2.4517 - val_accuracy: 0.7468\n",
      "Epoch 96/100\n",
      "20/20 [==============================] - 0s 7ms/step - loss: 3.9982e-04 - accuracy: 1.0000 - val_loss: 2.6160 - val_accuracy: 0.7532\n",
      "Epoch 97/100\n",
      "20/20 [==============================] - 0s 7ms/step - loss: 1.6691e-04 - accuracy: 1.0000 - val_loss: 2.7874 - val_accuracy: 0.7662\n",
      "Epoch 98/100\n",
      "20/20 [==============================] - 0s 6ms/step - loss: 9.5172e-05 - accuracy: 1.0000 - val_loss: 2.8936 - val_accuracy: 0.7662\n",
      "Epoch 99/100\n",
      "20/20 [==============================] - 0s 6ms/step - loss: 5.6235e-05 - accuracy: 1.0000 - val_loss: 3.0104 - val_accuracy: 0.7532\n",
      "Epoch 100/100\n",
      "20/20 [==============================] - 0s 6ms/step - loss: 3.9879e-05 - accuracy: 1.0000 - val_loss: 3.0739 - val_accuracy: 0.7532\n"
     ]
    },
    {
     "data": {
      "text/plain": [
       "<keras.src.callbacks.History at 0x1da694a9cc0>"
      ]
     },
     "execution_count": 33,
     "metadata": {},
     "output_type": "execute_result"
    }
   ],
   "source": [
    "model.fit(xtrain,ytrain,epochs=100,initial_epoch=5,validation_data=(xtest,ytest))"
   ]
  },
  {
   "cell_type": "markdown",
   "metadata": {},
   "source": [
    "# Tune every hyperparameter of a model"
   ]
  },
  {
   "cell_type": "markdown",
   "metadata": {},
   "source": [
    "- step1: make build_model()"
   ]
  },
  {
   "cell_type": "code",
   "execution_count": 51,
   "metadata": {},
   "outputs": [],
   "source": [
    "def build_model(hp):\n",
    "    \"\"\" In this run a loop stores the every hyperparmater using hp object \"\"\"\n",
    "    model=Sequential()\n",
    "    counter=0\n",
    "    for i in range(hp.Int('no of layers',min_value=1,max_value=10)):\n",
    "        if counter==0:\n",
    "            model.add(Dense(\n",
    "                hp.Int('no of nodes'+str(i),min_value=32,max_value=256),\n",
    "                activation=hp.Choice('activation'+str(i),values=['relu','tanh','sigmoid','selu','elu']),\n",
    "                input_dim=8\n",
    "            ))\n",
    "            model.add(Dropout(hp.Choice('dropout'+str(i),values=[.1,.2,.3,.4,.5,.6,.7,.8,.9])))\n",
    "            counter+=1\n",
    "        else:\n",
    "            model.add(Dense\n",
    "                (hp.Int('no of nodes'+str(i),min_value=32,max_value=256),\n",
    "                activation=hp.Choice('activation'+str(i),values=['relu','tanh','sigmoid','selu','elu']),\n",
    "            ))\n",
    "            model.add(Dropout(hp.Choice('dropout'+str(i),values=[.1,.2,.3,.4,.5,.6,.7,.8,.9])))\n",
    "    model.add(Dense(1,activation='sigmoid'))\n",
    "    model.compile(\n",
    "        optimizer=hp.Choice('best optimizer',values=['adam','rmsprop','adadelta','sgd','momentum']),\n",
    "        loss='binary_crossentropy', # you can also give here the different loss function using hp.Choice() \n",
    "        metrics=['accuracy']\n",
    "    )\n",
    "    return model"
   ]
  },
  {
   "cell_type": "markdown",
   "metadata": {},
   "source": [
    "- step2: make tuner object of RandomSearch class"
   ]
  },
  {
   "cell_type": "code",
   "execution_count": 52,
   "metadata": {},
   "outputs": [
    {
     "name": "stdout",
     "output_type": "stream",
     "text": [
      "Reloading Tuner from .\\Tunning all best hyperparamters\\tuner0.json\n"
     ]
    }
   ],
   "source": [
    "tuner=kt.RandomSearch(build_model,objective='accuracy',max_trials=5,project_name='Tunning all best hyperparamters')"
   ]
  },
  {
   "cell_type": "markdown",
   "metadata": {},
   "source": [
    "- step3: call search() using tuner object"
   ]
  },
  {
   "cell_type": "code",
   "execution_count": 53,
   "metadata": {},
   "outputs": [],
   "source": [
    "tuner.search(xtrain,ytrain,epochs=5,validation_data=(xtest,ytest))"
   ]
  },
  {
   "cell_type": "markdown",
   "metadata": {},
   "source": [
    "- step4: getting best hyperparameters"
   ]
  },
  {
   "cell_type": "code",
   "execution_count": 54,
   "metadata": {},
   "outputs": [
    {
     "data": {
      "text/plain": [
       "{'no of layers': 6,\n",
       " 'no of nodes0': 124,\n",
       " 'activation0': 'sigmoid',\n",
       " 'best optimizer': 'sgd',\n",
       " 'no of nodes1': 227,\n",
       " 'activation1': 'relu',\n",
       " 'no of nodes2': 59,\n",
       " 'activation2': 'elu',\n",
       " 'no of nodes3': 99,\n",
       " 'activation3': 'selu',\n",
       " 'no of nodes4': 162,\n",
       " 'activation4': 'tanh',\n",
       " 'no of nodes5': 32,\n",
       " 'activation5': 'relu'}"
      ]
     },
     "execution_count": 54,
     "metadata": {},
     "output_type": "execute_result"
    }
   ],
   "source": [
    "tuner.get_best_hyperparameters()[0].values"
   ]
  },
  {
   "cell_type": "markdown",
   "metadata": {},
   "source": [
    "- step5 : extracting best model"
   ]
  },
  {
   "cell_type": "code",
   "execution_count": 55,
   "metadata": {},
   "outputs": [],
   "source": [
    "model=tuner.get_best_models(num_models=1)[0]"
   ]
  },
  {
   "cell_type": "markdown",
   "metadata": {},
   "source": [
    "- step6: model training"
   ]
  },
  {
   "cell_type": "code",
   "execution_count": 56,
   "metadata": {},
   "outputs": [
    {
     "name": "stdout",
     "output_type": "stream",
     "text": [
      "Epoch 6/200\n",
      "20/20 [==============================] - 2s 22ms/step - loss: 0.6283 - accuracy: 0.6515 - val_loss: 0.5536 - val_accuracy: 0.6948\n",
      "Epoch 7/200\n",
      "20/20 [==============================] - 0s 8ms/step - loss: 0.6330 - accuracy: 0.6645 - val_loss: 0.5455 - val_accuracy: 0.7143\n",
      "Epoch 8/200\n",
      "20/20 [==============================] - 0s 8ms/step - loss: 0.6143 - accuracy: 0.6433 - val_loss: 0.5372 - val_accuracy: 0.7468\n",
      "Epoch 9/200\n",
      "20/20 [==============================] - 0s 9ms/step - loss: 0.6212 - accuracy: 0.6710 - val_loss: 0.5351 - val_accuracy: 0.7468\n",
      "Epoch 10/200\n",
      "20/20 [==============================] - 0s 8ms/step - loss: 0.6066 - accuracy: 0.6824 - val_loss: 0.5225 - val_accuracy: 0.7403\n",
      "Epoch 11/200\n",
      "20/20 [==============================] - 0s 8ms/step - loss: 0.5997 - accuracy: 0.6954 - val_loss: 0.5965 - val_accuracy: 0.7143\n",
      "Epoch 12/200\n",
      "20/20 [==============================] - 0s 8ms/step - loss: 0.5943 - accuracy: 0.7003 - val_loss: 0.5158 - val_accuracy: 0.7273\n",
      "Epoch 13/200\n",
      "20/20 [==============================] - 0s 8ms/step - loss: 0.5779 - accuracy: 0.6971 - val_loss: 0.5017 - val_accuracy: 0.7468\n",
      "Epoch 14/200\n",
      "20/20 [==============================] - 0s 9ms/step - loss: 0.5921 - accuracy: 0.6938 - val_loss: 0.5126 - val_accuracy: 0.7338\n",
      "Epoch 15/200\n",
      "20/20 [==============================] - 0s 8ms/step - loss: 0.5914 - accuracy: 0.6792 - val_loss: 0.4934 - val_accuracy: 0.7532\n",
      "Epoch 16/200\n",
      "20/20 [==============================] - 0s 8ms/step - loss: 0.5685 - accuracy: 0.7020 - val_loss: 0.4918 - val_accuracy: 0.7532\n",
      "Epoch 17/200\n",
      "20/20 [==============================] - 0s 7ms/step - loss: 0.5680 - accuracy: 0.7085 - val_loss: 0.5329 - val_accuracy: 0.7338\n",
      "Epoch 18/200\n",
      "20/20 [==============================] - 0s 7ms/step - loss: 0.5541 - accuracy: 0.7117 - val_loss: 0.4957 - val_accuracy: 0.7468\n",
      "Epoch 19/200\n",
      "20/20 [==============================] - 0s 7ms/step - loss: 0.5547 - accuracy: 0.7085 - val_loss: 0.4798 - val_accuracy: 0.7532\n",
      "Epoch 20/200\n",
      "20/20 [==============================] - 0s 7ms/step - loss: 0.5483 - accuracy: 0.7085 - val_loss: 0.4786 - val_accuracy: 0.7532\n",
      "Epoch 21/200\n",
      "20/20 [==============================] - 0s 7ms/step - loss: 0.5520 - accuracy: 0.7134 - val_loss: 0.4763 - val_accuracy: 0.7532\n",
      "Epoch 22/200\n",
      "20/20 [==============================] - 0s 7ms/step - loss: 0.5298 - accuracy: 0.7345 - val_loss: 0.4747 - val_accuracy: 0.7532\n",
      "Epoch 23/200\n",
      "20/20 [==============================] - 0s 8ms/step - loss: 0.5409 - accuracy: 0.7134 - val_loss: 0.4823 - val_accuracy: 0.7403\n",
      "Epoch 24/200\n",
      "20/20 [==============================] - 0s 7ms/step - loss: 0.5384 - accuracy: 0.7264 - val_loss: 0.4728 - val_accuracy: 0.7532\n",
      "Epoch 25/200\n",
      "20/20 [==============================] - 0s 7ms/step - loss: 0.5377 - accuracy: 0.7410 - val_loss: 0.4749 - val_accuracy: 0.7468\n",
      "Epoch 26/200\n",
      "20/20 [==============================] - 0s 7ms/step - loss: 0.5392 - accuracy: 0.7296 - val_loss: 0.5090 - val_accuracy: 0.7532\n",
      "Epoch 27/200\n",
      "20/20 [==============================] - 0s 7ms/step - loss: 0.5369 - accuracy: 0.7313 - val_loss: 0.4750 - val_accuracy: 0.7922\n",
      "Epoch 28/200\n",
      "20/20 [==============================] - 0s 8ms/step - loss: 0.5382 - accuracy: 0.7329 - val_loss: 0.4711 - val_accuracy: 0.7468\n",
      "Epoch 29/200\n",
      "20/20 [==============================] - 0s 7ms/step - loss: 0.5428 - accuracy: 0.7215 - val_loss: 0.5989 - val_accuracy: 0.6883\n",
      "Epoch 30/200\n",
      "20/20 [==============================] - 0s 8ms/step - loss: 0.5301 - accuracy: 0.7459 - val_loss: 0.4803 - val_accuracy: 0.7727\n",
      "Epoch 31/200\n",
      "20/20 [==============================] - 0s 7ms/step - loss: 0.5337 - accuracy: 0.7541 - val_loss: 0.5430 - val_accuracy: 0.7208\n",
      "Epoch 32/200\n",
      "20/20 [==============================] - 0s 7ms/step - loss: 0.5480 - accuracy: 0.7394 - val_loss: 0.4841 - val_accuracy: 0.7338\n",
      "Epoch 33/200\n",
      "20/20 [==============================] - 0s 11ms/step - loss: 0.5413 - accuracy: 0.7280 - val_loss: 0.5017 - val_accuracy: 0.7662\n",
      "Epoch 34/200\n",
      "20/20 [==============================] - 0s 7ms/step - loss: 0.5267 - accuracy: 0.7313 - val_loss: 0.4697 - val_accuracy: 0.8052\n",
      "Epoch 35/200\n",
      "20/20 [==============================] - 0s 7ms/step - loss: 0.5272 - accuracy: 0.7476 - val_loss: 0.4666 - val_accuracy: 0.7532\n",
      "Epoch 36/200\n",
      "20/20 [==============================] - 0s 8ms/step - loss: 0.5253 - accuracy: 0.7671 - val_loss: 0.4675 - val_accuracy: 0.7597\n",
      "Epoch 37/200\n",
      "20/20 [==============================] - 0s 7ms/step - loss: 0.5022 - accuracy: 0.7590 - val_loss: 0.4938 - val_accuracy: 0.7468\n",
      "Epoch 38/200\n",
      "20/20 [==============================] - 0s 7ms/step - loss: 0.5243 - accuracy: 0.7427 - val_loss: 0.6021 - val_accuracy: 0.6818\n",
      "Epoch 39/200\n",
      "20/20 [==============================] - 0s 8ms/step - loss: 0.5355 - accuracy: 0.7182 - val_loss: 0.4769 - val_accuracy: 0.7338\n",
      "Epoch 40/200\n",
      "20/20 [==============================] - 0s 7ms/step - loss: 0.5456 - accuracy: 0.7134 - val_loss: 0.4731 - val_accuracy: 0.7857\n",
      "Epoch 41/200\n",
      "20/20 [==============================] - 0s 8ms/step - loss: 0.5259 - accuracy: 0.7410 - val_loss: 0.5478 - val_accuracy: 0.7273\n",
      "Epoch 42/200\n",
      "20/20 [==============================] - 0s 8ms/step - loss: 0.5333 - accuracy: 0.7329 - val_loss: 0.5156 - val_accuracy: 0.7597\n",
      "Epoch 43/200\n",
      "20/20 [==============================] - 0s 8ms/step - loss: 0.5299 - accuracy: 0.7362 - val_loss: 0.5110 - val_accuracy: 0.7597\n",
      "Epoch 44/200\n",
      "20/20 [==============================] - 0s 7ms/step - loss: 0.5147 - accuracy: 0.7590 - val_loss: 0.4663 - val_accuracy: 0.7987\n",
      "Epoch 45/200\n",
      "20/20 [==============================] - 0s 7ms/step - loss: 0.5173 - accuracy: 0.7492 - val_loss: 0.4628 - val_accuracy: 0.7532\n",
      "Epoch 46/200\n",
      "20/20 [==============================] - 0s 7ms/step - loss: 0.5367 - accuracy: 0.7280 - val_loss: 0.4644 - val_accuracy: 0.7468\n",
      "Epoch 47/200\n",
      "20/20 [==============================] - 0s 7ms/step - loss: 0.5110 - accuracy: 0.7394 - val_loss: 0.4971 - val_accuracy: 0.7597\n",
      "Epoch 48/200\n",
      "20/20 [==============================] - 0s 7ms/step - loss: 0.5163 - accuracy: 0.7427 - val_loss: 0.4613 - val_accuracy: 0.7727\n",
      "Epoch 49/200\n",
      "20/20 [==============================] - 0s 7ms/step - loss: 0.5245 - accuracy: 0.7199 - val_loss: 0.4775 - val_accuracy: 0.7468\n",
      "Epoch 50/200\n",
      "20/20 [==============================] - 0s 7ms/step - loss: 0.5128 - accuracy: 0.7296 - val_loss: 0.4749 - val_accuracy: 0.7468\n",
      "Epoch 51/200\n",
      "20/20 [==============================] - 0s 7ms/step - loss: 0.5023 - accuracy: 0.7638 - val_loss: 0.4614 - val_accuracy: 0.7857\n",
      "Epoch 52/200\n",
      "20/20 [==============================] - 0s 7ms/step - loss: 0.5063 - accuracy: 0.7378 - val_loss: 0.4722 - val_accuracy: 0.7792\n",
      "Epoch 53/200\n",
      "20/20 [==============================] - 0s 7ms/step - loss: 0.5047 - accuracy: 0.7590 - val_loss: 0.4725 - val_accuracy: 0.7403\n",
      "Epoch 54/200\n",
      "20/20 [==============================] - 0s 9ms/step - loss: 0.5067 - accuracy: 0.7590 - val_loss: 0.4656 - val_accuracy: 0.7403\n",
      "Epoch 55/200\n",
      "20/20 [==============================] - 0s 8ms/step - loss: 0.4968 - accuracy: 0.7443 - val_loss: 0.5059 - val_accuracy: 0.7468\n",
      "Epoch 56/200\n",
      "20/20 [==============================] - 0s 7ms/step - loss: 0.5038 - accuracy: 0.7508 - val_loss: 0.4619 - val_accuracy: 0.7857\n",
      "Epoch 57/200\n",
      "20/20 [==============================] - 0s 8ms/step - loss: 0.5362 - accuracy: 0.7166 - val_loss: 0.4773 - val_accuracy: 0.7662\n",
      "Epoch 58/200\n",
      "20/20 [==============================] - 0s 7ms/step - loss: 0.5112 - accuracy: 0.7378 - val_loss: 0.4609 - val_accuracy: 0.7403\n",
      "Epoch 59/200\n",
      "20/20 [==============================] - 0s 8ms/step - loss: 0.5022 - accuracy: 0.7671 - val_loss: 0.4614 - val_accuracy: 0.7403\n",
      "Epoch 60/200\n",
      "20/20 [==============================] - 0s 8ms/step - loss: 0.5192 - accuracy: 0.7508 - val_loss: 0.4610 - val_accuracy: 0.7727\n",
      "Epoch 61/200\n",
      "20/20 [==============================] - 0s 8ms/step - loss: 0.5165 - accuracy: 0.7394 - val_loss: 0.4661 - val_accuracy: 0.7468\n",
      "Epoch 62/200\n",
      "20/20 [==============================] - 0s 8ms/step - loss: 0.5005 - accuracy: 0.7541 - val_loss: 0.4605 - val_accuracy: 0.7857\n",
      "Epoch 63/200\n",
      "20/20 [==============================] - 0s 8ms/step - loss: 0.5294 - accuracy: 0.7443 - val_loss: 0.4597 - val_accuracy: 0.7597\n",
      "Epoch 64/200\n",
      "20/20 [==============================] - 0s 8ms/step - loss: 0.5216 - accuracy: 0.7541 - val_loss: 0.4876 - val_accuracy: 0.7792\n",
      "Epoch 65/200\n",
      "20/20 [==============================] - 0s 8ms/step - loss: 0.4897 - accuracy: 0.7818 - val_loss: 0.4995 - val_accuracy: 0.7662\n",
      "Epoch 66/200\n",
      "20/20 [==============================] - 0s 9ms/step - loss: 0.4965 - accuracy: 0.7410 - val_loss: 0.4594 - val_accuracy: 0.7662\n",
      "Epoch 67/200\n",
      "20/20 [==============================] - 0s 8ms/step - loss: 0.5159 - accuracy: 0.7329 - val_loss: 0.4772 - val_accuracy: 0.7727\n",
      "Epoch 68/200\n",
      "20/20 [==============================] - 0s 8ms/step - loss: 0.5038 - accuracy: 0.7655 - val_loss: 0.4695 - val_accuracy: 0.7468\n",
      "Epoch 69/200\n",
      "20/20 [==============================] - 0s 8ms/step - loss: 0.5014 - accuracy: 0.7524 - val_loss: 0.4808 - val_accuracy: 0.7532\n",
      "Epoch 70/200\n",
      "20/20 [==============================] - 0s 8ms/step - loss: 0.5138 - accuracy: 0.7655 - val_loss: 0.4657 - val_accuracy: 0.7403\n",
      "Epoch 71/200\n",
      "20/20 [==============================] - 0s 7ms/step - loss: 0.5093 - accuracy: 0.7524 - val_loss: 0.4625 - val_accuracy: 0.7468\n",
      "Epoch 72/200\n",
      "20/20 [==============================] - 0s 8ms/step - loss: 0.5140 - accuracy: 0.7459 - val_loss: 0.4815 - val_accuracy: 0.7792\n",
      "Epoch 73/200\n",
      "20/20 [==============================] - 0s 8ms/step - loss: 0.5119 - accuracy: 0.7427 - val_loss: 0.4648 - val_accuracy: 0.7857\n",
      "Epoch 74/200\n",
      "20/20 [==============================] - 0s 8ms/step - loss: 0.5026 - accuracy: 0.7410 - val_loss: 0.4657 - val_accuracy: 0.7403\n",
      "Epoch 75/200\n",
      "20/20 [==============================] - 0s 8ms/step - loss: 0.5090 - accuracy: 0.7752 - val_loss: 0.4720 - val_accuracy: 0.7532\n",
      "Epoch 76/200\n",
      "20/20 [==============================] - 0s 8ms/step - loss: 0.4927 - accuracy: 0.7671 - val_loss: 0.4878 - val_accuracy: 0.7727\n",
      "Epoch 77/200\n",
      "20/20 [==============================] - 0s 8ms/step - loss: 0.5189 - accuracy: 0.7345 - val_loss: 0.4606 - val_accuracy: 0.7532\n",
      "Epoch 78/200\n",
      "20/20 [==============================] - 0s 7ms/step - loss: 0.5166 - accuracy: 0.7557 - val_loss: 0.4620 - val_accuracy: 0.7662\n",
      "Epoch 79/200\n",
      "20/20 [==============================] - 0s 7ms/step - loss: 0.5008 - accuracy: 0.7704 - val_loss: 0.4658 - val_accuracy: 0.7532\n",
      "Epoch 80/200\n",
      "20/20 [==============================] - 0s 8ms/step - loss: 0.5151 - accuracy: 0.7508 - val_loss: 0.4668 - val_accuracy: 0.7468\n",
      "Epoch 81/200\n",
      "20/20 [==============================] - 0s 8ms/step - loss: 0.5296 - accuracy: 0.7492 - val_loss: 0.4618 - val_accuracy: 0.7403\n",
      "Epoch 82/200\n",
      "20/20 [==============================] - 0s 8ms/step - loss: 0.4966 - accuracy: 0.7557 - val_loss: 0.5247 - val_accuracy: 0.7403\n",
      "Epoch 83/200\n",
      "20/20 [==============================] - 0s 8ms/step - loss: 0.5039 - accuracy: 0.7557 - val_loss: 0.4738 - val_accuracy: 0.7857\n",
      "Epoch 84/200\n",
      "20/20 [==============================] - 0s 8ms/step - loss: 0.5152 - accuracy: 0.7541 - val_loss: 0.4625 - val_accuracy: 0.7468\n",
      "Epoch 85/200\n",
      "20/20 [==============================] - 0s 8ms/step - loss: 0.5081 - accuracy: 0.7524 - val_loss: 0.4632 - val_accuracy: 0.7403\n",
      "Epoch 86/200\n",
      "20/20 [==============================] - 0s 8ms/step - loss: 0.4924 - accuracy: 0.7427 - val_loss: 0.4631 - val_accuracy: 0.7338\n",
      "Epoch 87/200\n",
      "20/20 [==============================] - 0s 7ms/step - loss: 0.5000 - accuracy: 0.7606 - val_loss: 0.4753 - val_accuracy: 0.7532\n",
      "Epoch 88/200\n",
      "20/20 [==============================] - 0s 8ms/step - loss: 0.5111 - accuracy: 0.7638 - val_loss: 0.5027 - val_accuracy: 0.7662\n",
      "Epoch 89/200\n",
      "20/20 [==============================] - 0s 7ms/step - loss: 0.5069 - accuracy: 0.7508 - val_loss: 0.4616 - val_accuracy: 0.7403\n",
      "Epoch 90/200\n",
      "20/20 [==============================] - 0s 7ms/step - loss: 0.4951 - accuracy: 0.7671 - val_loss: 0.4680 - val_accuracy: 0.7532\n",
      "Epoch 91/200\n",
      "20/20 [==============================] - 0s 7ms/step - loss: 0.5108 - accuracy: 0.7427 - val_loss: 0.4724 - val_accuracy: 0.7792\n",
      "Epoch 92/200\n",
      "20/20 [==============================] - 0s 7ms/step - loss: 0.4840 - accuracy: 0.7590 - val_loss: 0.4616 - val_accuracy: 0.7403\n",
      "Epoch 93/200\n",
      "20/20 [==============================] - 0s 7ms/step - loss: 0.4975 - accuracy: 0.7459 - val_loss: 0.4637 - val_accuracy: 0.7468\n",
      "Epoch 94/200\n",
      "20/20 [==============================] - 0s 7ms/step - loss: 0.5034 - accuracy: 0.7427 - val_loss: 0.4823 - val_accuracy: 0.7792\n",
      "Epoch 95/200\n",
      "20/20 [==============================] - 0s 10ms/step - loss: 0.5137 - accuracy: 0.7378 - val_loss: 0.4636 - val_accuracy: 0.7727\n",
      "Epoch 96/200\n",
      "20/20 [==============================] - 0s 7ms/step - loss: 0.5037 - accuracy: 0.7541 - val_loss: 0.4585 - val_accuracy: 0.7403\n",
      "Epoch 97/200\n",
      "20/20 [==============================] - 0s 7ms/step - loss: 0.5065 - accuracy: 0.7785 - val_loss: 0.4585 - val_accuracy: 0.7403\n",
      "Epoch 98/200\n",
      "20/20 [==============================] - 0s 7ms/step - loss: 0.5034 - accuracy: 0.7541 - val_loss: 0.4820 - val_accuracy: 0.7857\n",
      "Epoch 99/200\n",
      "20/20 [==============================] - 0s 7ms/step - loss: 0.4955 - accuracy: 0.7638 - val_loss: 0.4640 - val_accuracy: 0.7857\n",
      "Epoch 100/200\n",
      "20/20 [==============================] - 0s 7ms/step - loss: 0.4939 - accuracy: 0.7720 - val_loss: 0.4756 - val_accuracy: 0.7857\n",
      "Epoch 101/200\n",
      "20/20 [==============================] - 0s 7ms/step - loss: 0.4987 - accuracy: 0.7866 - val_loss: 0.4832 - val_accuracy: 0.7857\n",
      "Epoch 102/200\n",
      "20/20 [==============================] - 0s 7ms/step - loss: 0.5006 - accuracy: 0.7671 - val_loss: 0.4651 - val_accuracy: 0.7403\n",
      "Epoch 103/200\n",
      "20/20 [==============================] - 0s 7ms/step - loss: 0.5118 - accuracy: 0.7573 - val_loss: 0.4618 - val_accuracy: 0.7468\n",
      "Epoch 104/200\n",
      "20/20 [==============================] - 0s 7ms/step - loss: 0.5043 - accuracy: 0.7655 - val_loss: 0.4629 - val_accuracy: 0.7532\n",
      "Epoch 105/200\n",
      "20/20 [==============================] - 0s 7ms/step - loss: 0.5010 - accuracy: 0.7557 - val_loss: 0.4724 - val_accuracy: 0.7727\n",
      "Epoch 106/200\n",
      "20/20 [==============================] - 0s 7ms/step - loss: 0.4803 - accuracy: 0.7671 - val_loss: 0.4764 - val_accuracy: 0.7857\n",
      "Epoch 107/200\n",
      "20/20 [==============================] - 0s 7ms/step - loss: 0.4909 - accuracy: 0.7622 - val_loss: 0.4624 - val_accuracy: 0.7662\n",
      "Epoch 108/200\n",
      "20/20 [==============================] - 0s 7ms/step - loss: 0.5075 - accuracy: 0.7492 - val_loss: 0.4644 - val_accuracy: 0.7532\n",
      "Epoch 109/200\n",
      "20/20 [==============================] - 0s 7ms/step - loss: 0.5052 - accuracy: 0.7524 - val_loss: 0.4661 - val_accuracy: 0.7857\n",
      "Epoch 110/200\n",
      "20/20 [==============================] - 0s 10ms/step - loss: 0.4937 - accuracy: 0.7638 - val_loss: 0.4682 - val_accuracy: 0.7857\n",
      "Epoch 111/200\n",
      "20/20 [==============================] - 0s 8ms/step - loss: 0.5118 - accuracy: 0.7427 - val_loss: 0.4635 - val_accuracy: 0.7727\n",
      "Epoch 112/200\n",
      "20/20 [==============================] - 0s 7ms/step - loss: 0.5076 - accuracy: 0.7704 - val_loss: 0.4763 - val_accuracy: 0.7727\n",
      "Epoch 113/200\n",
      "20/20 [==============================] - 0s 7ms/step - loss: 0.5116 - accuracy: 0.7459 - val_loss: 0.4617 - val_accuracy: 0.7662\n",
      "Epoch 114/200\n",
      "20/20 [==============================] - 0s 7ms/step - loss: 0.4938 - accuracy: 0.7638 - val_loss: 0.4594 - val_accuracy: 0.7532\n",
      "Epoch 115/200\n",
      "20/20 [==============================] - 0s 7ms/step - loss: 0.5068 - accuracy: 0.7557 - val_loss: 0.4617 - val_accuracy: 0.7662\n",
      "Epoch 116/200\n",
      "20/20 [==============================] - 0s 7ms/step - loss: 0.4944 - accuracy: 0.7622 - val_loss: 0.4691 - val_accuracy: 0.7662\n",
      "Epoch 117/200\n",
      "20/20 [==============================] - 0s 7ms/step - loss: 0.4936 - accuracy: 0.7541 - val_loss: 0.4581 - val_accuracy: 0.7403\n",
      "Epoch 118/200\n",
      "20/20 [==============================] - 0s 7ms/step - loss: 0.4831 - accuracy: 0.7883 - val_loss: 0.4582 - val_accuracy: 0.7532\n",
      "Epoch 119/200\n",
      "20/20 [==============================] - 0s 7ms/step - loss: 0.4979 - accuracy: 0.7655 - val_loss: 0.4595 - val_accuracy: 0.7792\n",
      "Epoch 120/200\n",
      "20/20 [==============================] - 0s 7ms/step - loss: 0.4933 - accuracy: 0.7687 - val_loss: 0.4633 - val_accuracy: 0.7792\n",
      "Epoch 121/200\n",
      "20/20 [==============================] - 0s 7ms/step - loss: 0.4852 - accuracy: 0.7704 - val_loss: 0.4661 - val_accuracy: 0.7727\n",
      "Epoch 122/200\n",
      "20/20 [==============================] - 0s 7ms/step - loss: 0.4910 - accuracy: 0.7524 - val_loss: 0.4591 - val_accuracy: 0.7857\n",
      "Epoch 123/200\n",
      "20/20 [==============================] - 0s 7ms/step - loss: 0.4899 - accuracy: 0.7687 - val_loss: 0.4591 - val_accuracy: 0.7532\n",
      "Epoch 124/200\n",
      "20/20 [==============================] - 0s 7ms/step - loss: 0.4938 - accuracy: 0.7541 - val_loss: 0.4573 - val_accuracy: 0.7532\n",
      "Epoch 125/200\n",
      "20/20 [==============================] - 0s 7ms/step - loss: 0.5039 - accuracy: 0.7606 - val_loss: 0.4590 - val_accuracy: 0.7468\n",
      "Epoch 126/200\n",
      "20/20 [==============================] - 0s 7ms/step - loss: 0.4876 - accuracy: 0.7492 - val_loss: 0.4577 - val_accuracy: 0.7532\n",
      "Epoch 127/200\n",
      "20/20 [==============================] - 0s 10ms/step - loss: 0.4952 - accuracy: 0.7541 - val_loss: 0.4576 - val_accuracy: 0.7468\n",
      "Epoch 128/200\n",
      "20/20 [==============================] - 0s 7ms/step - loss: 0.5111 - accuracy: 0.7541 - val_loss: 0.4597 - val_accuracy: 0.7597\n",
      "Epoch 129/200\n",
      "20/20 [==============================] - 0s 7ms/step - loss: 0.5086 - accuracy: 0.7590 - val_loss: 0.4593 - val_accuracy: 0.7468\n",
      "Epoch 130/200\n",
      "20/20 [==============================] - 0s 7ms/step - loss: 0.4980 - accuracy: 0.7638 - val_loss: 0.4885 - val_accuracy: 0.7792\n",
      "Epoch 131/200\n",
      "20/20 [==============================] - 0s 7ms/step - loss: 0.4997 - accuracy: 0.7655 - val_loss: 0.4631 - val_accuracy: 0.7532\n",
      "Epoch 132/200\n",
      "20/20 [==============================] - 0s 7ms/step - loss: 0.4924 - accuracy: 0.7704 - val_loss: 0.4618 - val_accuracy: 0.7403\n",
      "Epoch 133/200\n",
      "20/20 [==============================] - 0s 8ms/step - loss: 0.4884 - accuracy: 0.7769 - val_loss: 0.4618 - val_accuracy: 0.7468\n",
      "Epoch 134/200\n",
      "20/20 [==============================] - 0s 7ms/step - loss: 0.4875 - accuracy: 0.7524 - val_loss: 0.4741 - val_accuracy: 0.7727\n",
      "Epoch 135/200\n",
      "20/20 [==============================] - 0s 7ms/step - loss: 0.4887 - accuracy: 0.7622 - val_loss: 0.4623 - val_accuracy: 0.7468\n",
      "Epoch 136/200\n",
      "20/20 [==============================] - 0s 7ms/step - loss: 0.4945 - accuracy: 0.7573 - val_loss: 0.4955 - val_accuracy: 0.7857\n",
      "Epoch 137/200\n",
      "20/20 [==============================] - 0s 7ms/step - loss: 0.4939 - accuracy: 0.7671 - val_loss: 0.4615 - val_accuracy: 0.7532\n",
      "Epoch 138/200\n",
      "20/20 [==============================] - 0s 8ms/step - loss: 0.4833 - accuracy: 0.7622 - val_loss: 0.4656 - val_accuracy: 0.7662\n",
      "Epoch 139/200\n",
      "20/20 [==============================] - 0s 7ms/step - loss: 0.4865 - accuracy: 0.7720 - val_loss: 0.4626 - val_accuracy: 0.7532\n",
      "Epoch 140/200\n",
      "20/20 [==============================] - 0s 7ms/step - loss: 0.4959 - accuracy: 0.7736 - val_loss: 0.4617 - val_accuracy: 0.7468\n",
      "Epoch 141/200\n",
      "20/20 [==============================] - 0s 7ms/step - loss: 0.5124 - accuracy: 0.7590 - val_loss: 0.4668 - val_accuracy: 0.7857\n",
      "Epoch 142/200\n",
      "20/20 [==============================] - 0s 10ms/step - loss: 0.5012 - accuracy: 0.7687 - val_loss: 0.4613 - val_accuracy: 0.7468\n",
      "Epoch 143/200\n",
      "20/20 [==============================] - 0s 7ms/step - loss: 0.4977 - accuracy: 0.7524 - val_loss: 0.4837 - val_accuracy: 0.7857\n",
      "Epoch 144/200\n",
      "20/20 [==============================] - 0s 7ms/step - loss: 0.5026 - accuracy: 0.7443 - val_loss: 0.4641 - val_accuracy: 0.7403\n",
      "Epoch 145/200\n",
      "20/20 [==============================] - 0s 7ms/step - loss: 0.4821 - accuracy: 0.7704 - val_loss: 0.4592 - val_accuracy: 0.7532\n",
      "Epoch 146/200\n",
      "20/20 [==============================] - 0s 7ms/step - loss: 0.4868 - accuracy: 0.7655 - val_loss: 0.4615 - val_accuracy: 0.7532\n",
      "Epoch 147/200\n",
      "20/20 [==============================] - 0s 7ms/step - loss: 0.4856 - accuracy: 0.7638 - val_loss: 0.4626 - val_accuracy: 0.7662\n",
      "Epoch 148/200\n",
      "20/20 [==============================] - 0s 7ms/step - loss: 0.4816 - accuracy: 0.7720 - val_loss: 0.4594 - val_accuracy: 0.7532\n",
      "Epoch 149/200\n",
      "20/20 [==============================] - 0s 7ms/step - loss: 0.4905 - accuracy: 0.7655 - val_loss: 0.4657 - val_accuracy: 0.7727\n",
      "Epoch 150/200\n",
      "20/20 [==============================] - 0s 7ms/step - loss: 0.4900 - accuracy: 0.7606 - val_loss: 0.4629 - val_accuracy: 0.7662\n",
      "Epoch 151/200\n",
      "20/20 [==============================] - 0s 7ms/step - loss: 0.4826 - accuracy: 0.7736 - val_loss: 0.4654 - val_accuracy: 0.7857\n",
      "Epoch 152/200\n",
      "20/20 [==============================] - 0s 7ms/step - loss: 0.4982 - accuracy: 0.7736 - val_loss: 0.4887 - val_accuracy: 0.7922\n",
      "Epoch 153/200\n",
      "20/20 [==============================] - 0s 7ms/step - loss: 0.4878 - accuracy: 0.7720 - val_loss: 0.4572 - val_accuracy: 0.7532\n",
      "Epoch 154/200\n",
      "20/20 [==============================] - 0s 7ms/step - loss: 0.5023 - accuracy: 0.7524 - val_loss: 0.4694 - val_accuracy: 0.7792\n",
      "Epoch 155/200\n",
      "20/20 [==============================] - 0s 7ms/step - loss: 0.4911 - accuracy: 0.7704 - val_loss: 0.4592 - val_accuracy: 0.7468\n",
      "Epoch 156/200\n",
      "20/20 [==============================] - 0s 7ms/step - loss: 0.4774 - accuracy: 0.7801 - val_loss: 0.4649 - val_accuracy: 0.7727\n",
      "Epoch 157/200\n",
      "20/20 [==============================] - 0s 7ms/step - loss: 0.4854 - accuracy: 0.7769 - val_loss: 0.4609 - val_accuracy: 0.7532\n",
      "Epoch 158/200\n",
      "20/20 [==============================] - 0s 7ms/step - loss: 0.4905 - accuracy: 0.7720 - val_loss: 0.4853 - val_accuracy: 0.7792\n",
      "Epoch 159/200\n",
      "20/20 [==============================] - 0s 11ms/step - loss: 0.4848 - accuracy: 0.7606 - val_loss: 0.4642 - val_accuracy: 0.7532\n",
      "Epoch 160/200\n",
      "20/20 [==============================] - 0s 8ms/step - loss: 0.4839 - accuracy: 0.7687 - val_loss: 0.4616 - val_accuracy: 0.7468\n",
      "Epoch 161/200\n",
      "20/20 [==============================] - 0s 8ms/step - loss: 0.4984 - accuracy: 0.7606 - val_loss: 0.4749 - val_accuracy: 0.7727\n",
      "Epoch 162/200\n",
      "20/20 [==============================] - 0s 8ms/step - loss: 0.4941 - accuracy: 0.7687 - val_loss: 0.4612 - val_accuracy: 0.7532\n",
      "Epoch 163/200\n",
      "20/20 [==============================] - 0s 8ms/step - loss: 0.4825 - accuracy: 0.7801 - val_loss: 0.4665 - val_accuracy: 0.7662\n",
      "Epoch 164/200\n",
      "20/20 [==============================] - 0s 9ms/step - loss: 0.4836 - accuracy: 0.7638 - val_loss: 0.4637 - val_accuracy: 0.7532\n",
      "Epoch 165/200\n",
      "20/20 [==============================] - 0s 8ms/step - loss: 0.5096 - accuracy: 0.7622 - val_loss: 0.4702 - val_accuracy: 0.7597\n",
      "Epoch 166/200\n",
      "20/20 [==============================] - 0s 7ms/step - loss: 0.4895 - accuracy: 0.7704 - val_loss: 0.4854 - val_accuracy: 0.7792\n",
      "Epoch 167/200\n",
      "20/20 [==============================] - 0s 8ms/step - loss: 0.4846 - accuracy: 0.7671 - val_loss: 0.4665 - val_accuracy: 0.7532\n",
      "Epoch 168/200\n",
      "20/20 [==============================] - 0s 8ms/step - loss: 0.4911 - accuracy: 0.7752 - val_loss: 0.4628 - val_accuracy: 0.7403\n",
      "Epoch 169/200\n",
      "20/20 [==============================] - 0s 8ms/step - loss: 0.4946 - accuracy: 0.7573 - val_loss: 0.4684 - val_accuracy: 0.7532\n",
      "Epoch 170/200\n",
      "20/20 [==============================] - 0s 7ms/step - loss: 0.4812 - accuracy: 0.7704 - val_loss: 0.4665 - val_accuracy: 0.7532\n",
      "Epoch 171/200\n",
      "20/20 [==============================] - 0s 9ms/step - loss: 0.4927 - accuracy: 0.7687 - val_loss: 0.4690 - val_accuracy: 0.7727\n",
      "Epoch 172/200\n",
      "20/20 [==============================] - 0s 8ms/step - loss: 0.4796 - accuracy: 0.7785 - val_loss: 0.4685 - val_accuracy: 0.7727\n",
      "Epoch 173/200\n",
      "20/20 [==============================] - 0s 8ms/step - loss: 0.4766 - accuracy: 0.7752 - val_loss: 0.5231 - val_accuracy: 0.7532\n",
      "Epoch 174/200\n",
      "20/20 [==============================] - 0s 8ms/step - loss: 0.5051 - accuracy: 0.7655 - val_loss: 0.4729 - val_accuracy: 0.7857\n",
      "Epoch 175/200\n",
      "20/20 [==============================] - 0s 7ms/step - loss: 0.5060 - accuracy: 0.7557 - val_loss: 0.4668 - val_accuracy: 0.7532\n",
      "Epoch 176/200\n",
      "20/20 [==============================] - 0s 7ms/step - loss: 0.4731 - accuracy: 0.7785 - val_loss: 0.4739 - val_accuracy: 0.7857\n",
      "Epoch 177/200\n",
      "20/20 [==============================] - 0s 8ms/step - loss: 0.4971 - accuracy: 0.7638 - val_loss: 0.4936 - val_accuracy: 0.7987\n",
      "Epoch 178/200\n",
      "20/20 [==============================] - 0s 7ms/step - loss: 0.4865 - accuracy: 0.7671 - val_loss: 0.4641 - val_accuracy: 0.7662\n",
      "Epoch 179/200\n",
      "20/20 [==============================] - 0s 8ms/step - loss: 0.5014 - accuracy: 0.7508 - val_loss: 0.4696 - val_accuracy: 0.7922\n",
      "Epoch 180/200\n",
      "20/20 [==============================] - 0s 8ms/step - loss: 0.5098 - accuracy: 0.7687 - val_loss: 0.4718 - val_accuracy: 0.7792\n",
      "Epoch 181/200\n",
      "20/20 [==============================] - 0s 8ms/step - loss: 0.4926 - accuracy: 0.7671 - val_loss: 0.4738 - val_accuracy: 0.7727\n",
      "Epoch 182/200\n",
      "20/20 [==============================] - 0s 8ms/step - loss: 0.4819 - accuracy: 0.7622 - val_loss: 0.4631 - val_accuracy: 0.7662\n",
      "Epoch 183/200\n",
      "20/20 [==============================] - 0s 8ms/step - loss: 0.4929 - accuracy: 0.7573 - val_loss: 0.4734 - val_accuracy: 0.7857\n",
      "Epoch 184/200\n",
      "20/20 [==============================] - 0s 9ms/step - loss: 0.4968 - accuracy: 0.7687 - val_loss: 0.4633 - val_accuracy: 0.7662\n",
      "Epoch 185/200\n",
      "20/20 [==============================] - 0s 8ms/step - loss: 0.4880 - accuracy: 0.7687 - val_loss: 0.4729 - val_accuracy: 0.7857\n",
      "Epoch 186/200\n",
      "20/20 [==============================] - 0s 7ms/step - loss: 0.4841 - accuracy: 0.7752 - val_loss: 0.4661 - val_accuracy: 0.7532\n",
      "Epoch 187/200\n",
      "20/20 [==============================] - 0s 8ms/step - loss: 0.4740 - accuracy: 0.7899 - val_loss: 0.4693 - val_accuracy: 0.7857\n",
      "Epoch 188/200\n",
      "20/20 [==============================] - 0s 7ms/step - loss: 0.4937 - accuracy: 0.7752 - val_loss: 0.4657 - val_accuracy: 0.7727\n",
      "Epoch 189/200\n",
      "20/20 [==============================] - 0s 7ms/step - loss: 0.4808 - accuracy: 0.7915 - val_loss: 0.4620 - val_accuracy: 0.7468\n",
      "Epoch 190/200\n",
      "20/20 [==============================] - 0s 8ms/step - loss: 0.4907 - accuracy: 0.7671 - val_loss: 0.4626 - val_accuracy: 0.7597\n",
      "Epoch 191/200\n",
      "20/20 [==============================] - 0s 8ms/step - loss: 0.4931 - accuracy: 0.7655 - val_loss: 0.4654 - val_accuracy: 0.7792\n",
      "Epoch 192/200\n",
      "20/20 [==============================] - 0s 8ms/step - loss: 0.4914 - accuracy: 0.7655 - val_loss: 0.4748 - val_accuracy: 0.7792\n",
      "Epoch 193/200\n",
      "20/20 [==============================] - 0s 7ms/step - loss: 0.4971 - accuracy: 0.7655 - val_loss: 0.4598 - val_accuracy: 0.7597\n",
      "Epoch 194/200\n",
      "20/20 [==============================] - 0s 8ms/step - loss: 0.4803 - accuracy: 0.7818 - val_loss: 0.4609 - val_accuracy: 0.7662\n",
      "Epoch 195/200\n",
      "20/20 [==============================] - 0s 7ms/step - loss: 0.4841 - accuracy: 0.7736 - val_loss: 0.4760 - val_accuracy: 0.7792\n",
      "Epoch 196/200\n",
      "20/20 [==============================] - 0s 9ms/step - loss: 0.4745 - accuracy: 0.7720 - val_loss: 0.5076 - val_accuracy: 0.7792\n",
      "Epoch 197/200\n",
      "20/20 [==============================] - 0s 7ms/step - loss: 0.4960 - accuracy: 0.7801 - val_loss: 0.4684 - val_accuracy: 0.7857\n",
      "Epoch 198/200\n",
      "20/20 [==============================] - 0s 8ms/step - loss: 0.4705 - accuracy: 0.7785 - val_loss: 0.4608 - val_accuracy: 0.7597\n",
      "Epoch 199/200\n",
      "20/20 [==============================] - 0s 7ms/step - loss: 0.4906 - accuracy: 0.7541 - val_loss: 0.4640 - val_accuracy: 0.7857\n",
      "Epoch 200/200\n",
      "20/20 [==============================] - 0s 8ms/step - loss: 0.4973 - accuracy: 0.7655 - val_loss: 0.4734 - val_accuracy: 0.7792\n"
     ]
    },
    {
     "data": {
      "text/plain": [
       "<keras.src.callbacks.History at 0x1da6c8819c0>"
      ]
     },
     "execution_count": 56,
     "metadata": {},
     "output_type": "execute_result"
    }
   ],
   "source": [
    "model.fit(xtrain,ytrain,epochs=200,initial_epoch=5,validation_data=(xtest,ytest))"
   ]
  },
  {
   "cell_type": "markdown",
   "metadata": {},
   "source": [
    "The conclusion is you tune any hyperparameter using this keras tuner "
   ]
  }
 ],
 "metadata": {
  "kernelspec": {
   "display_name": "Python 3",
   "language": "python",
   "name": "python3"
  },
  "language_info": {
   "codemirror_mode": {
    "name": "ipython",
    "version": 3
   },
   "file_extension": ".py",
   "mimetype": "text/x-python",
   "name": "python",
   "nbconvert_exporter": "python",
   "pygments_lexer": "ipython3",
   "version": "3.10.11"
  }
 },
 "nbformat": 4,
 "nbformat_minor": 2
}
