{
 "cells": [
  {
   "cell_type": "code",
   "execution_count": 1,
   "metadata": {},
   "outputs": [],
   "source": [
    "import pandas as pd \n",
    "import numpy as np\n",
    "import matplotlib.pyplot as plt\n",
    "import seaborn as sns"
   ]
  },
  {
   "cell_type": "code",
   "execution_count": 2,
   "metadata": {},
   "outputs": [],
   "source": [
    "import tensorflow as tf\n",
    "from tensorflow.keras import Sequential\n",
    "from tensorflow.keras.layers import Dense"
   ]
  },
  {
   "cell_type": "code",
   "execution_count": 3,
   "metadata": {},
   "outputs": [],
   "source": [
    "df=pd.read_csv('diabetes.csv')"
   ]
  },
  {
   "cell_type": "code",
   "execution_count": 4,
   "metadata": {},
   "outputs": [
    {
     "data": {
      "text/html": [
       "<div>\n",
       "<style scoped>\n",
       "    .dataframe tbody tr th:only-of-type {\n",
       "        vertical-align: middle;\n",
       "    }\n",
       "\n",
       "    .dataframe tbody tr th {\n",
       "        vertical-align: top;\n",
       "    }\n",
       "\n",
       "    .dataframe thead th {\n",
       "        text-align: right;\n",
       "    }\n",
       "</style>\n",
       "<table border=\"1\" class=\"dataframe\">\n",
       "  <thead>\n",
       "    <tr style=\"text-align: right;\">\n",
       "      <th></th>\n",
       "      <th>Pregnancies</th>\n",
       "      <th>Glucose</th>\n",
       "      <th>BloodPressure</th>\n",
       "      <th>SkinThickness</th>\n",
       "      <th>Insulin</th>\n",
       "      <th>BMI</th>\n",
       "      <th>DiabetesPedigreeFunction</th>\n",
       "      <th>Age</th>\n",
       "      <th>Outcome</th>\n",
       "    </tr>\n",
       "  </thead>\n",
       "  <tbody>\n",
       "    <tr>\n",
       "      <th>0</th>\n",
       "      <td>6</td>\n",
       "      <td>148</td>\n",
       "      <td>72</td>\n",
       "      <td>35</td>\n",
       "      <td>0</td>\n",
       "      <td>33.6</td>\n",
       "      <td>0.627</td>\n",
       "      <td>50</td>\n",
       "      <td>1</td>\n",
       "    </tr>\n",
       "    <tr>\n",
       "      <th>1</th>\n",
       "      <td>1</td>\n",
       "      <td>85</td>\n",
       "      <td>66</td>\n",
       "      <td>29</td>\n",
       "      <td>0</td>\n",
       "      <td>26.6</td>\n",
       "      <td>0.351</td>\n",
       "      <td>31</td>\n",
       "      <td>0</td>\n",
       "    </tr>\n",
       "    <tr>\n",
       "      <th>2</th>\n",
       "      <td>8</td>\n",
       "      <td>183</td>\n",
       "      <td>64</td>\n",
       "      <td>0</td>\n",
       "      <td>0</td>\n",
       "      <td>23.3</td>\n",
       "      <td>0.672</td>\n",
       "      <td>32</td>\n",
       "      <td>1</td>\n",
       "    </tr>\n",
       "    <tr>\n",
       "      <th>3</th>\n",
       "      <td>1</td>\n",
       "      <td>89</td>\n",
       "      <td>66</td>\n",
       "      <td>23</td>\n",
       "      <td>94</td>\n",
       "      <td>28.1</td>\n",
       "      <td>0.167</td>\n",
       "      <td>21</td>\n",
       "      <td>0</td>\n",
       "    </tr>\n",
       "    <tr>\n",
       "      <th>4</th>\n",
       "      <td>0</td>\n",
       "      <td>137</td>\n",
       "      <td>40</td>\n",
       "      <td>35</td>\n",
       "      <td>168</td>\n",
       "      <td>43.1</td>\n",
       "      <td>2.288</td>\n",
       "      <td>33</td>\n",
       "      <td>1</td>\n",
       "    </tr>\n",
       "  </tbody>\n",
       "</table>\n",
       "</div>"
      ],
      "text/plain": [
       "   Pregnancies  Glucose  BloodPressure  SkinThickness  Insulin   BMI  \\\n",
       "0            6      148             72             35        0  33.6   \n",
       "1            1       85             66             29        0  26.6   \n",
       "2            8      183             64              0        0  23.3   \n",
       "3            1       89             66             23       94  28.1   \n",
       "4            0      137             40             35      168  43.1   \n",
       "\n",
       "   DiabetesPedigreeFunction  Age  Outcome  \n",
       "0                     0.627   50        1  \n",
       "1                     0.351   31        0  \n",
       "2                     0.672   32        1  \n",
       "3                     0.167   21        0  \n",
       "4                     2.288   33        1  "
      ]
     },
     "execution_count": 4,
     "metadata": {},
     "output_type": "execute_result"
    }
   ],
   "source": [
    "df.head()"
   ]
  },
  {
   "cell_type": "code",
   "execution_count": 5,
   "metadata": {},
   "outputs": [
    {
     "name": "stdout",
     "output_type": "stream",
     "text": [
      "<class 'pandas.core.frame.DataFrame'>\n",
      "RangeIndex: 768 entries, 0 to 767\n",
      "Data columns (total 9 columns):\n",
      " #   Column                    Non-Null Count  Dtype  \n",
      "---  ------                    --------------  -----  \n",
      " 0   Pregnancies               768 non-null    int64  \n",
      " 1   Glucose                   768 non-null    int64  \n",
      " 2   BloodPressure             768 non-null    int64  \n",
      " 3   SkinThickness             768 non-null    int64  \n",
      " 4   Insulin                   768 non-null    int64  \n",
      " 5   BMI                       768 non-null    float64\n",
      " 6   DiabetesPedigreeFunction  768 non-null    float64\n",
      " 7   Age                       768 non-null    int64  \n",
      " 8   Outcome                   768 non-null    int64  \n",
      "dtypes: float64(2), int64(7)\n",
      "memory usage: 54.1 KB\n"
     ]
    }
   ],
   "source": [
    "df.info()"
   ]
  },
  {
   "cell_type": "code",
   "execution_count": 6,
   "metadata": {},
   "outputs": [],
   "source": [
    "x=df.drop(columns=['Outcome']).values\n",
    "y=df['Outcome'].values"
   ]
  },
  {
   "cell_type": "code",
   "execution_count": 7,
   "metadata": {},
   "outputs": [],
   "source": [
    "from sklearn.model_selection import train_test_split\n",
    "xtrain,xtest,ytrain,ytest=train_test_split(x,y,test_size=.2)\n"
   ]
  },
  {
   "cell_type": "code",
   "execution_count": 8,
   "metadata": {},
   "outputs": [
    {
     "name": "stdout",
     "output_type": "stream",
     "text": [
      "(614, 8)\n",
      "(154, 8)\n",
      "(614,)\n",
      "(154,)\n"
     ]
    }
   ],
   "source": [
    "print(xtrain.shape)\n",
    "print(xtest.shape)\n",
    "print(ytrain.shape)\n",
    "print(ytest.shape)"
   ]
  },
  {
   "cell_type": "code",
   "execution_count": 9,
   "metadata": {},
   "outputs": [],
   "source": [
    "# scaling the data "
   ]
  },
  {
   "cell_type": "code",
   "execution_count": 10,
   "metadata": {},
   "outputs": [],
   "source": [
    "from sklearn.preprocessing import  StandardScaler\n",
    "scale=StandardScaler()\n",
    "xtrain=scale.fit_transform(xtrain)\n",
    "xtest=scale.fit_transform(xtest)"
   ]
  },
  {
   "cell_type": "markdown",
   "metadata": {},
   "source": [
    "# Model without keras tuner"
   ]
  },
  {
   "cell_type": "code",
   "execution_count": 11,
   "metadata": {},
   "outputs": [
    {
     "name": "stdout",
     "output_type": "stream",
     "text": [
      "Model: \"sequential\"\n",
      "_________________________________________________________________\n",
      " Layer (type)                Output Shape              Param #   \n",
      "=================================================================\n",
      " dense (Dense)               (None, 256)               2304      \n",
      "                                                                 \n",
      " dense_1 (Dense)             (None, 128)               32896     \n",
      "                                                                 \n",
      " dense_2 (Dense)             (None, 1)                 129       \n",
      "                                                                 \n",
      "=================================================================\n",
      "Total params: 35329 (138.00 KB)\n",
      "Trainable params: 35329 (138.00 KB)\n",
      "Non-trainable params: 0 (0.00 Byte)\n",
      "_________________________________________________________________\n"
     ]
    }
   ],
   "source": [
    "temp_model=Sequential()\n",
    "temp_model.add(Dense(256,activation='relu',input_dim=8))\n",
    "temp_model.add(Dense(128,activation='relu'))\n",
    "temp_model.add(Dense(1,activation='sigmoid'))\n",
    "temp_model.summary()"
   ]
  },
  {
   "cell_type": "code",
   "execution_count": 12,
   "metadata": {},
   "outputs": [],
   "source": [
    "temp_model.compile(optimizer='adam',loss='binary_crossentropy',metrics=['accuracy'])"
   ]
  },
  {
   "cell_type": "code",
   "execution_count": 13,
   "metadata": {},
   "outputs": [
    {
     "name": "stdout",
     "output_type": "stream",
     "text": [
      "Epoch 1/50\n",
      "20/20 [==============================] - 2s 18ms/step - loss: 0.5562 - accuracy: 0.7280 - val_loss: 0.4992 - val_accuracy: 0.7857\n",
      "Epoch 2/50\n",
      "20/20 [==============================] - 0s 6ms/step - loss: 0.4670 - accuracy: 0.7720 - val_loss: 0.4802 - val_accuracy: 0.7662\n",
      "Epoch 3/50\n",
      "20/20 [==============================] - 0s 5ms/step - loss: 0.4447 - accuracy: 0.7818 - val_loss: 0.4854 - val_accuracy: 0.7662\n",
      "Epoch 4/50\n",
      "20/20 [==============================] - 0s 6ms/step - loss: 0.4372 - accuracy: 0.7801 - val_loss: 0.4918 - val_accuracy: 0.7662\n",
      "Epoch 5/50\n",
      "20/20 [==============================] - 0s 5ms/step - loss: 0.4280 - accuracy: 0.7932 - val_loss: 0.4933 - val_accuracy: 0.7468\n",
      "Epoch 6/50\n",
      "20/20 [==============================] - 0s 6ms/step - loss: 0.4266 - accuracy: 0.7899 - val_loss: 0.4961 - val_accuracy: 0.7532\n",
      "Epoch 7/50\n",
      "20/20 [==============================] - 0s 6ms/step - loss: 0.4209 - accuracy: 0.7948 - val_loss: 0.4985 - val_accuracy: 0.7338\n",
      "Epoch 8/50\n",
      "20/20 [==============================] - 0s 6ms/step - loss: 0.4176 - accuracy: 0.8013 - val_loss: 0.5067 - val_accuracy: 0.7403\n",
      "Epoch 9/50\n",
      "20/20 [==============================] - 0s 6ms/step - loss: 0.4056 - accuracy: 0.8029 - val_loss: 0.5066 - val_accuracy: 0.7273\n",
      "Epoch 10/50\n",
      "20/20 [==============================] - 0s 5ms/step - loss: 0.4099 - accuracy: 0.8111 - val_loss: 0.5168 - val_accuracy: 0.7338\n",
      "Epoch 11/50\n",
      "20/20 [==============================] - 0s 5ms/step - loss: 0.4030 - accuracy: 0.7980 - val_loss: 0.5055 - val_accuracy: 0.7338\n",
      "Epoch 12/50\n",
      "20/20 [==============================] - 0s 5ms/step - loss: 0.3915 - accuracy: 0.8078 - val_loss: 0.5129 - val_accuracy: 0.7468\n",
      "Epoch 13/50\n",
      "20/20 [==============================] - 0s 6ms/step - loss: 0.3875 - accuracy: 0.8192 - val_loss: 0.5101 - val_accuracy: 0.7532\n",
      "Epoch 14/50\n",
      "20/20 [==============================] - 0s 6ms/step - loss: 0.3806 - accuracy: 0.8111 - val_loss: 0.5156 - val_accuracy: 0.7468\n",
      "Epoch 15/50\n",
      "20/20 [==============================] - 0s 5ms/step - loss: 0.3775 - accuracy: 0.8176 - val_loss: 0.5130 - val_accuracy: 0.7403\n",
      "Epoch 16/50\n",
      "20/20 [==============================] - 0s 5ms/step - loss: 0.3734 - accuracy: 0.8225 - val_loss: 0.5155 - val_accuracy: 0.7338\n",
      "Epoch 17/50\n",
      "20/20 [==============================] - 0s 6ms/step - loss: 0.3778 - accuracy: 0.8062 - val_loss: 0.5258 - val_accuracy: 0.7597\n",
      "Epoch 18/50\n",
      "20/20 [==============================] - 0s 5ms/step - loss: 0.3602 - accuracy: 0.8274 - val_loss: 0.5175 - val_accuracy: 0.7468\n",
      "Epoch 19/50\n",
      "20/20 [==============================] - 0s 6ms/step - loss: 0.3620 - accuracy: 0.8192 - val_loss: 0.5248 - val_accuracy: 0.7468\n",
      "Epoch 20/50\n",
      "20/20 [==============================] - 0s 5ms/step - loss: 0.3578 - accuracy: 0.8322 - val_loss: 0.5362 - val_accuracy: 0.7468\n",
      "Epoch 21/50\n",
      "20/20 [==============================] - 0s 5ms/step - loss: 0.3538 - accuracy: 0.8420 - val_loss: 0.5318 - val_accuracy: 0.7597\n",
      "Epoch 22/50\n",
      "20/20 [==============================] - 0s 5ms/step - loss: 0.3537 - accuracy: 0.8290 - val_loss: 0.5367 - val_accuracy: 0.7468\n",
      "Epoch 23/50\n",
      "20/20 [==============================] - 0s 5ms/step - loss: 0.3430 - accuracy: 0.8436 - val_loss: 0.5405 - val_accuracy: 0.7403\n",
      "Epoch 24/50\n",
      "20/20 [==============================] - 0s 5ms/step - loss: 0.3427 - accuracy: 0.8567 - val_loss: 0.5377 - val_accuracy: 0.7338\n",
      "Epoch 25/50\n",
      "20/20 [==============================] - 0s 5ms/step - loss: 0.3346 - accuracy: 0.8502 - val_loss: 0.5465 - val_accuracy: 0.7597\n",
      "Epoch 26/50\n",
      "20/20 [==============================] - 0s 6ms/step - loss: 0.3388 - accuracy: 0.8469 - val_loss: 0.5400 - val_accuracy: 0.7662\n",
      "Epoch 27/50\n",
      "20/20 [==============================] - 0s 5ms/step - loss: 0.3206 - accuracy: 0.8616 - val_loss: 0.5369 - val_accuracy: 0.7597\n",
      "Epoch 28/50\n",
      "20/20 [==============================] - 0s 5ms/step - loss: 0.3188 - accuracy: 0.8550 - val_loss: 0.5527 - val_accuracy: 0.7468\n",
      "Epoch 29/50\n",
      "20/20 [==============================] - 0s 6ms/step - loss: 0.3071 - accuracy: 0.8713 - val_loss: 0.5602 - val_accuracy: 0.7468\n",
      "Epoch 30/50\n",
      "20/20 [==============================] - 0s 5ms/step - loss: 0.3051 - accuracy: 0.8567 - val_loss: 0.5653 - val_accuracy: 0.7338\n",
      "Epoch 31/50\n",
      "20/20 [==============================] - 0s 5ms/step - loss: 0.3033 - accuracy: 0.8681 - val_loss: 0.5553 - val_accuracy: 0.7532\n",
      "Epoch 32/50\n",
      "20/20 [==============================] - 0s 5ms/step - loss: 0.3001 - accuracy: 0.8664 - val_loss: 0.5974 - val_accuracy: 0.7468\n",
      "Epoch 33/50\n",
      "20/20 [==============================] - 0s 6ms/step - loss: 0.2906 - accuracy: 0.8795 - val_loss: 0.5765 - val_accuracy: 0.7468\n",
      "Epoch 34/50\n",
      "20/20 [==============================] - 0s 6ms/step - loss: 0.2909 - accuracy: 0.8827 - val_loss: 0.5866 - val_accuracy: 0.7468\n",
      "Epoch 35/50\n",
      "20/20 [==============================] - 0s 5ms/step - loss: 0.2864 - accuracy: 0.8795 - val_loss: 0.5697 - val_accuracy: 0.7532\n",
      "Epoch 36/50\n",
      "20/20 [==============================] - 0s 5ms/step - loss: 0.2819 - accuracy: 0.8811 - val_loss: 0.5926 - val_accuracy: 0.7208\n",
      "Epoch 37/50\n",
      "20/20 [==============================] - 0s 6ms/step - loss: 0.2763 - accuracy: 0.8746 - val_loss: 0.5795 - val_accuracy: 0.7532\n",
      "Epoch 38/50\n",
      "20/20 [==============================] - 0s 5ms/step - loss: 0.2747 - accuracy: 0.8811 - val_loss: 0.5995 - val_accuracy: 0.7338\n",
      "Epoch 39/50\n",
      "20/20 [==============================] - 0s 5ms/step - loss: 0.2633 - accuracy: 0.8925 - val_loss: 0.5966 - val_accuracy: 0.7208\n",
      "Epoch 40/50\n",
      "20/20 [==============================] - 0s 5ms/step - loss: 0.2553 - accuracy: 0.9039 - val_loss: 0.6090 - val_accuracy: 0.7338\n",
      "Epoch 41/50\n",
      "20/20 [==============================] - 0s 5ms/step - loss: 0.2529 - accuracy: 0.8925 - val_loss: 0.6056 - val_accuracy: 0.7273\n",
      "Epoch 42/50\n",
      "20/20 [==============================] - 0s 5ms/step - loss: 0.2488 - accuracy: 0.8974 - val_loss: 0.6219 - val_accuracy: 0.7468\n",
      "Epoch 43/50\n",
      "20/20 [==============================] - 0s 7ms/step - loss: 0.2430 - accuracy: 0.8925 - val_loss: 0.6259 - val_accuracy: 0.7208\n",
      "Epoch 44/50\n",
      "20/20 [==============================] - 0s 6ms/step - loss: 0.2398 - accuracy: 0.8958 - val_loss: 0.6429 - val_accuracy: 0.7338\n",
      "Epoch 45/50\n",
      "20/20 [==============================] - 0s 5ms/step - loss: 0.2350 - accuracy: 0.9007 - val_loss: 0.6288 - val_accuracy: 0.7532\n",
      "Epoch 46/50\n",
      "20/20 [==============================] - 0s 5ms/step - loss: 0.2332 - accuracy: 0.9055 - val_loss: 0.6315 - val_accuracy: 0.7468\n",
      "Epoch 47/50\n",
      "20/20 [==============================] - 0s 5ms/step - loss: 0.2366 - accuracy: 0.8990 - val_loss: 0.6243 - val_accuracy: 0.7662\n",
      "Epoch 48/50\n",
      "20/20 [==============================] - 0s 5ms/step - loss: 0.2306 - accuracy: 0.9121 - val_loss: 0.6470 - val_accuracy: 0.7208\n",
      "Epoch 49/50\n",
      "20/20 [==============================] - 0s 5ms/step - loss: 0.2386 - accuracy: 0.8909 - val_loss: 0.6668 - val_accuracy: 0.7338\n",
      "Epoch 50/50\n",
      "20/20 [==============================] - 0s 5ms/step - loss: 0.2212 - accuracy: 0.8974 - val_loss: 0.6525 - val_accuracy: 0.7468\n"
     ]
    },
    {
     "data": {
      "text/plain": [
       "<keras.src.callbacks.History at 0x134238cd210>"
      ]
     },
     "execution_count": 13,
     "metadata": {},
     "output_type": "execute_result"
    }
   ],
   "source": [
    "temp_model.fit(xtrain,ytrain,validation_data=(xtest,ytest),epochs=50)"
   ]
  },
  {
   "cell_type": "markdown",
   "metadata": {},
   "source": [
    "So problems in this model is we dont able to know:"
   ]
  },
  {
   "cell_type": "markdown",
   "metadata": {},
   "source": [
    "- how many layers we have to add"
   ]
  },
  {
   "cell_type": "markdown",
   "metadata": {},
   "source": [
    "- how many node a particular layer have"
   ]
  },
  {
   "cell_type": "markdown",
   "metadata": {},
   "source": [
    "- which loss function is best for each layer"
   ]
  },
  {
   "cell_type": "markdown",
   "metadata": {},
   "source": [
    "- which activation function is suitable for every layer"
   ]
  },
  {
   "cell_type": "markdown",
   "metadata": {},
   "source": [
    "- how many epoch the model have to train "
   ]
  },
  {
   "cell_type": "markdown",
   "metadata": {},
   "source": [
    "Here the keras tuner is came into the picture"
   ]
  },
  {
   "cell_type": "markdown",
   "metadata": {},
   "source": [
    "# Model with keras tuner"
   ]
  },
  {
   "cell_type": "code",
   "execution_count": 14,
   "metadata": {},
   "outputs": [
    {
     "name": "stderr",
     "output_type": "stream",
     "text": [
      "C:\\Users\\Asus\\AppData\\Local\\Temp\\ipykernel_19736\\1654478174.py:1: DeprecationWarning: `import kerastuner` is deprecated, please use `import keras_tuner`.\n",
      "  import kerastuner as kt\n"
     ]
    }
   ],
   "source": [
    "import kerastuner as kt"
   ]
  },
  {
   "cell_type": "markdown",
   "metadata": {},
   "source": [
    "There are 6 steps "
   ]
  },
  {
   "cell_type": "markdown",
   "metadata": {},
   "source": [
    "- first is you have to make a function named \"build_model(hp)\" // where hp is the object(hyperparameter)"
   ]
  },
  {
   "cell_type": "markdown",
   "metadata": {},
   "source": [
    "- second is you have to make \"tuner object\" of a class RandomSearch()"
   ]
  },
  {
   "cell_type": "markdown",
   "metadata": {},
   "source": [
    "- you have to call the \"search()\" function using tuner object"
   ]
  },
  {
   "cell_type": "markdown",
   "metadata": {},
   "source": [
    "- extract best hyperparameter "
   ]
  },
  {
   "cell_type": "markdown",
   "metadata": {},
   "source": [
    "- Get Best model"
   ]
  },
  {
   "cell_type": "markdown",
   "metadata": {},
   "source": [
    "- make the model using the best hyperparameter we got"
   ]
  },
  {
   "cell_type": "markdown",
   "metadata": {},
   "source": [
    "## how to tune the appropriate optimizer"
   ]
  },
  {
   "cell_type": "markdown",
   "metadata": {},
   "source": [
    "- step1: build_model()"
   ]
  },
  {
   "cell_type": "code",
   "execution_count": 18,
   "metadata": {},
   "outputs": [],
   "source": [
    "def build_model(hp):\n",
    "    \"\"\"build a model\"\"\"\n",
    "    model=Sequential()\n",
    "    model.add(Dense(256,activation='relu',input_dim=8))\n",
    "    model.add(Dense(128,activation='relu'))\n",
    "    model.add(Dense(1,activation='sigmoid'))\n",
    "    optimizer=hp.Choice('optimizer',values=['adam','sgd','rmsprop','adadelta']) # a function which takes two thing 1st is string and 2nd is list\n",
    "    model.compile(optimizer=optimizer,loss='binary_crossentropy',metrics=['accuracy'])\n",
    "    return model"
   ]
  },
  {
   "cell_type": "markdown",
   "metadata": {},
   "source": [
    "- step2: make a tuner object of class RandomSearch"
   ]
  },
  {
   "cell_type": "code",
   "execution_count": 21,
   "metadata": {},
   "outputs": [
    {
     "name": "stdout",
     "output_type": "stream",
     "text": [
      "Reloading Tuner from .\\untitled_project\\tuner0.json\n"
     ]
    }
   ],
   "source": [
    "tuner=kt.RandomSearch(build_model,objective='val_accuracy',max_trials=5) "
   ]
  },
  {
   "cell_type": "markdown",
   "metadata": {},
   "source": [
    "- step3: call search() using tuner object"
   ]
  },
  {
   "cell_type": "code",
   "execution_count": 22,
   "metadata": {},
   "outputs": [
    {
     "name": "stdout",
     "output_type": "stream",
     "text": [
      "Trial 4 Complete [00h 00m 03s]\n",
      "val_accuracy: 0.3636363744735718\n",
      "\n",
      "Best val_accuracy So Far: 0.6753246784210205\n",
      "Total elapsed time: 00h 08m 42s\n"
     ]
    }
   ],
   "source": [
    "tuner.search(xtrain,ytrain,epochs=5,validation_data=(xtest,ytest))"
   ]
  },
  {
   "cell_type": "markdown",
   "metadata": {},
   "source": [
    "- step4: get best hyperparameter"
   ]
  },
  {
   "cell_type": "code",
   "execution_count": 23,
   "metadata": {},
   "outputs": [
    {
     "data": {
      "text/plain": [
       "{'optimizer': 'sgd'}"
      ]
     },
     "execution_count": 23,
     "metadata": {},
     "output_type": "execute_result"
    }
   ],
   "source": [
    "tuner.get_best_hyperparameters()[0].values"
   ]
  },
  {
   "cell_type": "markdown",
   "metadata": {},
   "source": [
    "- step5: Get best model "
   ]
  },
  {
   "cell_type": "code",
   "execution_count": 25,
   "metadata": {},
   "outputs": [],
   "source": [
    "model=tuner.get_best_models(num_models=1)[0]"
   ]
  },
  {
   "cell_type": "markdown",
   "metadata": {},
   "source": [
    "- step6: train the model"
   ]
  },
  {
   "cell_type": "code",
   "execution_count": 27,
   "metadata": {},
   "outputs": [
    {
     "name": "stdout",
     "output_type": "stream",
     "text": [
      "Epoch 7/100\n",
      "20/20 [==============================] - 1s 18ms/step - loss: 0.5994 - accuracy: 0.7036 - val_loss: 0.6018 - val_accuracy: 0.6753\n",
      "Epoch 8/100\n",
      "20/20 [==============================] - 0s 6ms/step - loss: 0.5861 - accuracy: 0.7231 - val_loss: 0.5909 - val_accuracy: 0.6883\n",
      "Epoch 9/100\n",
      "20/20 [==============================] - 0s 7ms/step - loss: 0.5740 - accuracy: 0.7264 - val_loss: 0.5810 - val_accuracy: 0.6948\n",
      "Epoch 10/100\n",
      "20/20 [==============================] - 0s 6ms/step - loss: 0.5634 - accuracy: 0.7296 - val_loss: 0.5718 - val_accuracy: 0.7273\n",
      "Epoch 11/100\n",
      "20/20 [==============================] - 0s 6ms/step - loss: 0.5530 - accuracy: 0.7492 - val_loss: 0.5634 - val_accuracy: 0.7532\n",
      "Epoch 12/100\n",
      "20/20 [==============================] - 0s 6ms/step - loss: 0.5435 - accuracy: 0.7557 - val_loss: 0.5562 - val_accuracy: 0.7597\n",
      "Epoch 13/100\n",
      "20/20 [==============================] - 0s 6ms/step - loss: 0.5355 - accuracy: 0.7557 - val_loss: 0.5488 - val_accuracy: 0.7532\n",
      "Epoch 14/100\n",
      "20/20 [==============================] - 0s 6ms/step - loss: 0.5274 - accuracy: 0.7557 - val_loss: 0.5419 - val_accuracy: 0.7468\n",
      "Epoch 15/100\n",
      "20/20 [==============================] - 0s 6ms/step - loss: 0.5199 - accuracy: 0.7557 - val_loss: 0.5359 - val_accuracy: 0.7532\n",
      "Epoch 16/100\n",
      "20/20 [==============================] - 0s 6ms/step - loss: 0.5135 - accuracy: 0.7655 - val_loss: 0.5311 - val_accuracy: 0.7662\n",
      "Epoch 17/100\n",
      "20/20 [==============================] - 0s 6ms/step - loss: 0.5077 - accuracy: 0.7590 - val_loss: 0.5260 - val_accuracy: 0.7727\n",
      "Epoch 18/100\n",
      "20/20 [==============================] - 0s 5ms/step - loss: 0.5021 - accuracy: 0.7622 - val_loss: 0.5214 - val_accuracy: 0.7727\n",
      "Epoch 19/100\n",
      "20/20 [==============================] - 0s 5ms/step - loss: 0.4971 - accuracy: 0.7720 - val_loss: 0.5176 - val_accuracy: 0.7597\n",
      "Epoch 20/100\n",
      "20/20 [==============================] - 0s 5ms/step - loss: 0.4926 - accuracy: 0.7769 - val_loss: 0.5138 - val_accuracy: 0.7727\n",
      "Epoch 21/100\n",
      "20/20 [==============================] - 0s 5ms/step - loss: 0.4882 - accuracy: 0.7769 - val_loss: 0.5111 - val_accuracy: 0.7727\n",
      "Epoch 22/100\n",
      "20/20 [==============================] - 0s 5ms/step - loss: 0.4847 - accuracy: 0.7752 - val_loss: 0.5082 - val_accuracy: 0.7727\n",
      "Epoch 23/100\n",
      "20/20 [==============================] - 0s 5ms/step - loss: 0.4811 - accuracy: 0.7769 - val_loss: 0.5056 - val_accuracy: 0.7727\n",
      "Epoch 24/100\n",
      "20/20 [==============================] - 0s 5ms/step - loss: 0.4776 - accuracy: 0.7769 - val_loss: 0.5032 - val_accuracy: 0.7727\n",
      "Epoch 25/100\n",
      "20/20 [==============================] - 0s 10ms/step - loss: 0.4746 - accuracy: 0.7801 - val_loss: 0.5008 - val_accuracy: 0.7857\n",
      "Epoch 26/100\n",
      "20/20 [==============================] - 0s 5ms/step - loss: 0.4718 - accuracy: 0.7785 - val_loss: 0.4989 - val_accuracy: 0.7857\n",
      "Epoch 27/100\n",
      "20/20 [==============================] - 0s 5ms/step - loss: 0.4691 - accuracy: 0.7801 - val_loss: 0.4970 - val_accuracy: 0.7792\n",
      "Epoch 28/100\n",
      "20/20 [==============================] - 0s 5ms/step - loss: 0.4668 - accuracy: 0.7850 - val_loss: 0.4953 - val_accuracy: 0.7857\n",
      "Epoch 29/100\n",
      "20/20 [==============================] - 0s 5ms/step - loss: 0.4648 - accuracy: 0.7834 - val_loss: 0.4942 - val_accuracy: 0.7792\n",
      "Epoch 30/100\n",
      "20/20 [==============================] - 0s 5ms/step - loss: 0.4630 - accuracy: 0.7818 - val_loss: 0.4930 - val_accuracy: 0.7792\n",
      "Epoch 31/100\n",
      "20/20 [==============================] - 0s 6ms/step - loss: 0.4613 - accuracy: 0.7834 - val_loss: 0.4921 - val_accuracy: 0.7792\n",
      "Epoch 32/100\n",
      "20/20 [==============================] - 0s 5ms/step - loss: 0.4598 - accuracy: 0.7866 - val_loss: 0.4911 - val_accuracy: 0.7792\n",
      "Epoch 33/100\n",
      "20/20 [==============================] - 0s 5ms/step - loss: 0.4582 - accuracy: 0.7850 - val_loss: 0.4902 - val_accuracy: 0.7792\n",
      "Epoch 34/100\n",
      "20/20 [==============================] - 0s 5ms/step - loss: 0.4567 - accuracy: 0.7866 - val_loss: 0.4894 - val_accuracy: 0.7792\n",
      "Epoch 35/100\n",
      "20/20 [==============================] - 0s 6ms/step - loss: 0.4552 - accuracy: 0.7834 - val_loss: 0.4887 - val_accuracy: 0.7727\n",
      "Epoch 36/100\n",
      "20/20 [==============================] - 0s 6ms/step - loss: 0.4540 - accuracy: 0.7850 - val_loss: 0.4880 - val_accuracy: 0.7727\n",
      "Epoch 37/100\n",
      "20/20 [==============================] - 0s 5ms/step - loss: 0.4527 - accuracy: 0.7883 - val_loss: 0.4876 - val_accuracy: 0.7727\n",
      "Epoch 38/100\n",
      "20/20 [==============================] - 0s 6ms/step - loss: 0.4518 - accuracy: 0.7866 - val_loss: 0.4872 - val_accuracy: 0.7727\n",
      "Epoch 39/100\n",
      "20/20 [==============================] - 0s 5ms/step - loss: 0.4508 - accuracy: 0.7883 - val_loss: 0.4865 - val_accuracy: 0.7662\n",
      "Epoch 40/100\n",
      "20/20 [==============================] - 0s 5ms/step - loss: 0.4500 - accuracy: 0.7850 - val_loss: 0.4862 - val_accuracy: 0.7662\n",
      "Epoch 41/100\n",
      "20/20 [==============================] - 0s 5ms/step - loss: 0.4489 - accuracy: 0.7915 - val_loss: 0.4858 - val_accuracy: 0.7727\n",
      "Epoch 42/100\n",
      "20/20 [==============================] - 0s 5ms/step - loss: 0.4478 - accuracy: 0.7899 - val_loss: 0.4855 - val_accuracy: 0.7727\n",
      "Epoch 43/100\n",
      "20/20 [==============================] - 0s 6ms/step - loss: 0.4469 - accuracy: 0.7866 - val_loss: 0.4848 - val_accuracy: 0.7727\n",
      "Epoch 44/100\n",
      "20/20 [==============================] - 0s 5ms/step - loss: 0.4462 - accuracy: 0.7883 - val_loss: 0.4847 - val_accuracy: 0.7727\n",
      "Epoch 45/100\n",
      "20/20 [==============================] - 0s 5ms/step - loss: 0.4452 - accuracy: 0.7866 - val_loss: 0.4844 - val_accuracy: 0.7727\n",
      "Epoch 46/100\n",
      "20/20 [==============================] - 0s 5ms/step - loss: 0.4443 - accuracy: 0.7899 - val_loss: 0.4841 - val_accuracy: 0.7727\n",
      "Epoch 47/100\n",
      "20/20 [==============================] - 0s 5ms/step - loss: 0.4435 - accuracy: 0.7899 - val_loss: 0.4840 - val_accuracy: 0.7727\n",
      "Epoch 48/100\n",
      "20/20 [==============================] - 0s 5ms/step - loss: 0.4430 - accuracy: 0.7883 - val_loss: 0.4838 - val_accuracy: 0.7727\n",
      "Epoch 49/100\n",
      "20/20 [==============================] - 0s 5ms/step - loss: 0.4421 - accuracy: 0.7883 - val_loss: 0.4840 - val_accuracy: 0.7662\n",
      "Epoch 50/100\n",
      "20/20 [==============================] - 0s 5ms/step - loss: 0.4414 - accuracy: 0.7883 - val_loss: 0.4844 - val_accuracy: 0.7662\n",
      "Epoch 51/100\n",
      "20/20 [==============================] - 0s 8ms/step - loss: 0.4409 - accuracy: 0.7915 - val_loss: 0.4842 - val_accuracy: 0.7662\n",
      "Epoch 52/100\n",
      "20/20 [==============================] - 0s 5ms/step - loss: 0.4403 - accuracy: 0.7883 - val_loss: 0.4844 - val_accuracy: 0.7662\n",
      "Epoch 53/100\n",
      "20/20 [==============================] - 0s 5ms/step - loss: 0.4397 - accuracy: 0.7883 - val_loss: 0.4843 - val_accuracy: 0.7662\n",
      "Epoch 54/100\n",
      "20/20 [==============================] - 0s 6ms/step - loss: 0.4392 - accuracy: 0.7915 - val_loss: 0.4843 - val_accuracy: 0.7662\n",
      "Epoch 55/100\n",
      "20/20 [==============================] - 0s 6ms/step - loss: 0.4384 - accuracy: 0.7948 - val_loss: 0.4840 - val_accuracy: 0.7662\n",
      "Epoch 56/100\n",
      "20/20 [==============================] - 0s 6ms/step - loss: 0.4381 - accuracy: 0.7964 - val_loss: 0.4839 - val_accuracy: 0.7597\n",
      "Epoch 57/100\n",
      "20/20 [==============================] - 0s 6ms/step - loss: 0.4374 - accuracy: 0.7932 - val_loss: 0.4842 - val_accuracy: 0.7597\n",
      "Epoch 58/100\n",
      "20/20 [==============================] - 0s 5ms/step - loss: 0.4368 - accuracy: 0.7915 - val_loss: 0.4841 - val_accuracy: 0.7597\n",
      "Epoch 59/100\n",
      "20/20 [==============================] - 0s 5ms/step - loss: 0.4365 - accuracy: 0.7899 - val_loss: 0.4842 - val_accuracy: 0.7597\n",
      "Epoch 60/100\n",
      "20/20 [==============================] - 0s 5ms/step - loss: 0.4358 - accuracy: 0.7915 - val_loss: 0.4841 - val_accuracy: 0.7597\n",
      "Epoch 61/100\n",
      "20/20 [==============================] - 0s 5ms/step - loss: 0.4352 - accuracy: 0.7915 - val_loss: 0.4843 - val_accuracy: 0.7597\n",
      "Epoch 62/100\n",
      "20/20 [==============================] - 0s 5ms/step - loss: 0.4348 - accuracy: 0.7915 - val_loss: 0.4846 - val_accuracy: 0.7597\n",
      "Epoch 63/100\n",
      "20/20 [==============================] - 0s 5ms/step - loss: 0.4345 - accuracy: 0.7899 - val_loss: 0.4846 - val_accuracy: 0.7597\n",
      "Epoch 64/100\n",
      "20/20 [==============================] - 0s 5ms/step - loss: 0.4339 - accuracy: 0.7899 - val_loss: 0.4847 - val_accuracy: 0.7597\n",
      "Epoch 65/100\n",
      "20/20 [==============================] - 0s 5ms/step - loss: 0.4336 - accuracy: 0.7932 - val_loss: 0.4849 - val_accuracy: 0.7597\n",
      "Epoch 66/100\n",
      "20/20 [==============================] - 0s 5ms/step - loss: 0.4329 - accuracy: 0.7866 - val_loss: 0.4857 - val_accuracy: 0.7727\n",
      "Epoch 67/100\n",
      "20/20 [==============================] - 0s 5ms/step - loss: 0.4325 - accuracy: 0.7899 - val_loss: 0.4862 - val_accuracy: 0.7727\n",
      "Epoch 68/100\n",
      "20/20 [==============================] - 0s 6ms/step - loss: 0.4322 - accuracy: 0.7850 - val_loss: 0.4868 - val_accuracy: 0.7662\n",
      "Epoch 69/100\n",
      "20/20 [==============================] - 0s 5ms/step - loss: 0.4314 - accuracy: 0.7899 - val_loss: 0.4867 - val_accuracy: 0.7727\n",
      "Epoch 70/100\n",
      "20/20 [==============================] - 0s 5ms/step - loss: 0.4311 - accuracy: 0.7834 - val_loss: 0.4862 - val_accuracy: 0.7662\n",
      "Epoch 71/100\n",
      "20/20 [==============================] - 0s 5ms/step - loss: 0.4305 - accuracy: 0.7866 - val_loss: 0.4864 - val_accuracy: 0.7597\n",
      "Epoch 72/100\n",
      "20/20 [==============================] - 0s 5ms/step - loss: 0.4299 - accuracy: 0.7899 - val_loss: 0.4869 - val_accuracy: 0.7727\n",
      "Epoch 73/100\n",
      "20/20 [==============================] - 0s 9ms/step - loss: 0.4297 - accuracy: 0.7866 - val_loss: 0.4869 - val_accuracy: 0.7662\n",
      "Epoch 74/100\n",
      "20/20 [==============================] - 0s 5ms/step - loss: 0.4292 - accuracy: 0.7915 - val_loss: 0.4871 - val_accuracy: 0.7662\n",
      "Epoch 75/100\n",
      "20/20 [==============================] - 0s 5ms/step - loss: 0.4288 - accuracy: 0.7866 - val_loss: 0.4872 - val_accuracy: 0.7727\n",
      "Epoch 76/100\n",
      "20/20 [==============================] - 0s 5ms/step - loss: 0.4283 - accuracy: 0.7883 - val_loss: 0.4874 - val_accuracy: 0.7662\n",
      "Epoch 77/100\n",
      "20/20 [==============================] - 0s 5ms/step - loss: 0.4282 - accuracy: 0.7883 - val_loss: 0.4875 - val_accuracy: 0.7597\n",
      "Epoch 78/100\n",
      "20/20 [==============================] - 0s 5ms/step - loss: 0.4275 - accuracy: 0.7915 - val_loss: 0.4877 - val_accuracy: 0.7662\n",
      "Epoch 79/100\n",
      "20/20 [==============================] - 0s 6ms/step - loss: 0.4272 - accuracy: 0.7866 - val_loss: 0.4879 - val_accuracy: 0.7662\n",
      "Epoch 80/100\n",
      "20/20 [==============================] - 0s 6ms/step - loss: 0.4267 - accuracy: 0.7883 - val_loss: 0.4878 - val_accuracy: 0.7597\n",
      "Epoch 81/100\n",
      "20/20 [==============================] - 0s 5ms/step - loss: 0.4263 - accuracy: 0.7899 - val_loss: 0.4880 - val_accuracy: 0.7597\n",
      "Epoch 82/100\n",
      "20/20 [==============================] - 0s 5ms/step - loss: 0.4259 - accuracy: 0.7899 - val_loss: 0.4885 - val_accuracy: 0.7597\n",
      "Epoch 83/100\n",
      "20/20 [==============================] - 0s 5ms/step - loss: 0.4256 - accuracy: 0.7915 - val_loss: 0.4891 - val_accuracy: 0.7597\n",
      "Epoch 84/100\n",
      "20/20 [==============================] - 0s 5ms/step - loss: 0.4250 - accuracy: 0.7915 - val_loss: 0.4890 - val_accuracy: 0.7532\n",
      "Epoch 85/100\n",
      "20/20 [==============================] - 0s 5ms/step - loss: 0.4249 - accuracy: 0.7915 - val_loss: 0.4889 - val_accuracy: 0.7532\n",
      "Epoch 86/100\n",
      "20/20 [==============================] - 0s 5ms/step - loss: 0.4244 - accuracy: 0.7932 - val_loss: 0.4891 - val_accuracy: 0.7532\n",
      "Epoch 87/100\n",
      "20/20 [==============================] - 0s 5ms/step - loss: 0.4242 - accuracy: 0.7932 - val_loss: 0.4894 - val_accuracy: 0.7662\n",
      "Epoch 88/100\n",
      "20/20 [==============================] - 0s 5ms/step - loss: 0.4237 - accuracy: 0.7948 - val_loss: 0.4895 - val_accuracy: 0.7662\n",
      "Epoch 89/100\n",
      "20/20 [==============================] - 0s 5ms/step - loss: 0.4233 - accuracy: 0.7964 - val_loss: 0.4899 - val_accuracy: 0.7532\n",
      "Epoch 90/100\n",
      "20/20 [==============================] - 0s 5ms/step - loss: 0.4229 - accuracy: 0.7948 - val_loss: 0.4901 - val_accuracy: 0.7597\n",
      "Epoch 91/100\n",
      "20/20 [==============================] - 0s 5ms/step - loss: 0.4225 - accuracy: 0.7948 - val_loss: 0.4903 - val_accuracy: 0.7532\n",
      "Epoch 92/100\n",
      "20/20 [==============================] - 0s 5ms/step - loss: 0.4224 - accuracy: 0.7915 - val_loss: 0.4906 - val_accuracy: 0.7532\n",
      "Epoch 93/100\n",
      "20/20 [==============================] - 0s 5ms/step - loss: 0.4220 - accuracy: 0.7932 - val_loss: 0.4911 - val_accuracy: 0.7532\n",
      "Epoch 94/100\n",
      "20/20 [==============================] - 0s 5ms/step - loss: 0.4215 - accuracy: 0.7932 - val_loss: 0.4915 - val_accuracy: 0.7597\n",
      "Epoch 95/100\n",
      "20/20 [==============================] - 0s 9ms/step - loss: 0.4212 - accuracy: 0.7964 - val_loss: 0.4924 - val_accuracy: 0.7532\n",
      "Epoch 96/100\n",
      "20/20 [==============================] - 0s 5ms/step - loss: 0.4209 - accuracy: 0.7915 - val_loss: 0.4923 - val_accuracy: 0.7597\n",
      "Epoch 97/100\n",
      "20/20 [==============================] - 0s 6ms/step - loss: 0.4205 - accuracy: 0.7948 - val_loss: 0.4925 - val_accuracy: 0.7597\n",
      "Epoch 98/100\n",
      "20/20 [==============================] - 0s 6ms/step - loss: 0.4199 - accuracy: 0.7964 - val_loss: 0.4928 - val_accuracy: 0.7532\n",
      "Epoch 99/100\n",
      "20/20 [==============================] - 0s 6ms/step - loss: 0.4197 - accuracy: 0.7932 - val_loss: 0.4931 - val_accuracy: 0.7468\n",
      "Epoch 100/100\n",
      "20/20 [==============================] - 0s 5ms/step - loss: 0.4197 - accuracy: 0.7948 - val_loss: 0.4932 - val_accuracy: 0.7532\n"
     ]
    },
    {
     "data": {
      "text/plain": [
       "<keras.src.callbacks.History at 0x134212ccf10>"
      ]
     },
     "execution_count": 27,
     "metadata": {},
     "output_type": "execute_result"
    }
   ],
   "source": [
    "model.fit(xtrain,ytrain,validation_data=(xtest,ytest),initial_epoch=6,epochs=100) # initial_epoch is 6 because we already run 5 epochs"
   ]
  },
  {
   "cell_type": "code",
   "execution_count": null,
   "metadata": {},
   "outputs": [],
   "source": []
  }
 ],
 "metadata": {
  "kernelspec": {
   "display_name": "Python 3",
   "language": "python",
   "name": "python3"
  },
  "language_info": {
   "codemirror_mode": {
    "name": "ipython",
    "version": 3
   },
   "file_extension": ".py",
   "mimetype": "text/x-python",
   "name": "python",
   "nbconvert_exporter": "python",
   "pygments_lexer": "ipython3",
   "version": "3.10.11"
  }
 },
 "nbformat": 4,
 "nbformat_minor": 2
}
